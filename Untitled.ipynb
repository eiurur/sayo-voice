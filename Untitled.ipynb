{
 "cells": [
  {
   "cell_type": "code",
   "execution_count": 52,
   "metadata": {},
   "outputs": [],
   "source": [
    "from __future__ import print_function\n",
    "import sys\n",
    "import cv2\n",
    "import os\n",
    "import math\n",
    "import glob\n",
    "from PIL import Image\n",
    "import numpy as np\n",
    "import matplotlib.pyplot as plt\n",
    "from tqdm.notebook import tqdm\n",
    "from datetime import datetime\n",
    "%matplotlib inline\n"
   ]
  },
  {
   "cell_type": "code",
   "execution_count": 53,
   "metadata": {},
   "outputs": [
    {
     "data": {
      "text/plain": [
       "'\\nimport pyocr\\nimport pyocr.builders\\n\\n# 1.インストール済みのTesseractのパスを通す\\nTESSERACT_PATH = \"C:\\\\Users\\\\eiuru\\\\AppData\\\\Local\\\\Tesseract-OCR\"\\nTESSDATA_PATH = \\'C:\\\\Users\\\\eiuru\\\\AppData\\\\Local\\\\Tesseract-OCR\\\\tessdata\\'\\n\\nif TESSERACT_PATH not in os.environ[\"PATH\"].split(os.pathsep):\\n    os.environ[\"PATH\"] += os.pathsep + TESSERACT_PATH\\n    os.environ[\"TESSDATA_PREFIX\"] = TESSDATA_PATH\\n    \\n# 2.OCRエンジンの取得\\ntools = pyocr.get_available_tools()\\nif len(tools) == 0:\\n    print(\"No OCR tool found\")\\n    sys.exit(1)\\ntool = tools[0]\\n\\nprint(\"Will use tool \\'%s\\'\" % (tool.get_name())) # 使用するOCRツールの名前が出ます，変えたい場合は一個前の参照先を変えること\\n\\nlangs = tool.get_available_languages() # 使用できる言語の確認\\nprint(\"Available languages: %s\" % \", \".join(langs))\\n\\nlang = langs[0]\\nprint(\"Will use lang \\'%s\\'\" % (lang)) # 使用する言語について\\n'"
      ]
     },
     "execution_count": 53,
     "metadata": {},
     "output_type": "execute_result"
    }
   ],
   "source": [
    "\"\"\"\n",
    "import pyocr\n",
    "import pyocr.builders\n",
    "\n",
    "# 1.インストール済みのTesseractのパスを通す\n",
    "TESSERACT_PATH = \"C:\\\\Users\\eiuru\\\\AppData\\\\Local\\\\Tesseract-OCR\"\n",
    "TESSDATA_PATH = 'C:\\\\Users\\\\eiuru\\\\AppData\\\\Local\\\\Tesseract-OCR\\\\tessdata'\n",
    "\n",
    "if TESSERACT_PATH not in os.environ[\"PATH\"].split(os.pathsep):\n",
    "    os.environ[\"PATH\"] += os.pathsep + TESSERACT_PATH\n",
    "    os.environ[\"TESSDATA_PREFIX\"] = TESSDATA_PATH\n",
    "    \n",
    "# 2.OCRエンジンの取得\n",
    "tools = pyocr.get_available_tools()\n",
    "if len(tools) == 0:\n",
    "    print(\"No OCR tool found\")\n",
    "    sys.exit(1)\n",
    "tool = tools[0]\n",
    "\n",
    "print(\"Will use tool '%s'\" % (tool.get_name())) # 使用するOCRツールの名前が出ます，変えたい場合は一個前の参照先を変えること\n",
    "\n",
    "langs = tool.get_available_languages() # 使用できる言語の確認\n",
    "print(\"Available languages: %s\" % \", \".join(langs))\n",
    "\n",
    "lang = langs[0]\n",
    "print(\"Will use lang '%s'\" % (lang)) # 使用する言語について\n",
    "\"\"\""
   ]
  },
  {
   "cell_type": "code",
   "execution_count": 54,
   "metadata": {},
   "outputs": [
    {
     "name": "stdout",
     "output_type": "stream",
     "text": [
      "OpenCV: 4.4.0\n"
     ]
    }
   ],
   "source": [
    "#print('numpy:', np.__version__)\n",
    "#print('pandas:', pd.__version__)\n",
    "#print('matplotlib:', mplv)\n",
    "print('OpenCV:', cv2.__version__)"
   ]
  },
  {
   "cell_type": "code",
   "execution_count": 55,
   "metadata": {},
   "outputs": [],
   "source": [
    "THRESHOLD = 50.0"
   ]
  },
  {
   "cell_type": "code",
   "execution_count": 56,
   "metadata": {},
   "outputs": [],
   "source": [
    "def list_files(dir):\n",
    "    return [os.path.join(dir, p.name) for p in os.scandir(dir)]"
   ]
  },
  {
   "cell_type": "code",
   "execution_count": 72,
   "metadata": {},
   "outputs": [],
   "source": [
    "def capture(p):\n",
    "    records = [p]\n",
    "\n",
    "    cwd = os.getcwd()\n",
    "    name_file = os.path.join(cwd, 'name.png')\n",
    "\n",
    "    cap = cv2.VideoCapture(p)\n",
    "    frame_count = int(cap.get(cv2.CAP_PROP_FRAME_COUNT))\n",
    "    fps = int(cap.get(cv2.CAP_PROP_FPS))\n",
    "    print(\"PATH: \", p)\n",
    "    print(\"FRAME_COUNT: \", frame_count)\n",
    "    print(\"FPS: \", fps)\n",
    "\n",
    "    start_frame = -1\n",
    "    start_pos = 0 # fps:  fps * (60 * 20) .. 20分\n",
    "    \n",
    "    pbar = tqdm(range(start_pos, frame_count, int(fps/fps)))\n",
    "    for idx in pbar:\n",
    "        cap.set(cv2.CAP_PROP_POS_FRAMES, idx)\n",
    "        current_pos = str(int(cap.get(cv2.CAP_PROP_POS_FRAMES)))\n",
    "        ret, frame = cap.read()\n",
    "        if frame is None: continue\n",
    "            \n",
    "        rgb = cv2.cvtColor(frame, cv2.COLOR_BGR2GRAY)\n",
    "        (height, width) = rgb.shape[:2]\n",
    "        if height != 1080 and width != 1920: break\n",
    "\n",
    "        # print(height, width)\n",
    "        crop = rgb[780:850, 230:450] # 1920 x 1080:  rgb[775:850, 200:660]　, [790:840, 230:350] \n",
    "        serif = rgb[780:1050, 200:1600] # 1920 x 1080:  rgb[775:850, 200:660]　, [790:840, 230:350] \n",
    "        \"\"\"\n",
    "        plt.gray()\n",
    "        plt.imshow(crop)\n",
    "        plt.imshow(serif)\n",
    "        plt.show()\n",
    "        \"\"\"\n",
    "        crop_image_path = os.path.join(cwd, 'temp.png')\n",
    "        cv2.imwrite(crop_image_path, crop)\n",
    "\n",
    "        target_img = cv2.imread(crop_image_path, cv2.IMREAD_GRAYSCALE)\n",
    "        comparing_img = cv2.imread(name_file, cv2.IMREAD_GRAYSCALE)\n",
    "        detector = cv2.ORB_create()\n",
    "        (target_kp, target_des) = detector.detectAndCompute(target_img, None)\n",
    "        (comparing_kp, comparing_des) = detector.detectAndCompute(comparing_img, None)\n",
    "\n",
    "        bf = cv2.BFMatcher(cv2.NORM_HAMMING, crossCheck=True)\n",
    "        matches = bf.match(target_des, comparing_des)\n",
    "        matches = sorted(matches, key = lambda x:x.distance)\n",
    "        dist = [m.distance for m in matches]\n",
    "        if len(dist) == 0: continue\n",
    "        ret = sum(dist) / len(dist)\n",
    "        if start_frame == -1 and ret <= THRESHOLD:\n",
    "            start_frame = idx\n",
    "        if start_frame != -1 and ret > THRESHOLD:\n",
    "            end_frame = idx\n",
    "            records.append(\"{}-{}\".format(start_frame, end_frame))\n",
    "            start_frame = -1\n",
    "        # print(ret)\n",
    "    cap.release()\n",
    "    return records\n"
   ]
  },
  {
   "cell_type": "code",
   "execution_count": null,
   "metadata": {
    "scrolled": true
   },
   "outputs": [
    {
     "name": "stdout",
     "output_type": "stream",
     "text": [
      "2020-11-01 13:58:38\n"
     ]
    },
    {
     "data": {
      "application/vnd.jupyter.widget-view+json": {
       "model_id": "74cfcd4804074a0580316488bffb3e2f",
       "version_major": 2,
       "version_minor": 0
      },
      "text/plain": [
       "HBox(children=(HTML(value=''), FloatProgress(value=0.0, max=76.0), HTML(value='')))"
      ]
     },
     "metadata": {},
     "output_type": "display_data"
    },
    {
     "name": "stdout",
     "output_type": "stream",
     "text": [
      "D:\\workspace\\Github\\development_projects\\00_developing\\sayo-voice\\movies\\s1\\【ガルパ】ハッピーバレンタイン ストーリー [1080p 60fps]-Xvfc1izTNcg.mp4\n",
      "D:\\workspace\\Github\\development_projects\\00_developing\\sayo-voice\\movies\\s1\\【ガルパ】バレンタイン 限定 ストーリー [みんなでチョコ作り！][FHD 60fps][バレンタイン💖]-Y8hPrCplVQw.mp4\n",
      "PATH:  D:\\workspace\\Github\\development_projects\\00_developing\\sayo-voice\\movies\\s1\\【ガルパ】バレンタイン 限定 ストーリー [みんなでチョコ作り！][FHD 60fps][バレンタイン💖]-Y8hPrCplVQw.mp4\n",
      "FRAME_COUNT:  5739\n",
      "FPS:  60\n"
     ]
    },
    {
     "data": {
      "application/vnd.jupyter.widget-view+json": {
       "model_id": "2a2c60af943d45a3b20c7f4417bacb21",
       "version_major": 2,
       "version_minor": 0
      },
      "text/plain": [
       "HBox(children=(HTML(value=''), FloatProgress(value=0.0, max=5739.0), HTML(value='')))"
      ]
     },
     "metadata": {},
     "output_type": "display_data"
    },
    {
     "name": "stdout",
     "output_type": "stream",
     "text": [
      "\n",
      "D:\\workspace\\Github\\development_projects\\00_developing\\sayo-voice\\records\\s1\\【ガルパ】バレンタイン 限定 ストーリー [みんなでチョコ作り！][FHD 60fps][バレンタイン💖]-Y8hPrCplVQw.txt ['D:\\\\workspace\\\\Github\\\\development_projects\\\\00_developing\\\\sayo-voice\\\\movies\\\\s1\\\\【ガルパ】バレンタイン 限定 ストーリー [みんなでチョコ作り！][FHD 60fps][バレンタイン💖]-Y8hPrCplVQw.mp4']\n",
      "D:\\workspace\\Github\\development_projects\\00_developing\\sayo-voice\\movies\\s1\\【ガルパ】今年も宜しくお願いしますm(_ _)m-s112OyszaXw.mp4\n",
      "PATH:  D:\\workspace\\Github\\development_projects\\00_developing\\sayo-voice\\movies\\s1\\【ガルパ】今年も宜しくお願いしますm(_ _)m-s112OyszaXw.mp4\n",
      "FRAME_COUNT:  1241\n",
      "FPS:  60\n"
     ]
    },
    {
     "data": {
      "application/vnd.jupyter.widget-view+json": {
       "model_id": "500c5bc222fa4853bc2198a6abed42df",
       "version_major": 2,
       "version_minor": 0
      },
      "text/plain": [
       "HBox(children=(HTML(value=''), FloatProgress(value=0.0, max=1241.0), HTML(value='')))"
      ]
     },
     "metadata": {},
     "output_type": "display_data"
    },
    {
     "name": "stdout",
     "output_type": "stream",
     "text": [
      "\n",
      "D:\\workspace\\Github\\development_projects\\00_developing\\sayo-voice\\records\\s1\\【ガルパ】今年も宜しくお願いしますm(_ _)m-s112OyszaXw.txt ['D:\\\\workspace\\\\Github\\\\development_projects\\\\00_developing\\\\sayo-voice\\\\movies\\\\s1\\\\【ガルパ】今年も宜しくお願いしますm(_ _)m-s112OyszaXw.mp4']\n",
      "D:\\workspace\\Github\\development_projects\\00_developing\\sayo-voice\\movies\\s1\\【ガルパ】新春！波乱のおみくじ ニューイヤー前の話[1080p 60fps]-ADkWCCAnTyA.mp4\n",
      "PATH:  D:\\workspace\\Github\\development_projects\\00_developing\\sayo-voice\\movies\\s1\\【ガルパ】新春！波乱のおみくじ ニューイヤー前の話[1080p 60fps]-ADkWCCAnTyA.mp4\n",
      "FRAME_COUNT:  26433\n",
      "FPS:  60\n"
     ]
    },
    {
     "data": {
      "application/vnd.jupyter.widget-view+json": {
       "model_id": "8dea9f3476b8408e824c5db71be967dd",
       "version_major": 2,
       "version_minor": 0
      },
      "text/plain": [
       "HBox(children=(HTML(value=''), FloatProgress(value=0.0, max=26433.0), HTML(value='')))"
      ]
     },
     "metadata": {},
     "output_type": "display_data"
    },
    {
     "name": "stdout",
     "output_type": "stream",
     "text": [
      "\n",
      "D:\\workspace\\Github\\development_projects\\00_developing\\sayo-voice\\records\\s1\\【ガルパ】新春！波乱のおみくじ ニューイヤー前の話[1080p 60fps]-ADkWCCAnTyA.txt ['D:\\\\workspace\\\\Github\\\\development_projects\\\\00_developing\\\\sayo-voice\\\\movies\\\\s1\\\\【ガルパ】新春！波乱のおみくじ ニューイヤー前の話[1080p 60fps]-ADkWCCAnTyA.mp4']\n",
      "D:\\workspace\\Github\\development_projects\\00_developing\\sayo-voice\\movies\\s1\\【バンドリ　ガルパ】2018 クリスマス 限定 ストーリー🎄-QdmUvm9FNOg.mp4\n",
      "PATH:  D:\\workspace\\Github\\development_projects\\00_developing\\sayo-voice\\movies\\s1\\【バンドリ　ガルパ】2018 クリスマス 限定 ストーリー🎄-QdmUvm9FNOg.mp4\n",
      "FRAME_COUNT:  6377\n",
      "FPS:  57\n"
     ]
    },
    {
     "data": {
      "application/vnd.jupyter.widget-view+json": {
       "model_id": "0565cc0aa67448de8081a13d7d81df32",
       "version_major": 2,
       "version_minor": 0
      },
      "text/plain": [
       "HBox(children=(HTML(value=''), FloatProgress(value=0.0, max=6377.0), HTML(value='')))"
      ]
     },
     "metadata": {},
     "output_type": "display_data"
    },
    {
     "name": "stdout",
     "output_type": "stream",
     "text": [
      "\n",
      "D:\\workspace\\Github\\development_projects\\00_developing\\sayo-voice\\records\\s1\\【バンドリ　ガルパ】2018 クリスマス 限定 ストーリー🎄-QdmUvm9FNOg.txt ['D:\\\\workspace\\\\Github\\\\development_projects\\\\00_developing\\\\sayo-voice\\\\movies\\\\s1\\\\【バンドリ\\u3000ガルパ】2018 クリスマス 限定 ストーリー🎄-QdmUvm9FNOg.mp4']\n",
      "D:\\workspace\\Github\\development_projects\\00_developing\\sayo-voice\\movies\\s1\\【バンドリ　ガルパ】2018 ハロウィン 限定 ストーリー🎃-02FiyXn6Hqo.mp4\n",
      "PATH:  D:\\workspace\\Github\\development_projects\\00_developing\\sayo-voice\\movies\\s1\\【バンドリ　ガルパ】2018 ハロウィン 限定 ストーリー🎃-02FiyXn6Hqo.mp4\n",
      "FRAME_COUNT:  6362\n",
      "FPS:  52\n"
     ]
    },
    {
     "data": {
      "application/vnd.jupyter.widget-view+json": {
       "model_id": "f2eb47ec671149bdaa7ce81aaf46a84b",
       "version_major": 2,
       "version_minor": 0
      },
      "text/plain": [
       "HBox(children=(HTML(value=''), FloatProgress(value=0.0, max=6362.0), HTML(value='')))"
      ]
     },
     "metadata": {},
     "output_type": "display_data"
    },
    {
     "name": "stdout",
     "output_type": "stream",
     "text": [
      "\n",
      "D:\\workspace\\Github\\development_projects\\00_developing\\sayo-voice\\records\\s1\\【バンドリ　ガルパ】2018 ハロウィン 限定 ストーリー🎃-02FiyXn6Hqo.txt ['D:\\\\workspace\\\\Github\\\\development_projects\\\\00_developing\\\\sayo-voice\\\\movies\\\\s1\\\\【バンドリ\\u3000ガルパ】2018 ハロウィン 限定 ストーリー🎃-02FiyXn6Hqo.mp4']\n",
      "D:\\workspace\\Github\\development_projects\\00_developing\\sayo-voice\\movies\\s1\\【バンドリ　ガルパ】6番目のAfterglowイベント全話 [1080p 60fps]-XAwGjotIiao.mp4\n",
      "PATH:  D:\\workspace\\Github\\development_projects\\00_developing\\sayo-voice\\movies\\s1\\【バンドリ　ガルパ】6番目のAfterglowイベント全話 [1080p 60fps]-XAwGjotIiao.mp4\n",
      "FRAME_COUNT:  113694\n",
      "FPS:  60\n"
     ]
    },
    {
     "data": {
      "application/vnd.jupyter.widget-view+json": {
       "model_id": "6a37e1cd676e4b32b247d4bf9600889e",
       "version_major": 2,
       "version_minor": 0
      },
      "text/plain": [
       "HBox(children=(HTML(value=''), FloatProgress(value=0.0, max=113694.0), HTML(value='')))"
      ]
     },
     "metadata": {},
     "output_type": "display_data"
    }
   ],
   "source": [
    "def main():\n",
    "    cwd = os.getcwd()\n",
    "    movie_dir = os.path.join(cwd, 'movies')\n",
    "    \"\"\"\n",
    "    test_movies = list_files(os.path.join(movie_dir, 'test'))\n",
    "    band_movies = list_files(os.path.join(movie_dir, 'band'))\n",
    "    s1_movies = list_files(os.path.join(movie_dir, 's1')) \n",
    "    s2_movies = list_files(os.path.join(movie_dir, 's2')) \n",
    "    \"\"\"\n",
    "    crop_dir = os.path.join(cwd, 'crops')\n",
    "    if not os.path.exists(crop_dir):\n",
    "        os.makedirs(crop_dir, exist_ok=True)\n",
    "    \n",
    "    for series_name in ['s1', 's2']:\n",
    "        movies = list_files(os.path.join(movie_dir, series_name))\n",
    "        record_dir = os.path.join(cwd, \"records\", series_name)\n",
    "        if not os.path.exists(record_dir):\n",
    "            os.makedirs(record_dir, exist_ok=True)\n",
    "\n",
    "        pbar = tqdm(movies)\n",
    "        for p in pbar:\n",
    "            try:\n",
    "                print(p)\n",
    "                p_without_ext = os.path.splitext(os.path.basename(p))[0]\n",
    "                record_file = os.path.join(record_dir, \"{}.txt\".format(p_without_ext))\n",
    "                if os.path.exists(record_file): continue\n",
    "\n",
    "                records = capture(p)\n",
    "                with open(record_file, \"w\", encoding='UTF-8') as f:\n",
    "                    print(record_file, records)\n",
    "                    f.write('\\n'.join(records))\n",
    "            except Exception as e:\n",
    "                print(\"ERROR: \", p)\n",
    "                print(e)\n",
    "                pbar.update(1)\n",
    "\n",
    "\n",
    "if __name__ == \"__main__\":\n",
    "    print(datetime.now().strftime('%Y-%m-%d %H:%M:%S'))\n",
    "    main()\n",
    "    "
   ]
  },
  {
   "cell_type": "code",
   "execution_count": null,
   "metadata": {},
   "outputs": [],
   "source": []
  },
  {
   "cell_type": "code",
   "execution_count": null,
   "metadata": {},
   "outputs": [],
   "source": []
  }
 ],
 "metadata": {
  "kernelspec": {
   "display_name": "Python 3",
   "language": "python",
   "name": "python3"
  },
  "language_info": {
   "codemirror_mode": {
    "name": "ipython",
    "version": 3
   },
   "file_extension": ".py",
   "mimetype": "text/x-python",
   "name": "python",
   "nbconvert_exporter": "python",
   "pygments_lexer": "ipython3",
   "version": "3.6.10"
  }
 },
 "nbformat": 4,
 "nbformat_minor": 4
}
