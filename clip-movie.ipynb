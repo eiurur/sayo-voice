{
 "cells": [
  {
   "cell_type": "code",
   "execution_count": 20,
   "metadata": {},
   "outputs": [],
   "source": [
    "from __future__ import print_function\n",
    "import sys\n",
    "import cv2\n",
    "import os\n",
    "import math\n",
    "import glob\n",
    "import hashlib\n",
    "from time import sleep\n",
    "import numpy as np\n",
    "import matplotlib.pyplot as plt\n",
    "import shutil\n",
    "import site\n",
    "from PIL import Image\n",
    "from tqdm.notebook import tqdm\n",
    "from datetime import datetime\n",
    "from multiprocessing import Pool\n",
    "from moviepy.editor import *\n",
    "\n",
    "%matplotlib inline\n"
   ]
  },
  {
   "cell_type": "code",
   "execution_count": 21,
   "metadata": {},
   "outputs": [
    {
     "name": "stdout",
     "output_type": "stream",
     "text": [
      "OpenCV: 4.4.0\n",
      "['C:/Users/eiuru/Anaconda3/envs/py36-keras-cntk', 'C:/Users/eiuru/Anaconda3/envs/py36-keras-cntk/lib/site-packages']\n"
     ]
    }
   ],
   "source": [
    "#print('numpy:', np.__version__)\n",
    "#print('pandas:', pd.__version__)\n",
    "#print('matplotlib:', mplv)\n",
    "print('OpenCV:', cv2.__version__)\n",
    "print(list(map(lambda x: x.replace(\"\\\\\", \"/\"), site.getsitepackages())))"
   ]
  },
  {
   "cell_type": "code",
   "execution_count": null,
   "metadata": {},
   "outputs": [],
   "source": []
  },
  {
   "cell_type": "code",
   "execution_count": 22,
   "metadata": {},
   "outputs": [],
   "source": [
    "CLIP_TARGET_FOLDER_NAMES = [\"s1\", \"s2\"]\n",
    "CHARACTOR_NAMES = [\"sayo\", \"tsugumi\", \"tae\", \"kanon\", \"hina\", \"aya\", \"eve\"]"
   ]
  },
  {
   "cell_type": "code",
   "execution_count": 23,
   "metadata": {},
   "outputs": [],
   "source": [
    "def list_files(dir):\n",
    "    return [os.path.join(dir, p.name) for p in os.scandir(dir)]\n",
    "\n",
    "def get_filename_without_ext(p):\n",
    "    return os.path.splitext(os.path.basename(p))[0]\n",
    "\n",
    "def get_filename_andext(p):\n",
    "    return os.path.splitext(os.path.basename(p))"
   ]
  },
  {
   "cell_type": "code",
   "execution_count": 24,
   "metadata": {},
   "outputs": [],
   "source": [
    "def clip_movie(movie_file_path, clips, dst):\n",
    "    video = VideoFileClip(movie_file_path)\n",
    "    print(movie_file_path, clips, dst)\n",
    "    clipsArray = [] \n",
    "    for clip in clips:\n",
    "        [startTime, endTime] = list(map(int, clip.split('-')))\n",
    "        print(startTime, endTime)\n",
    "        clip = video.subclip(startTime / video.fps, endTime / video.fps)\n",
    "        clipsArray.append(clip)\n",
    "    final = concatenate_videoclips(clipsArray)\n",
    "    final.write_videofile(dst, fps=video.fps, codec='libx264', audio_codec=\"aac\")\n",
    "    "
   ]
  },
  {
   "cell_type": "code",
   "execution_count": null,
   "metadata": {},
   "outputs": [],
   "source": []
  },
  {
   "cell_type": "code",
   "execution_count": 37,
   "metadata": {},
   "outputs": [
    {
     "name": "stdout",
     "output_type": "stream",
     "text": [
      "2020-11-08 00:55:57\n"
     ]
    },
    {
     "data": {
      "application/vnd.jupyter.widget-view+json": {
       "model_id": "9f1adc3abbf645df8cbe012a41cee848",
       "version_major": 2,
       "version_minor": 0
      },
      "text/plain": [
       "HBox(children=(HTML(value=''), FloatProgress(value=0.0, max=28.0), HTML(value='')))"
      ]
     },
     "metadata": {},
     "output_type": "display_data"
    },
    {
     "name": "stdout",
     "output_type": "stream",
     "text": [
      "\n"
     ]
    },
    {
     "data": {
      "application/vnd.jupyter.widget-view+json": {
       "model_id": "c7698526e8f242a5a048df3ddb334595",
       "version_major": 2,
       "version_minor": 0
      },
      "text/plain": [
       "HBox(children=(HTML(value=''), FloatProgress(value=0.0, max=28.0), HTML(value='')))"
      ]
     },
     "metadata": {},
     "output_type": "display_data"
    },
    {
     "name": "stdout",
     "output_type": "stream",
     "text": [
      "D:\\workspace\\Github\\development_projects\\00_developing\\sayo-voice\\crop_tmp\\tsugumi\\s1\\41e7fd79112c1dcfbe8cd8c9123de423.mp4 ['1040-1078', '1096-1118', '5465-5467', '12235-12241', '13762-13769', '13780-13781', '13792-13796', '13798-13807', '18601-18640', '28480-28495', '31427-31430', '31439-31441', '45946-45970', '45986-45998', '52888-53023', '60074-60124', '66235-66241', '66274-66277', '66313-66361', '86992-87007', '90152-90166', '91160-91255', '92209-92221', '97958-97960', '97963-97964', '99820-99821', '100699-100712'] D:\\workspace\\Github\\development_projects\\00_developing\\sayo-voice\\crop_movies\\tsugumi\\s1\\41e7fd79112c1dcfbe8cd8c9123de423.mp4\n",
      "1040 1078\n",
      "1096 1118\n",
      "5465 5467\n",
      "12235 12241\n",
      "13762 13769\n",
      "13780 13781\n",
      "13792 13796\n",
      "13798 13807\n",
      "18601 18640\n",
      "28480 28495\n",
      "31427 31430\n",
      "31439 31441\n",
      "45946 45970\n",
      "45986 45998\n",
      "52888 53023\n",
      "60074 60124\n",
      "66235 66241\n",
      "66274 66277\n",
      "66313 66361\n",
      "86992 87007\n",
      "90152 90166\n",
      "91160 91255\n",
      "92209 92221\n",
      "97958 97960\n",
      "97963 97964\n",
      "99820 99821\n",
      "100699 100712\n"
     ]
    },
    {
     "name": "stderr",
     "output_type": "stream",
     "text": [
      "\r",
      "chunk:   0%|                                                                  | 0/313 [00:00<?, ?it/s, now=None]"
     ]
    },
    {
     "name": "stdout",
     "output_type": "stream",
     "text": [
      "Moviepy - Building video D:\\workspace\\Github\\development_projects\\00_developing\\sayo-voice\\crop_movies\\tsugumi\\s1\\41e7fd79112c1dcfbe8cd8c9123de423.mp4.\n",
      "MoviePy - Writing audio in 41e7fd79112c1dcfbe8cd8c9123de423TEMP_MPY_wvf_snd.mp4\n"
     ]
    },
    {
     "name": "stderr",
     "output_type": "stream",
     "text": [
      "t:   0%|                                                                      | 0/580 [00:00<?, ?it/s, now=None]"
     ]
    },
    {
     "name": "stdout",
     "output_type": "stream",
     "text": [
      "MoviePy - Done.\n",
      "Moviepy - Writing video D:\\workspace\\Github\\development_projects\\00_developing\\sayo-voice\\crop_movies\\tsugumi\\s1\\41e7fd79112c1dcfbe8cd8c9123de423.mp4\n",
      "\n"
     ]
    },
    {
     "name": "stderr",
     "output_type": "stream",
     "text": [
      "                                                                                                                \r"
     ]
    },
    {
     "name": "stdout",
     "output_type": "stream",
     "text": [
      "Moviepy - Done !\n",
      "Moviepy - video ready D:\\workspace\\Github\\development_projects\\00_developing\\sayo-voice\\crop_movies\\tsugumi\\s1\\41e7fd79112c1dcfbe8cd8c9123de423.mp4\n",
      "\n"
     ]
    },
    {
     "data": {
      "application/vnd.jupyter.widget-view+json": {
       "model_id": "d4d26eb2bec7461aa3429a57defa5ddb",
       "version_major": 2,
       "version_minor": 0
      },
      "text/plain": [
       "HBox(children=(HTML(value=''), FloatProgress(value=0.0, max=28.0), HTML(value='')))"
      ]
     },
     "metadata": {},
     "output_type": "display_data"
    },
    {
     "name": "stdout",
     "output_type": "stream",
     "text": [
      "\n"
     ]
    },
    {
     "data": {
      "application/vnd.jupyter.widget-view+json": {
       "model_id": "3958eb63df8146e2ba6c7a8c642fa653",
       "version_major": 2,
       "version_minor": 0
      },
      "text/plain": [
       "HBox(children=(HTML(value=''), FloatProgress(value=0.0, max=28.0), HTML(value='')))"
      ]
     },
     "metadata": {},
     "output_type": "display_data"
    },
    {
     "name": "stdout",
     "output_type": "stream",
     "text": [
      "\n"
     ]
    },
    {
     "data": {
      "application/vnd.jupyter.widget-view+json": {
       "model_id": "292d31b91c914cdd9763fbdeff23319d",
       "version_major": 2,
       "version_minor": 0
      },
      "text/plain": [
       "HBox(children=(HTML(value=''), FloatProgress(value=0.0, max=28.0), HTML(value='')))"
      ]
     },
     "metadata": {},
     "output_type": "display_data"
    },
    {
     "name": "stdout",
     "output_type": "stream",
     "text": [
      "\n"
     ]
    },
    {
     "data": {
      "application/vnd.jupyter.widget-view+json": {
       "model_id": "aa836d45f47f4d7b80b9426f119eb78e",
       "version_major": 2,
       "version_minor": 0
      },
      "text/plain": [
       "HBox(children=(HTML(value=''), FloatProgress(value=0.0, max=28.0), HTML(value='')))"
      ]
     },
     "metadata": {},
     "output_type": "display_data"
    },
    {
     "name": "stdout",
     "output_type": "stream",
     "text": [
      "\n"
     ]
    },
    {
     "data": {
      "application/vnd.jupyter.widget-view+json": {
       "model_id": "393e34bf5c4c40239a763bc98e7dd20e",
       "version_major": 2,
       "version_minor": 0
      },
      "text/plain": [
       "HBox(children=(HTML(value=''), FloatProgress(value=0.0, max=28.0), HTML(value='')))"
      ]
     },
     "metadata": {},
     "output_type": "display_data"
    },
    {
     "name": "stdout",
     "output_type": "stream",
     "text": [
      "\n"
     ]
    },
    {
     "ename": "FileNotFoundError",
     "evalue": "[WinError 3] 指定されたパスが見つかりません。: 'D:\\\\workspace\\\\Github\\\\development_projects\\\\00_developing\\\\sayo-voice\\\\records\\\\sayo\\\\s2'",
     "output_type": "error",
     "traceback": [
      "\u001b[1;31m---------------------------------------------------------------------------\u001b[0m",
      "\u001b[1;31mFileNotFoundError\u001b[0m                         Traceback (most recent call last)",
      "\u001b[1;32m<ipython-input-37-745c5ccd9ce8>\u001b[0m in \u001b[0;36m<module>\u001b[1;34m\u001b[0m\n\u001b[0;32m     37\u001b[0m \u001b[1;32mif\u001b[0m \u001b[0m__name__\u001b[0m \u001b[1;33m==\u001b[0m \u001b[1;34m\"__main__\"\u001b[0m\u001b[1;33m:\u001b[0m\u001b[1;33m\u001b[0m\u001b[1;33m\u001b[0m\u001b[0m\n\u001b[0;32m     38\u001b[0m     \u001b[0mprint\u001b[0m\u001b[1;33m(\u001b[0m\u001b[0mdatetime\u001b[0m\u001b[1;33m.\u001b[0m\u001b[0mnow\u001b[0m\u001b[1;33m(\u001b[0m\u001b[1;33m)\u001b[0m\u001b[1;33m.\u001b[0m\u001b[0mstrftime\u001b[0m\u001b[1;33m(\u001b[0m\u001b[1;34m'%Y-%m-%d %H:%M:%S'\u001b[0m\u001b[1;33m)\u001b[0m\u001b[1;33m)\u001b[0m\u001b[1;33m\u001b[0m\u001b[1;33m\u001b[0m\u001b[0m\n\u001b[1;32m---> 39\u001b[1;33m     \u001b[0mmain\u001b[0m\u001b[1;33m(\u001b[0m\u001b[1;33m)\u001b[0m\u001b[1;33m\u001b[0m\u001b[1;33m\u001b[0m\u001b[0m\n\u001b[0m\u001b[0;32m     40\u001b[0m \u001b[1;33m\u001b[0m\u001b[0m\n",
      "\u001b[1;32m<ipython-input-37-745c5ccd9ce8>\u001b[0m in \u001b[0;36mmain\u001b[1;34m()\u001b[0m\n\u001b[0;32m      7\u001b[0m             \u001b[0mmovies\u001b[0m \u001b[1;33m=\u001b[0m \u001b[0mlist_files\u001b[0m\u001b[1;33m(\u001b[0m\u001b[0mos\u001b[0m\u001b[1;33m.\u001b[0m\u001b[0mpath\u001b[0m\u001b[1;33m.\u001b[0m\u001b[0mjoin\u001b[0m\u001b[1;33m(\u001b[0m\u001b[0mmovie_dir\u001b[0m\u001b[1;33m,\u001b[0m \u001b[0mseries_name\u001b[0m\u001b[1;33m)\u001b[0m\u001b[1;33m)\u001b[0m\u001b[1;33m\u001b[0m\u001b[1;33m\u001b[0m\u001b[0m\n\u001b[0;32m      8\u001b[0m             \u001b[0mrecord_dir\u001b[0m \u001b[1;33m=\u001b[0m \u001b[0mos\u001b[0m\u001b[1;33m.\u001b[0m\u001b[0mpath\u001b[0m\u001b[1;33m.\u001b[0m\u001b[0mjoin\u001b[0m\u001b[1;33m(\u001b[0m\u001b[0mcwd\u001b[0m\u001b[1;33m,\u001b[0m \u001b[1;34m\"records\"\u001b[0m\u001b[1;33m,\u001b[0m \u001b[0mcharactor_name\u001b[0m\u001b[1;33m,\u001b[0m \u001b[0mseries_name\u001b[0m\u001b[1;33m)\u001b[0m\u001b[1;33m\u001b[0m\u001b[1;33m\u001b[0m\u001b[0m\n\u001b[1;32m----> 9\u001b[1;33m             \u001b[0mrecords\u001b[0m \u001b[1;33m=\u001b[0m \u001b[0mlist_files\u001b[0m\u001b[1;33m(\u001b[0m\u001b[0mrecord_dir\u001b[0m\u001b[1;33m)\u001b[0m\u001b[1;33m\u001b[0m\u001b[1;33m\u001b[0m\u001b[0m\n\u001b[0m\u001b[0;32m     10\u001b[0m \u001b[1;33m\u001b[0m\u001b[0m\n\u001b[0;32m     11\u001b[0m             \u001b[0mcrop_dir\u001b[0m \u001b[1;33m=\u001b[0m \u001b[0mos\u001b[0m\u001b[1;33m.\u001b[0m\u001b[0mpath\u001b[0m\u001b[1;33m.\u001b[0m\u001b[0mjoin\u001b[0m\u001b[1;33m(\u001b[0m\u001b[0mcwd\u001b[0m\u001b[1;33m,\u001b[0m \u001b[1;34m'crop_movies'\u001b[0m\u001b[1;33m,\u001b[0m \u001b[0mcharactor_name\u001b[0m\u001b[1;33m,\u001b[0m \u001b[0mseries_name\u001b[0m\u001b[1;33m)\u001b[0m\u001b[1;33m\u001b[0m\u001b[1;33m\u001b[0m\u001b[0m\n",
      "\u001b[1;32m<ipython-input-23-a406298b7125>\u001b[0m in \u001b[0;36mlist_files\u001b[1;34m(dir)\u001b[0m\n\u001b[0;32m      1\u001b[0m \u001b[1;32mdef\u001b[0m \u001b[0mlist_files\u001b[0m\u001b[1;33m(\u001b[0m\u001b[0mdir\u001b[0m\u001b[1;33m)\u001b[0m\u001b[1;33m:\u001b[0m\u001b[1;33m\u001b[0m\u001b[1;33m\u001b[0m\u001b[0m\n\u001b[1;32m----> 2\u001b[1;33m     \u001b[1;32mreturn\u001b[0m \u001b[1;33m[\u001b[0m\u001b[0mos\u001b[0m\u001b[1;33m.\u001b[0m\u001b[0mpath\u001b[0m\u001b[1;33m.\u001b[0m\u001b[0mjoin\u001b[0m\u001b[1;33m(\u001b[0m\u001b[0mdir\u001b[0m\u001b[1;33m,\u001b[0m \u001b[0mp\u001b[0m\u001b[1;33m.\u001b[0m\u001b[0mname\u001b[0m\u001b[1;33m)\u001b[0m \u001b[1;32mfor\u001b[0m \u001b[0mp\u001b[0m \u001b[1;32min\u001b[0m \u001b[0mos\u001b[0m\u001b[1;33m.\u001b[0m\u001b[0mscandir\u001b[0m\u001b[1;33m(\u001b[0m\u001b[0mdir\u001b[0m\u001b[1;33m)\u001b[0m\u001b[1;33m]\u001b[0m\u001b[1;33m\u001b[0m\u001b[1;33m\u001b[0m\u001b[0m\n\u001b[0m\u001b[0;32m      3\u001b[0m \u001b[1;33m\u001b[0m\u001b[0m\n\u001b[0;32m      4\u001b[0m \u001b[1;32mdef\u001b[0m \u001b[0mget_filename_without_ext\u001b[0m\u001b[1;33m(\u001b[0m\u001b[0mp\u001b[0m\u001b[1;33m)\u001b[0m\u001b[1;33m:\u001b[0m\u001b[1;33m\u001b[0m\u001b[1;33m\u001b[0m\u001b[0m\n\u001b[0;32m      5\u001b[0m     \u001b[1;32mreturn\u001b[0m \u001b[0mos\u001b[0m\u001b[1;33m.\u001b[0m\u001b[0mpath\u001b[0m\u001b[1;33m.\u001b[0m\u001b[0msplitext\u001b[0m\u001b[1;33m(\u001b[0m\u001b[0mos\u001b[0m\u001b[1;33m.\u001b[0m\u001b[0mpath\u001b[0m\u001b[1;33m.\u001b[0m\u001b[0mbasename\u001b[0m\u001b[1;33m(\u001b[0m\u001b[0mp\u001b[0m\u001b[1;33m)\u001b[0m\u001b[1;33m)\u001b[0m\u001b[1;33m[\u001b[0m\u001b[1;36m0\u001b[0m\u001b[1;33m]\u001b[0m\u001b[1;33m\u001b[0m\u001b[1;33m\u001b[0m\u001b[0m\n",
      "\u001b[1;31mFileNotFoundError\u001b[0m: [WinError 3] 指定されたパスが見つかりません。: 'D:\\\\workspace\\\\Github\\\\development_projects\\\\00_developing\\\\sayo-voice\\\\records\\\\sayo\\\\s2'"
     ]
    }
   ],
   "source": [
    "def main():\n",
    "    cwd = os.getcwd()\n",
    "    movie_dir = os.path.join(cwd, 'movies')\n",
    "    \n",
    "    for series_name in CLIP_TARGET_FOLDER_NAMES:\n",
    "        for charactor_name in CHARACTOR_NAMES:\n",
    "            movies = list_files(os.path.join(movie_dir, series_name))\n",
    "            record_dir = os.path.join(cwd, \"records\", charactor_name, series_name)\n",
    "            records = list_files(record_dir)\n",
    "\n",
    "            crop_dir = os.path.join(cwd, 'crop_movies', charactor_name, series_name)\n",
    "            if not os.path.exists(crop_dir):\n",
    "                os.makedirs(crop_dir, exist_ok=True)\n",
    "\n",
    "            tmp_dir = os.path.join(cwd, 'crop_tmp', charactor_name, series_name)\n",
    "            if not os.path.exists(tmp_dir):\n",
    "                os.makedirs(tmp_dir, exist_ok=True)\n",
    "\n",
    "            pbar = tqdm(records)\n",
    "            for p in pbar:\n",
    "                with open(p, encoding='UTF-8') as f:\n",
    "                    lines = f.readlines()\n",
    "                    movie_raw_file_path = lines[0].strip()\n",
    "                    movie_encoded_file_name = lines[1].strip()\n",
    "                    clips = list(map(lambda x: x.strip(), lines[2:]))\n",
    "                    if len(clips) == 0: \n",
    "                        pbar.update(1)\n",
    "                        continue\n",
    "                    dst = os.path.join(crop_dir, movie_encoded_file_name)\n",
    "                    if os.path.exists(dst): \n",
    "                        pbar.update(1)\n",
    "                        continue\n",
    "                    tmp_file_path = os.path.join(tmp_dir, movie_encoded_file_name)\n",
    "                    shutil.copy2(movie_raw_file_path, tmp_file_path)\n",
    "                    clip_movie(tmp_file_path, clips, dst)\n",
    "\n",
    "if __name__ == \"__main__\":\n",
    "    print(datetime.now().strftime('%Y-%m-%d %H:%M:%S'))\n",
    "    main()\n",
    "    "
   ]
  },
  {
   "cell_type": "code",
   "execution_count": null,
   "metadata": {},
   "outputs": [],
   "source": []
  },
  {
   "cell_type": "code",
   "execution_count": null,
   "metadata": {},
   "outputs": [],
   "source": []
  }
 ],
 "metadata": {
  "kernelspec": {
   "display_name": "Python 3",
   "language": "python",
   "name": "python3"
  },
  "language_info": {
   "codemirror_mode": {
    "name": "ipython",
    "version": 3
   },
   "file_extension": ".py",
   "mimetype": "text/x-python",
   "name": "python",
   "nbconvert_exporter": "python",
   "pygments_lexer": "ipython3",
   "version": "3.6.10"
  }
 },
 "nbformat": 4,
 "nbformat_minor": 4
}
