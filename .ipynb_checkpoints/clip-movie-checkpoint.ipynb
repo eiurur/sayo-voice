{
 "cells": [
  {
   "cell_type": "code",
   "execution_count": 8,
   "metadata": {},
   "outputs": [],
   "source": [
    "from __future__ import print_function\n",
    "import sys\n",
    "import cv2\n",
    "import oslambda \n",
    "import math\n",
    "import globlambda \n",
    "from time import sleep\n",
    "import numpy as np\n",
    "import matplotlib.pyplot as plt\n",
    "import shutil\n",
    "import site\n",
    "from PIL import Image\n",
    "from tqdm.notebook import tqdm\n",
    "from datetime import datetime\n",
    "from multiprocessing import Pool\n",
    "from moviepy.editor import *\n",
    "\n",
    "%matplotlib inline\n"
   ]
  },
  {
   "cell_type": "code",
   "execution_count": 9,
   "metadata": {},
   "outputs": [
    {
     "name": "stdout",
     "output_type": "stream",
     "text": [
      "OpenCV: 4.4.0\n",
      "['C:/Users/eiuru/Anaconda3/envs/py36-keras-cntk', 'C:/Users/eiuru/Anaconda3/envs/py36-keras-cntk/lib/site-packages']\n"
     ]
    }
   ],
   "source": [
    "#print('numpy:', np.__version__)\n",
    "#print('pandas:', pd.__version__)\n",
    "#print('matplotlib:', mplv)\n",
    "print('OpenCV:', cv2.__version__)\n",
    "print(list(map(lambda x: x.replace(\"\\\\\", \"/\"), site.getsitepackages())))"
   ]
  },
  {
   "cell_type": "code",
   "execution_count": null,
   "metadata": {},
   "outputs": [],
   "source": []
  },
  {
   "cell_type": "code",
   "execution_count": 10,
   "metadata": {},
   "outputs": [],
   "source": [
    "CLIP_TARGET_FOLDER_NAMES = [\"s1\", \"s2\"]\n",
    "CHARACTOR_NAMES = [\"sayo\", \"tsugumi\", \"tae\", \"kanon\", \"hina\", \"aya\", \"eve\"]"
   ]
  },
  {
   "cell_type": "code",
   "execution_count": 11,
   "metadata": {},
   "outputs": [],
   "source": [
    "def list_files(dir):\n",
    "    return [os.path.join(dir, p.name) for p in os.scandir(dir)]\n",
    "\n",
    "def get_filename_without_ext(p):\n",
    "    return os.path.splitext(os.path.basename(p))[0]\n",
    "\n",
    "def get_filename_andext(p):\n",
    "    return os.path.splitext(os.path.basename(p))"
   ]
  },
  {
   "cell_type": "code",
   "execution_count": 12,
   "metadata": {},
   "outputs": [],
   "source": [
    "def clip_movie(movie_file_path, clips, dst):\n",
    "    video = VideoFileClip(movie_file_path)\n",
    "    print(movie_file_path, clips, dst)\n",
    "    clipsArray = [] \n",
    "    for clip in clips:\n",
    "        [startTime, endTime] = list(map(int, clip.split('-')))\n",
    "        print(startTime, endTime)\n",
    "        clip = video.subclip(startTime / video.fps, endTime / video.fps)\n",
    "        clipsArray.append(clip)\n",
    "    final = concatenate_videoclips(clipsArray)\n",
    "    final.write_videofile(dst, fps=video.fps, codec='libx264', audio_codec=\"aac\")\n",
    "    "
   ]
  },
  {
   "cell_type": "code",
   "execution_count": null,
   "metadata": {},
   "outputs": [],
   "source": []
  },
  {
   "cell_type": "code",
   "execution_count": 15,
   "metadata": {
    "scrolled": true
   },
   "outputs": [
    {
     "name": "stdout",
     "output_type": "stream",
     "text": [
      "2020-11-03 11:18:55\n"
     ]
    },
    {
     "data": {
      "application/vnd.jupyter.widget-view+json": {
       "model_id": "6a4cab4e48d04e41aecdde02a15193da",
       "version_major": 2,
       "version_minor": 0
      },
      "text/plain": [
       "HBox(children=(HTML(value=''), FloatProgress(value=0.0, max=11.0), HTML(value='')))"
      ]
     },
     "metadata": {},
     "output_type": "display_data"
    },
    {
     "name": "stdout",
     "output_type": "stream",
     "text": [
      "\n"
     ]
    },
    {
     "data": {
      "application/vnd.jupyter.widget-view+json": {
       "model_id": "40f18b7fda5244049f047d0e847d9205",
       "version_major": 2,
       "version_minor": 0
      },
      "text/plain": [
       "HBox(children=(HTML(value=''), FloatProgress(value=1.0, bar_style='info', layout=Layout(width='20px'), max=1.0…"
      ]
     },
     "metadata": {},
     "output_type": "display_data"
    },
    {
     "name": "stdout",
     "output_type": "stream",
     "text": [
      "\n"
     ]
    }
   ],
   "source": [
    "def main():\n",
    "    cwd = os.getcwd()\n",
    "    movie_dir = os.path.join(cwd, 'movies')\n",
    "    \n",
    "    for series_name in CLIP_TARGET_FOLDER_NAMES:\n",
    "        for charactor_name in CHARACTOR_NAMES:\n",
    "            movies = list_files(os.path.join(movie_dir, series_name))\n",
    "            record_dir = os.path.join(cwd, \"records\", charactor_name, series_name)\n",
    "            records = list_files(record_dir)\n",
    "\n",
    "            crop_dir = os.path.join(cwd, 'crop_movies', charactor_name, series_name)\n",
    "            if not os.path.exists(crop_dir):\n",
    "                os.makedirs(crop_dir, exist_ok=True)\n",
    "\n",
    "            tmp_dir = os.path.join(cwd, 'crop_tmp', charactor_name, series_name)\n",
    "            if not os.path.exists(tmp_dir):\n",
    "                os.makedirs(tmp_dir, exist_ok=True)\n",
    "\n",
    "            pbar = tqdm(records)\n",
    "            for p in pbar:\n",
    "                with open(p, encoding='UTF-8') as f:\n",
    "                    lines = f.readlines()\n",
    "                    movie_raw_file_path = lines[0].strip()\n",
    "                    movie_encoded_file_name = lines[1].strip()\n",
    "                    clips = list(map(lambda x: x.strip(), lines[2:]))\n",
    "                    if len(clips) == 0: \n",
    "                        pbar.update(1)\n",
    "                        continue\n",
    "                    dst = os.path.join(crop_dir, movie_encoded_file_name)\n",
    "                    if os.path.exists(dst): \n",
    "                        pbar.update(1)\n",
    "                        continue\n",
    "                    tmp_file_path = os.path.join(tmp_dir, movie_encoded_file_name)\n",
    "                    shutil.copy2(movie_file_path, tmp_file_path)\n",
    "                    clip_movie(tmp_file_path, clips, dst)\n",
    "\n",
    "if __name__ == \"__main__\":\n",
    "    print(datetime.now().strftime('%Y-%m-%d %H:%M:%S'))\n",
    "    main()\n",
    "    "
   ]
  },
  {
   "cell_type": "code",
   "execution_count": null,
   "metadata": {},
   "outputs": [],
   "source": []
  },
  {
   "cell_type": "code",
   "execution_count": null,
   "metadata": {},
   "outputs": [],
   "source": []
  }
 ],
 "metadata": {
  "kernelspec": {
   "display_name": "Python 3",
   "language": "python",
   "name": "python3"
  },
  "language_info": {
   "codemirror_mode": {
    "name": "ipython",
    "version": 3
   },
   "file_extension": ".py",
   "mimetype": "text/x-python",
   "name": "python",
   "nbconvert_exporter": "python",
   "pygments_lexer": "ipython3",
   "version": "3.6.10"
  }
 },
 "nbformat": 4,
 "nbformat_minor": 4
}
