{
 "cells": [
  {
   "cell_type": "code",
   "execution_count": 20,
   "metadata": {},
   "outputs": [],
   "source": [
    "from __future__ import print_function\n",
    "import sys\n",
    "import cv2\n",
    "import os\n",
    "import math\n",
    "import glob\n",
    "import hashlib\n",
    "from time import sleep\n",
    "import numpy as np\n",
    "import matplotlib.pyplot as plt\n",
    "import shutil\n",
    "import site\n",
    "from PIL import Image\n",
    "from tqdm.notebook import tqdm\n",
    "from datetime import datetime\n",
    "from multiprocessing import Pool\n",
    "from moviepy.editor import *\n",
    "\n",
    "%matplotlib inline\n"
   ]
  },
  {
   "cell_type": "code",
   "execution_count": 21,
   "metadata": {},
   "outputs": [
    {
     "name": "stdout",
     "output_type": "stream",
     "text": [
      "OpenCV: 4.4.0\n",
      "['C:/Users/eiuru/Anaconda3/envs/py36-keras-cntk', 'C:/Users/eiuru/Anaconda3/envs/py36-keras-cntk/lib/site-packages']\n"
     ]
    }
   ],
   "source": [
    "#print('numpy:', np.__version__)\n",
    "#print('pandas:', pd.__version__)\n",
    "#print('matplotlib:', mplv)\n",
    "print('OpenCV:', cv2.__version__)\n",
    "print(list(map(lambda x: x.replace(\"\\\\\", \"/\"), site.getsitepackages())))"
   ]
  },
  {
   "cell_type": "code",
   "execution_count": null,
   "metadata": {},
   "outputs": [],
   "source": []
  },
  {
   "cell_type": "code",
   "execution_count": 22,
   "metadata": {},
   "outputs": [],
   "source": [
    "CLIP_TARGET_FOLDER_NAMES = [\"s1\", \"s2\"]\n",
    "CHARACTOR_NAMES = [\"sayo\", \"tsugumi\", \"tae\", \"kanon\", \"hina\", \"aya\", \"eve\"]"
   ]
  },
  {
   "cell_type": "code",
   "execution_count": 23,
   "metadata": {},
   "outputs": [],
   "source": [
    "def list_files(dir):\n",
    "    return [os.path.join(dir, p.name) for p in os.scandir(dir)]\n",
    "\n",
    "def get_filename_without_ext(p):\n",
    "    return os.path.splitext(os.path.basename(p))[0]\n",
    "\n",
    "def get_filename_andext(p):\n",
    "    return os.path.splitext(os.path.basename(p))"
   ]
  },
  {
   "cell_type": "code",
   "execution_count": 24,
   "metadata": {},
   "outputs": [],
   "source": [
    "def clip_movie(movie_file_path, clips, dst):\n",
    "    video = VideoFileClip(movie_file_path)\n",
    "    print(movie_file_path, clips, dst)\n",
    "    clipsArray = [] \n",
    "    for clip in clips:\n",
    "        [startTime, endTime] = list(map(int, clip.split('-')))\n",
    "        print(startTime, endTime)\n",
    "        clip = video.subclip(startTime / video.fps, endTime / video.fps)\n",
    "        clipsArray.append(clip)\n",
    "    final = concatenate_videoclips(clipsArray)\n",
    "    final.write_videofile(dst, fps=video.fps, codec='libx264', audio_codec=\"aac\")\n",
    "    "
   ]
  },
  {
   "cell_type": "code",
   "execution_count": null,
   "metadata": {},
   "outputs": [],
   "source": []
  },
  {
   "cell_type": "code",
   "execution_count": 25,
   "metadata": {
    "scrolled": true
   },
   "outputs": [
    {
     "name": "stdout",
     "output_type": "stream",
     "text": [
      "2020-11-03 21:31:44\n"
     ]
    },
    {
     "data": {
      "application/vnd.jupyter.widget-view+json": {
       "model_id": "cf0c6634353a4079b9045d8301e6c6ee",
       "version_major": 2,
       "version_minor": 0
      },
      "text/plain": [
       "HBox(children=(HTML(value=''), FloatProgress(value=0.0, max=2.0), HTML(value='')))"
      ]
     },
     "metadata": {},
     "output_type": "display_data"
    },
    {
     "name": "stdout",
     "output_type": "stream",
     "text": [
      "\n"
     ]
    },
    {
     "ename": "NameError",
     "evalue": "name 'movie_file_path' is not defined",
     "output_type": "error",
     "traceback": [
      "\u001b[1;31m---------------------------------------------------------------------------\u001b[0m",
      "\u001b[1;31mNameError\u001b[0m                                 Traceback (most recent call last)",
      "\u001b[1;32m<ipython-input-25-5e4b603567ac>\u001b[0m in \u001b[0;36m<module>\u001b[1;34m\u001b[0m\n\u001b[0;32m     37\u001b[0m \u001b[1;32mif\u001b[0m \u001b[0m__name__\u001b[0m \u001b[1;33m==\u001b[0m \u001b[1;34m\"__main__\"\u001b[0m\u001b[1;33m:\u001b[0m\u001b[1;33m\u001b[0m\u001b[1;33m\u001b[0m\u001b[0m\n\u001b[0;32m     38\u001b[0m     \u001b[0mprint\u001b[0m\u001b[1;33m(\u001b[0m\u001b[0mdatetime\u001b[0m\u001b[1;33m.\u001b[0m\u001b[0mnow\u001b[0m\u001b[1;33m(\u001b[0m\u001b[1;33m)\u001b[0m\u001b[1;33m.\u001b[0m\u001b[0mstrftime\u001b[0m\u001b[1;33m(\u001b[0m\u001b[1;34m'%Y-%m-%d %H:%M:%S'\u001b[0m\u001b[1;33m)\u001b[0m\u001b[1;33m)\u001b[0m\u001b[1;33m\u001b[0m\u001b[1;33m\u001b[0m\u001b[0m\n\u001b[1;32m---> 39\u001b[1;33m     \u001b[0mmain\u001b[0m\u001b[1;33m(\u001b[0m\u001b[1;33m)\u001b[0m\u001b[1;33m\u001b[0m\u001b[1;33m\u001b[0m\u001b[0m\n\u001b[0m\u001b[0;32m     40\u001b[0m \u001b[1;33m\u001b[0m\u001b[0m\n",
      "\u001b[1;32m<ipython-input-25-5e4b603567ac>\u001b[0m in \u001b[0;36mmain\u001b[1;34m()\u001b[0m\n\u001b[0;32m     32\u001b[0m                         \u001b[1;32mcontinue\u001b[0m\u001b[1;33m\u001b[0m\u001b[1;33m\u001b[0m\u001b[0m\n\u001b[0;32m     33\u001b[0m                     \u001b[0mtmp_file_path\u001b[0m \u001b[1;33m=\u001b[0m \u001b[0mos\u001b[0m\u001b[1;33m.\u001b[0m\u001b[0mpath\u001b[0m\u001b[1;33m.\u001b[0m\u001b[0mjoin\u001b[0m\u001b[1;33m(\u001b[0m\u001b[0mtmp_dir\u001b[0m\u001b[1;33m,\u001b[0m \u001b[0mmovie_encoded_file_name\u001b[0m\u001b[1;33m)\u001b[0m\u001b[1;33m\u001b[0m\u001b[1;33m\u001b[0m\u001b[0m\n\u001b[1;32m---> 34\u001b[1;33m                     \u001b[0mshutil\u001b[0m\u001b[1;33m.\u001b[0m\u001b[0mcopy2\u001b[0m\u001b[1;33m(\u001b[0m\u001b[0mmovie_file_path\u001b[0m\u001b[1;33m,\u001b[0m \u001b[0mtmp_file_path\u001b[0m\u001b[1;33m)\u001b[0m\u001b[1;33m\u001b[0m\u001b[1;33m\u001b[0m\u001b[0m\n\u001b[0m\u001b[0;32m     35\u001b[0m                     \u001b[0mclip_movie\u001b[0m\u001b[1;33m(\u001b[0m\u001b[0mtmp_file_path\u001b[0m\u001b[1;33m,\u001b[0m \u001b[0mclips\u001b[0m\u001b[1;33m,\u001b[0m \u001b[0mdst\u001b[0m\u001b[1;33m)\u001b[0m\u001b[1;33m\u001b[0m\u001b[1;33m\u001b[0m\u001b[0m\n\u001b[0;32m     36\u001b[0m \u001b[1;33m\u001b[0m\u001b[0m\n",
      "\u001b[1;31mNameError\u001b[0m: name 'movie_file_path' is not defined"
     ]
    }
   ],
   "source": [
    "def main():\n",
    "    cwd = os.getcwd()\n",
    "    movie_dir = os.path.join(cwd, 'movies')\n",
    "    \n",
    "    for series_name in CLIP_TARGET_FOLDER_NAMES:\n",
    "        for charactor_name in CHARACTOR_NAMES:\n",
    "            movies = list_files(os.path.join(movie_dir, series_name))\n",
    "            record_dir = os.path.join(cwd, \"records\", charactor_name, series_name)\n",
    "            records = list_files(record_dir)\n",
    "\n",
    "            crop_dir = os.path.join(cwd, 'crop_movies', charactor_name, series_name)\n",
    "            if not os.path.exists(crop_dir):\n",
    "                os.makedirs(crop_dir, exist_ok=True)\n",
    "\n",
    "            tmp_dir = os.path.join(cwd, 'crop_tmp', charactor_name, series_name)\n",
    "            if not os.path.exists(tmp_dir):\n",
    "                os.makedirs(tmp_dir, exist_ok=True)\n",
    "\n",
    "            pbar = tqdm(records)\n",
    "            for p in pbar:\n",
    "                with open(p, encoding='UTF-8') as f:\n",
    "                    lines = f.readlines()\n",
    "                    movie_raw_file_path = lines[0].strip()\n",
    "                    movie_encoded_file_name = lines[1].strip()\n",
    "                    clips = list(map(lambda x: x.strip(), lines[2:]))\n",
    "                    if len(clips) == 0: \n",
    "                        pbar.update(1)\n",
    "                        continue\n",
    "                    dst = os.path.join(crop_dir, movie_encoded_file_name)\n",
    "                    if os.path.exists(dst): \n",
    "                        pbar.update(1)\n",
    "                        continue\n",
    "                    tmp_file_path = os.path.join(tmp_dir, movie_encoded_file_name)\n",
    "                    shutil.copy2(movie_raw_file_path, tmp_file_path)\n",
    "                    clip_movie(tmp_file_path, clips, dst)\n",
    "\n",
    "if __name__ == \"__main__\":\n",
    "    print(datetime.now().strftime('%Y-%m-%d %H:%M:%S'))\n",
    "    main()\n",
    "    "
   ]
  },
  {
   "cell_type": "code",
   "execution_count": null,
   "metadata": {},
   "outputs": [],
   "source": []
  },
  {
   "cell_type": "code",
   "execution_count": null,
   "metadata": {},
   "outputs": [],
   "source": []
  }
 ],
 "metadata": {
  "kernelspec": {
   "display_name": "Python 3",
   "language": "python",
   "name": "python3"
  },
  "language_info": {
   "codemirror_mode": {
    "name": "ipython",
    "version": 3
   },
   "file_extension": ".py",
   "mimetype": "text/x-python",
   "name": "python",
   "nbconvert_exporter": "python",
   "pygments_lexer": "ipython3",
   "version": "3.6.10"
  }
 },
 "nbformat": 4,
 "nbformat_minor": 4
}
