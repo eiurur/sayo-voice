{
 "cells": [
  {
   "cell_type": "code",
   "execution_count": 1,
   "metadata": {},
   "outputs": [],
   "source": [
    "from __future__ import print_function\n",
    "import sys\n",
    "import cv2\n",
    "import os\n",
    "import math\n",
    "import glob\n",
    "import hashlib\n",
    "from time import sleep\n",
    "import numpy as np\n",
    "import matplotlib.pyplot as plt\n",
    "import shutil\n",
    "import site\n",
    "from PIL import Image\n",
    "from tqdm.notebook import tqdm\n",
    "from datetime import datetime\n",
    "from multiprocessing import Pool\n",
    "from moviepy.editor import *\n",
    "\n",
    "%matplotlib inline\n"
   ]
  },
  {
   "cell_type": "code",
   "execution_count": 2,
   "metadata": {},
   "outputs": [
    {
     "name": "stdout",
     "output_type": "stream",
     "text": [
      "OpenCV: 4.4.0\n",
      "['C:/Users/eiuru/Anaconda3/envs/py36-keras-cntk', 'C:/Users/eiuru/Anaconda3/envs/py36-keras-cntk/lib/site-packages']\n"
     ]
    }
   ],
   "source": [
    "#print('numpy:', np.__version__)\n",
    "#print('pandas:', pd.__version__)\n",
    "#print('matplotlib:', mplv)\n",
    "print('OpenCV:', cv2.__version__)\n",
    "print(list(map(lambda x: x.replace(\"\\\\\", \"/\"), site.getsitepackages())))"
   ]
  },
  {
   "cell_type": "code",
   "execution_count": null,
   "metadata": {},
   "outputs": [],
   "source": []
  },
  {
   "cell_type": "code",
   "execution_count": 3,
   "metadata": {},
   "outputs": [],
   "source": [
    "CLIP_TARGET_FOLDER_NAMES = [\"s1\", \"s2\"]\n",
    "CHARACTOR_NAMES = [\"sayo\", \"tsugumi\", \"tae\", \"kanon\", \"hina\", \"aya\", \"eve\"]"
   ]
  },
  {
   "cell_type": "code",
   "execution_count": 4,
   "metadata": {},
   "outputs": [],
   "source": [
    "def list_files(dir):\n",
    "    return [os.path.join(dir, p.name) for p in os.scandir(dir)]\n",
    "\n",
    "def get_filename_without_ext(p):\n",
    "    return os.path.splitext(os.path.basename(p))[0]\n",
    "\n",
    "def get_filename_andext(p):\n",
    "    return os.path.splitext(os.path.basename(p))"
   ]
  },
  {
   "cell_type": "code",
   "execution_count": 5,
   "metadata": {},
   "outputs": [],
   "source": [
    "def clip_movie(movie_file_path, clips, dst):\n",
    "    video = VideoFileClip(movie_file_path)\n",
    "    print(movie_file_path, clips, dst)\n",
    "    clipsArray = [] \n",
    "    for clip in clips:\n",
    "        [startTime, endTime] = list(map(int, clip.split('-')))\n",
    "        print(startTime, endTime)\n",
    "        clip = video.subclip(startTime / video.fps, endTime / video.fps)\n",
    "        clipsArray.append(clip)\n",
    "    final = concatenate_videoclips(clipsArray)\n",
    "    final.write_videofile(dst, fps=video.fps, codec='libx264', audio_codec=\"aac\")\n",
    "    "
   ]
  },
  {
   "cell_type": "code",
   "execution_count": null,
   "metadata": {},
   "outputs": [],
   "source": []
  },
  {
   "cell_type": "code",
   "execution_count": 6,
   "metadata": {},
   "outputs": [
    {
     "name": "stdout",
     "output_type": "stream",
     "text": [
      "2020-11-29 04:35:35\n"
     ]
    },
    {
     "data": {
      "application/vnd.jupyter.widget-view+json": {
       "model_id": "",
       "version_major": 2,
       "version_minor": 0
      },
      "text/plain": [
       "HBox(children=(HTML(value=''), FloatProgress(value=0.0, max=76.0), HTML(value='')))"
      ]
     },
     "metadata": {},
     "output_type": "display_data"
    },
    {
     "name": "stdout",
     "output_type": "stream",
     "text": [
      "\n"
     ]
    },
    {
     "data": {
      "application/vnd.jupyter.widget-view+json": {
       "model_id": "",
       "version_major": 2,
       "version_minor": 0
      },
      "text/plain": [
       "HBox(children=(HTML(value=''), FloatProgress(value=0.0, max=76.0), HTML(value='')))"
      ]
     },
     "metadata": {},
     "output_type": "display_data"
    },
    {
     "name": "stdout",
     "output_type": "stream",
     "text": [
      "\n"
     ]
    },
    {
     "data": {
      "application/vnd.jupyter.widget-view+json": {
       "model_id": "",
       "version_major": 2,
       "version_minor": 0
      },
      "text/plain": [
       "HBox(children=(HTML(value=''), FloatProgress(value=0.0, max=76.0), HTML(value='')))"
      ]
     },
     "metadata": {},
     "output_type": "display_data"
    },
    {
     "name": "stdout",
     "output_type": "stream",
     "text": [
      "\n"
     ]
    },
    {
     "data": {
      "application/vnd.jupyter.widget-view+json": {
       "model_id": "",
       "version_major": 2,
       "version_minor": 0
      },
      "text/plain": [
       "HBox(children=(HTML(value=''), FloatProgress(value=0.0, max=76.0), HTML(value='')))"
      ]
     },
     "metadata": {},
     "output_type": "display_data"
    },
    {
     "name": "stdout",
     "output_type": "stream",
     "text": [
      "\n"
     ]
    },
    {
     "data": {
      "application/vnd.jupyter.widget-view+json": {
       "model_id": "",
       "version_major": 2,
       "version_minor": 0
      },
      "text/plain": [
       "HBox(children=(HTML(value=''), FloatProgress(value=0.0, max=76.0), HTML(value='')))"
      ]
     },
     "metadata": {},
     "output_type": "display_data"
    },
    {
     "name": "stdout",
     "output_type": "stream",
     "text": [
      "\n"
     ]
    },
    {
     "data": {
      "application/vnd.jupyter.widget-view+json": {
       "model_id": "",
       "version_major": 2,
       "version_minor": 0
      },
      "text/plain": [
       "HBox(children=(HTML(value=''), FloatProgress(value=0.0, max=76.0), HTML(value='')))"
      ]
     },
     "metadata": {},
     "output_type": "display_data"
    },
    {
     "name": "stdout",
     "output_type": "stream",
     "text": [
      "\n"
     ]
    },
    {
     "data": {
      "application/vnd.jupyter.widget-view+json": {
       "model_id": "",
       "version_major": 2,
       "version_minor": 0
      },
      "text/plain": [
       "HBox(children=(HTML(value=''), FloatProgress(value=0.0, max=76.0), HTML(value='')))"
      ]
     },
     "metadata": {},
     "output_type": "display_data"
    },
    {
     "name": "stdout",
     "output_type": "stream",
     "text": [
      "\n"
     ]
    },
    {
     "data": {
      "application/vnd.jupyter.widget-view+json": {
       "model_id": "",
       "version_major": 2,
       "version_minor": 0
      },
      "text/plain": [
       "HBox(children=(HTML(value=''), FloatProgress(value=0.0, max=59.0), HTML(value='')))"
      ]
     },
     "metadata": {},
     "output_type": "display_data"
    },
    {
     "name": "stdout",
     "output_type": "stream",
     "text": [
      "\n"
     ]
    },
    {
     "data": {
      "application/vnd.jupyter.widget-view+json": {
       "model_id": "",
       "version_major": 2,
       "version_minor": 0
      },
      "text/plain": [
       "HBox(children=(HTML(value=''), FloatProgress(value=0.0, max=59.0), HTML(value='')))"
      ]
     },
     "metadata": {},
     "output_type": "display_data"
    },
    {
     "name": "stdout",
     "output_type": "stream",
     "text": [
      "D:\\workspace\\Github\\development_projects\\00_developing\\sayo-voice\\crop_tmp\\tsugumi\\s2\\66195d85dc6f1bd7b18625aae90628fa.mp4 ['75976-75979', '75989-75991', '77770-77773', '80929-80941', '120994-121009'] D:\\workspace\\Github\\development_projects\\00_developing\\sayo-voice\\crop_movies\\tsugumi\\s2\\66195d85dc6f1bd7b18625aae90628fa.mp4\n",
      "75976 75979\n",
      "75989 75991\n",
      "77770 77773\n",
      "80929 80941\n",
      "120994 121009\n"
     ]
    },
    {
     "name": "stderr",
     "output_type": "stream",
     "text": [
      "\r",
      "chunk:   0%|                                                                        | 0/13 [00:00<?, ?it/s, now=None]"
     ]
    },
    {
     "name": "stdout",
     "output_type": "stream",
     "text": [
      "Moviepy - Building video D:\\workspace\\Github\\development_projects\\00_developing\\sayo-voice\\crop_movies\\tsugumi\\s2\\66195d85dc6f1bd7b18625aae90628fa.mp4.\n",
      "MoviePy - Writing audio in 66195d85dc6f1bd7b18625aae90628faTEMP_MPY_wvf_snd.mp4\n"
     ]
    },
    {
     "name": "stderr",
     "output_type": "stream",
     "text": [
      "t:   9%|█████▊                                                              | 3/35 [00:00<00:01, 29.70it/s, now=None]"
     ]
    },
    {
     "name": "stdout",
     "output_type": "stream",
     "text": [
      "MoviePy - Done.\n",
      "Moviepy - Writing video D:\\workspace\\Github\\development_projects\\00_developing\\sayo-voice\\crop_movies\\tsugumi\\s2\\66195d85dc6f1bd7b18625aae90628fa.mp4\n",
      "\n"
     ]
    },
    {
     "name": "stderr",
     "output_type": "stream",
     "text": [
      "                                                                                                                     \r"
     ]
    },
    {
     "name": "stdout",
     "output_type": "stream",
     "text": [
      "Moviepy - Done !\n",
      "Moviepy - video ready D:\\workspace\\Github\\development_projects\\00_developing\\sayo-voice\\crop_movies\\tsugumi\\s2\\66195d85dc6f1bd7b18625aae90628fa.mp4\n",
      "D:\\workspace\\Github\\development_projects\\00_developing\\sayo-voice\\crop_tmp\\tsugumi\\s2\\9bda36f7d141a2062be52bb43f4c5ac1.mp4 ['20710-20711', '29966-29968', '30026-30034', '30050-30061', '30076-30089', '36191-36193', '46357-46358', '62177-62179', '62201-62203', '80512-80530', '124018-124025', '124033-124036', '124039-124040', '137498-137503'] D:\\workspace\\Github\\development_projects\\00_developing\\sayo-voice\\crop_movies\\tsugumi\\s2\\9bda36f7d141a2062be52bb43f4c5ac1.mp4\n",
      "20710 20711\n",
      "29966 29968\n",
      "30026 30034\n",
      "30050 30061\n",
      "30076 30089\n",
      "36191 36193\n",
      "46357 46358\n",
      "62177 62179\n",
      "62201 62203\n",
      "80512 80530\n",
      "124018 124025\n",
      "124033 124036\n",
      "124039 124040\n",
      "137498 137503\n"
     ]
    },
    {
     "name": "stderr",
     "output_type": "stream",
     "text": [
      "\r",
      "chunk:   0%|                                                                        | 0/28 [00:00<?, ?it/s, now=None]"
     ]
    },
    {
     "name": "stdout",
     "output_type": "stream",
     "text": [
      "Moviepy - Building video D:\\workspace\\Github\\development_projects\\00_developing\\sayo-voice\\crop_movies\\tsugumi\\s2\\9bda36f7d141a2062be52bb43f4c5ac1.mp4.\n",
      "MoviePy - Writing audio in 9bda36f7d141a2062be52bb43f4c5ac1TEMP_MPY_wvf_snd.mp4\n"
     ]
    },
    {
     "name": "stderr",
     "output_type": "stream",
     "text": [
      "t:   0%|                                                                            | 0/77 [00:00<?, ?it/s, now=None]"
     ]
    },
    {
     "name": "stdout",
     "output_type": "stream",
     "text": [
      "MoviePy - Done.\n",
      "Moviepy - Writing video D:\\workspace\\Github\\development_projects\\00_developing\\sayo-voice\\crop_movies\\tsugumi\\s2\\9bda36f7d141a2062be52bb43f4c5ac1.mp4\n",
      "\n"
     ]
    },
    {
     "name": "stderr",
     "output_type": "stream",
     "text": [
      "                                                                                                                     \r"
     ]
    },
    {
     "name": "stdout",
     "output_type": "stream",
     "text": [
      "Moviepy - Done !\n",
      "Moviepy - video ready D:\\workspace\\Github\\development_projects\\00_developing\\sayo-voice\\crop_movies\\tsugumi\\s2\\9bda36f7d141a2062be52bb43f4c5ac1.mp4\n",
      "D:\\workspace\\Github\\development_projects\\00_developing\\sayo-voice\\crop_tmp\\tsugumi\\s2\\cc082aaa0a3a4684d81dc41bbc439ad4.mp4 ['58534-58540', '60364-60365', '60832-60833', '60847-60850', '61817-61831', '61855-61891', '61904-61919', '62729-62731', '63428-63430', '63781-63911', '64553-64570', '65968-65978', '66740-66841', '67162-67195', '67213-67217', '67231-67282', '67424-67558', '68002-68024', '68518-68524', '69233-69250', '69454-69472', '69473-69482', '70063-70067', '70225-70246', '70258-70264', '70274-70282', '70297-70307', '71440-71512', '71515-71524', '71534-71539', '71638-71648', '71743-71869', '71872-71882', '72073-72076', '72092-72095', '72124-72185', '72230-72271', '72274-72320', '72655-72670', '72688-72689', '72706-72746', '72796-72820'] D:\\workspace\\Github\\development_projects\\00_developing\\sayo-voice\\crop_movies\\tsugumi\\s2\\cc082aaa0a3a4684d81dc41bbc439ad4.mp4\n",
      "58534 58540\n",
      "60364 60365\n",
      "60832 60833\n",
      "60847 60850\n",
      "61817 61831\n",
      "61855 61891\n",
      "61904 61919\n",
      "62729 62731\n",
      "63428 63430\n",
      "63781 63911\n",
      "64553 64570\n",
      "65968 65978\n",
      "66740 66841\n",
      "67162 67195\n",
      "67213 67217\n",
      "67231 67282\n",
      "67424 67558\n",
      "68002 68024\n",
      "68518 68524\n",
      "69233 69250\n",
      "69454 69472\n",
      "69473 69482\n",
      "70063 70067\n",
      "70225 70246\n",
      "70258 70264\n",
      "70274 70282\n",
      "70297 70307\n",
      "71440 71512\n",
      "71515 71524\n",
      "71534 71539\n",
      "71638 71648\n",
      "71743 71869\n",
      "71872 71882\n",
      "72073 72076\n",
      "72092 72095\n",
      "72124 72185\n",
      "72230 72271\n",
      "72274 72320\n",
      "72655 72670\n",
      "72688 72689\n",
      "72706 72746\n",
      "72796 72820\n"
     ]
    },
    {
     "name": "stderr",
     "output_type": "stream",
     "text": [
      "\r",
      "chunk:   0%|                                                                       | 0/422 [00:00<?, ?it/s, now=None]"
     ]
    },
    {
     "name": "stdout",
     "output_type": "stream",
     "text": [
      "Moviepy - Building video D:\\workspace\\Github\\development_projects\\00_developing\\sayo-voice\\crop_movies\\tsugumi\\s2\\cc082aaa0a3a4684d81dc41bbc439ad4.mp4.\n",
      "MoviePy - Writing audio in cc082aaa0a3a4684d81dc41bbc439ad4TEMP_MPY_wvf_snd.mp4\n"
     ]
    },
    {
     "name": "stderr",
     "output_type": "stream",
     "text": [
      "t:   0%|▏                                                                 | 3/1147 [00:00<00:38, 29.70it/s, now=None]"
     ]
    },
    {
     "name": "stdout",
     "output_type": "stream",
     "text": [
      "MoviePy - Done.\n",
      "Moviepy - Writing video D:\\workspace\\Github\\development_projects\\00_developing\\sayo-voice\\crop_movies\\tsugumi\\s2\\cc082aaa0a3a4684d81dc41bbc439ad4.mp4\n",
      "\n"
     ]
    },
    {
     "name": "stderr",
     "output_type": "stream",
     "text": [
      "                                                                                                                     \r"
     ]
    },
    {
     "name": "stdout",
     "output_type": "stream",
     "text": [
      "Moviepy - Done !\n",
      "Moviepy - video ready D:\\workspace\\Github\\development_projects\\00_developing\\sayo-voice\\crop_movies\\tsugumi\\s2\\cc082aaa0a3a4684d81dc41bbc439ad4.mp4\n",
      "D:\\workspace\\Github\\development_projects\\00_developing\\sayo-voice\\crop_tmp\\tsugumi\\s2\\0ee4e78061eb9f8e4dbeb3f7504179d3.mp4 ['7472-7474', '9463-9469', '37538-37540', '50750-50752', '75250-75253', '77395-77398'] D:\\workspace\\Github\\development_projects\\00_developing\\sayo-voice\\crop_movies\\tsugumi\\s2\\0ee4e78061eb9f8e4dbeb3f7504179d3.mp4\n",
      "7472 7474\n",
      "9463 9469\n",
      "37538 37540\n",
      "50750 50752\n",
      "75250 75253\n",
      "77395 77398\n"
     ]
    },
    {
     "name": "stderr",
     "output_type": "stream",
     "text": [
      "\r",
      "chunk:   0%|                                                                         | 0/7 [00:00<?, ?it/s, now=None]"
     ]
    },
    {
     "name": "stdout",
     "output_type": "stream",
     "text": [
      "Moviepy - Building video D:\\workspace\\Github\\development_projects\\00_developing\\sayo-voice\\crop_movies\\tsugumi\\s2\\0ee4e78061eb9f8e4dbeb3f7504179d3.mp4.\n",
      "MoviePy - Writing audio in 0ee4e78061eb9f8e4dbeb3f7504179d3TEMP_MPY_wvf_snd.mp4\n"
     ]
    },
    {
     "name": "stderr",
     "output_type": "stream",
     "text": [
      "t:  17%|███████████▎                                                        | 3/18 [00:00<00:00, 26.54it/s, now=None]"
     ]
    },
    {
     "name": "stdout",
     "output_type": "stream",
     "text": [
      "MoviePy - Done.\n",
      "Moviepy - Writing video D:\\workspace\\Github\\development_projects\\00_developing\\sayo-voice\\crop_movies\\tsugumi\\s2\\0ee4e78061eb9f8e4dbeb3f7504179d3.mp4\n",
      "\n"
     ]
    },
    {
     "name": "stderr",
     "output_type": "stream",
     "text": [
      "                                                                                                                     \r"
     ]
    },
    {
     "name": "stdout",
     "output_type": "stream",
     "text": [
      "Moviepy - Done !\n",
      "Moviepy - video ready D:\\workspace\\Github\\development_projects\\00_developing\\sayo-voice\\crop_movies\\tsugumi\\s2\\0ee4e78061eb9f8e4dbeb3f7504179d3.mp4\n",
      "D:\\workspace\\Github\\development_projects\\00_developing\\sayo-voice\\crop_tmp\\tsugumi\\s2\\db001830795b0c41f3dfe6c20e6b4786.mp4 ['29966-29968'] D:\\workspace\\Github\\development_projects\\00_developing\\sayo-voice\\crop_movies\\tsugumi\\s2\\db001830795b0c41f3dfe6c20e6b4786.mp4\n",
      "29966 29968\n"
     ]
    },
    {
     "name": "stderr",
     "output_type": "stream",
     "text": [
      "\r",
      "chunk:   0%|                                                                         | 0/1 [00:00<?, ?it/s, now=None]"
     ]
    },
    {
     "name": "stdout",
     "output_type": "stream",
     "text": [
      "Moviepy - Building video D:\\workspace\\Github\\development_projects\\00_developing\\sayo-voice\\crop_movies\\tsugumi\\s2\\db001830795b0c41f3dfe6c20e6b4786.mp4.\n",
      "MoviePy - Writing audio in db001830795b0c41f3dfe6c20e6b4786TEMP_MPY_wvf_snd.mp4\n"
     ]
    },
    {
     "name": "stderr",
     "output_type": "stream",
     "text": [
      "                                                                                                                     \r"
     ]
    },
    {
     "name": "stdout",
     "output_type": "stream",
     "text": [
      "MoviePy - Done.\n",
      "Moviepy - Writing video D:\\workspace\\Github\\development_projects\\00_developing\\sayo-voice\\crop_movies\\tsugumi\\s2\\db001830795b0c41f3dfe6c20e6b4786.mp4\n",
      "\n",
      "Moviepy - Done !\n",
      "Moviepy - video ready D:\\workspace\\Github\\development_projects\\00_developing\\sayo-voice\\crop_movies\\tsugumi\\s2\\db001830795b0c41f3dfe6c20e6b4786.mp4\n",
      "D:\\workspace\\Github\\development_projects\\00_developing\\sayo-voice\\crop_tmp\\tsugumi\\s2\\eb29838759b1ee043393a2cdf1a39e5e.mp4 ['89029-89030'] D:\\workspace\\Github\\development_projects\\00_developing\\sayo-voice\\crop_movies\\tsugumi\\s2\\eb29838759b1ee043393a2cdf1a39e5e.mp4\n",
      "89029 89030\n"
     ]
    },
    {
     "name": "stderr",
     "output_type": "stream",
     "text": [
      "\r",
      "chunk:   0%|                                                                         | 0/1 [00:00<?, ?it/s, now=None]"
     ]
    },
    {
     "name": "stdout",
     "output_type": "stream",
     "text": [
      "Moviepy - Building video D:\\workspace\\Github\\development_projects\\00_developing\\sayo-voice\\crop_movies\\tsugumi\\s2\\eb29838759b1ee043393a2cdf1a39e5e.mp4.\n",
      "MoviePy - Writing audio in eb29838759b1ee043393a2cdf1a39e5eTEMP_MPY_wvf_snd.mp4\n"
     ]
    },
    {
     "name": "stderr",
     "output_type": "stream",
     "text": [
      "                                                                                                                     \r"
     ]
    },
    {
     "name": "stdout",
     "output_type": "stream",
     "text": [
      "MoviePy - Done.\n",
      "Moviepy - Writing video D:\\workspace\\Github\\development_projects\\00_developing\\sayo-voice\\crop_movies\\tsugumi\\s2\\eb29838759b1ee043393a2cdf1a39e5e.mp4\n",
      "\n",
      "Moviepy - Done !\n",
      "Moviepy - video ready D:\\workspace\\Github\\development_projects\\00_developing\\sayo-voice\\crop_movies\\tsugumi\\s2\\eb29838759b1ee043393a2cdf1a39e5e.mp4\n",
      "D:\\workspace\\Github\\development_projects\\00_developing\\sayo-voice\\crop_tmp\\tsugumi\\s2\\9a492bd97cb55fc1af6381494277101f.mp4 ['98134-98135', '98144-98149', '98261-98297'] D:\\workspace\\Github\\development_projects\\00_developing\\sayo-voice\\crop_movies\\tsugumi\\s2\\9a492bd97cb55fc1af6381494277101f.mp4\n",
      "98134 98135\n",
      "98144 98149\n",
      "98261 98297\n"
     ]
    },
    {
     "name": "stderr",
     "output_type": "stream",
     "text": [
      "\r",
      "chunk:   0%|                                                                        | 0/16 [00:00<?, ?it/s, now=None]"
     ]
    },
    {
     "name": "stdout",
     "output_type": "stream",
     "text": [
      "Moviepy - Building video D:\\workspace\\Github\\development_projects\\00_developing\\sayo-voice\\crop_movies\\tsugumi\\s2\\9a492bd97cb55fc1af6381494277101f.mp4.\n",
      "MoviePy - Writing audio in 9a492bd97cb55fc1af6381494277101fTEMP_MPY_wvf_snd.mp4\n"
     ]
    },
    {
     "name": "stderr",
     "output_type": "stream",
     "text": [
      "t:   0%|                                                                            | 0/42 [00:00<?, ?it/s, now=None]"
     ]
    },
    {
     "name": "stdout",
     "output_type": "stream",
     "text": [
      "MoviePy - Done.\n",
      "Moviepy - Writing video D:\\workspace\\Github\\development_projects\\00_developing\\sayo-voice\\crop_movies\\tsugumi\\s2\\9a492bd97cb55fc1af6381494277101f.mp4\n",
      "\n"
     ]
    },
    {
     "name": "stderr",
     "output_type": "stream",
     "text": [
      "                                                                                                                     \r"
     ]
    },
    {
     "name": "stdout",
     "output_type": "stream",
     "text": [
      "Moviepy - Done !\n",
      "Moviepy - video ready D:\\workspace\\Github\\development_projects\\00_developing\\sayo-voice\\crop_movies\\tsugumi\\s2\\9a492bd97cb55fc1af6381494277101f.mp4\n",
      "D:\\workspace\\Github\\development_projects\\00_developing\\sayo-voice\\crop_tmp\\tsugumi\\s2\\4e86608415445fcf425997f4ff9927a5.mp4 ['1441-1453', '2495-2515', '9424-9433', '9677-9688', '60160-60170', '60172-60173', '60190-60191', '60209-60227', '60371-60373', '66710-66712', '66827-66829', '66935-66938', '69248-69352', '86512-86521', '86534-86536', '86543-86545', '86995-87007', '87010-87011', '90128-90193', '95372-95374', '103229-103232', '124633-124642', '124670-124684'] D:\\workspace\\Github\\development_projects\\00_developing\\sayo-voice\\crop_movies\\tsugumi\\s2\\4e86608415445fcf425997f4ff9927a5.mp4\n",
      "1441 1453\n",
      "2495 2515\n",
      "9424 9433\n",
      "9677 9688\n",
      "60160 60170\n",
      "60172 60173\n",
      "60190 60191\n",
      "60209 60227\n",
      "60371 60373\n",
      "66710 66712\n",
      "66827 66829\n",
      "66935 66938\n",
      "69248 69352\n",
      "86512 86521\n",
      "86534 86536\n",
      "86543 86545\n",
      "86995 87007\n",
      "87010 87011\n",
      "90128 90193\n",
      "95372 95374\n",
      "103229 103232\n",
      "124633 124642\n",
      "124670 124684\n"
     ]
    },
    {
     "name": "stderr",
     "output_type": "stream",
     "text": [
      "chunk:   3%|██▏                                                            | 4/116 [00:00<00:02, 39.99it/s, now=None]"
     ]
    },
    {
     "name": "stdout",
     "output_type": "stream",
     "text": [
      "Moviepy - Building video D:\\workspace\\Github\\development_projects\\00_developing\\sayo-voice\\crop_movies\\tsugumi\\s2\\4e86608415445fcf425997f4ff9927a5.mp4.\n",
      "MoviePy - Writing audio in 4e86608415445fcf425997f4ff9927a5TEMP_MPY_wvf_snd.mp4\n"
     ]
    },
    {
     "name": "stderr",
     "output_type": "stream",
     "text": [
      "t:   1%|▋                                                                  | 3/314 [00:00<00:10, 29.12it/s, now=None]"
     ]
    },
    {
     "name": "stdout",
     "output_type": "stream",
     "text": [
      "MoviePy - Done.\n",
      "Moviepy - Writing video D:\\workspace\\Github\\development_projects\\00_developing\\sayo-voice\\crop_movies\\tsugumi\\s2\\4e86608415445fcf425997f4ff9927a5.mp4\n",
      "\n"
     ]
    },
    {
     "name": "stderr",
     "output_type": "stream",
     "text": [
      "                                                                                                                     \r"
     ]
    },
    {
     "name": "stdout",
     "output_type": "stream",
     "text": [
      "Moviepy - Done !\n",
      "Moviepy - video ready D:\\workspace\\Github\\development_projects\\00_developing\\sayo-voice\\crop_movies\\tsugumi\\s2\\4e86608415445fcf425997f4ff9927a5.mp4\n",
      "D:\\workspace\\Github\\development_projects\\00_developing\\sayo-voice\\crop_tmp\\tsugumi\\s2\\10dfbed38ab837ff3b790b7b6fce0163.mp4 ['1982-1984', '3652-3653', '8048-8131', '13996-13997', '14002-14005', '14009-14011', '14012-14014', '18028-18032', '18035-18046', '18049-18052', '18055-18056', '18058-18067', '18449-18469', '18623-18656', '18658-18674', '18686-18692', '19232-19424', '19451-19472', '21647-21652', '21667-21668', '21680-21682', '21685-21686', '21698-21721', '26627-26629', '26630-26632', '26641-26704', '28636-28642', '28654-28691', '30193-30241', '30251-30287', '30319-30434', '30722-30739', '31039-31094', '31949-31978', '31985-31999', '32893-32897', '32911-32938', '33011-33016', '33637-33775', '33884-33913', '34930-34939', '35423-35473', '36209-36259', '36511-36619', '41476-41495', '42565-42571', '43486-43489', '43495-43505', '44197-44201', '44902-44912', '44930-44939', '44945-44951', '44984-44986', '45235-45244', '47587-47626', '47627-47638', '50095-50098', '53849-53851', '53867-53869', '56689-56692', '58222-58258', '58261-58378', '60211-60298', '60311-60511', '61228-61238', '61255-61258', '61261-61270', '61273-61280', '61328-61337', '61931-61948', '61961-62000', '63370-63400', '63412-63427', '63484-63487', '63488-63490', '63748-63754', '63755-63764', '65378-65389', '65945-65956', '65987-66001', '68323-68324', '68348-68353', '82189-82205', '82214-82324', '82375-82462', '85058-85070', '94312-94406', '94466-94468', '94477-94480', '94514-94591', '109588-109592', '110422-110435', '110560-110696', '114916-114922', '114967-115088', '116141-116149', '116161-116162', '126032-126094', '126122-126211', '127412-127427', '127438-127552', '129268-129272', '129302-129379', '130085-130090', '136997-137009', '137015-137071', '138134-138175', '139718-139720', '139736-139738', '139792-139801', '141385-141389', '145090-145105', '145501-145627', '148322-148447', '150163-150223', '150697-150709', '150713-150724', '151141-151189', '151606-151621', '151792-151804', '153761-153763', '153787-153796', '154052-154069', '155227-155230', '155245-155252', '155255-155260', '155261-155264', '157885-157889', '157903-157939', '157945-157996', '158008-158020', '163703-163711'] D:\\workspace\\Github\\development_projects\\00_developing\\sayo-voice\\crop_movies\\tsugumi\\s2\\10dfbed38ab837ff3b790b7b6fce0163.mp4\n",
      "1982 1984\n",
      "3652 3653\n",
      "8048 8131\n",
      "13996 13997\n",
      "14002 14005\n",
      "14009 14011\n",
      "14012 14014\n",
      "18028 18032\n",
      "18035 18046\n",
      "18049 18052\n",
      "18055 18056\n",
      "18058 18067\n",
      "18449 18469\n",
      "18623 18656\n",
      "18658 18674\n",
      "18686 18692\n",
      "19232 19424\n",
      "19451 19472\n",
      "21647 21652\n",
      "21667 21668\n",
      "21680 21682\n",
      "21685 21686\n",
      "21698 21721\n",
      "26627 26629\n",
      "26630 26632\n",
      "26641 26704\n",
      "28636 28642\n",
      "28654 28691\n",
      "30193 30241\n",
      "30251 30287\n",
      "30319 30434\n",
      "30722 30739\n",
      "31039 31094\n",
      "31949 31978\n",
      "31985 31999\n",
      "32893 32897\n",
      "32911 32938\n",
      "33011 33016\n",
      "33637 33775\n",
      "33884 33913\n",
      "34930 34939\n",
      "35423 35473\n",
      "36209 36259\n",
      "36511 36619\n",
      "41476 41495\n",
      "42565 42571\n",
      "43486 43489\n",
      "43495 43505\n",
      "44197 44201\n",
      "44902 44912\n",
      "44930 44939\n",
      "44945 44951\n",
      "44984 44986\n",
      "45235 45244\n",
      "47587 47626\n",
      "47627 47638\n",
      "50095 50098\n",
      "53849 53851\n",
      "53867 53869\n",
      "56689 56692\n",
      "58222 58258\n",
      "58261 58378\n",
      "60211 60298\n",
      "60311 60511\n",
      "61228 61238\n",
      "61255 61258\n",
      "61261 61270\n",
      "61273 61280\n",
      "61328 61337\n",
      "61931 61948\n",
      "61961 62000\n",
      "63370 63400\n",
      "63412 63427\n",
      "63484 63487\n",
      "63488 63490\n",
      "63748 63754\n",
      "63755 63764\n",
      "65378 65389\n",
      "65945 65956\n",
      "65987 66001\n",
      "68323 68324\n",
      "68348 68353\n",
      "82189 82205\n",
      "82214 82324\n",
      "82375 82462\n",
      "85058 85070\n",
      "94312 94406\n",
      "94466 94468\n",
      "94477 94480\n",
      "94514 94591\n",
      "109588 109592\n",
      "110422 110435\n",
      "110560 110696\n",
      "114916 114922\n",
      "114967 115088\n",
      "116141 116149\n",
      "116161 116162\n",
      "126032 126094\n",
      "126122 126211\n",
      "127412 127427\n",
      "127438 127552\n",
      "129268 129272\n",
      "129302 129379\n",
      "130085 130090\n",
      "136997 137009\n",
      "137015 137071\n",
      "138134 138175\n",
      "139718 139720\n",
      "139736 139738\n",
      "139792 139801\n",
      "141385 141389\n",
      "145090 145105\n",
      "145501 145627\n",
      "148322 148447\n",
      "150163 150223\n",
      "150697 150709\n",
      "150713 150724\n",
      "151141 151189\n",
      "151606 151621\n",
      "151792 151804\n",
      "153761 153763\n",
      "153787 153796\n",
      "154052 154069\n",
      "155227 155230\n",
      "155245 155252\n",
      "155255 155260\n",
      "155261 155264\n",
      "157885 157889\n",
      "157903 157939\n",
      "157945 157996\n",
      "158008 158020\n",
      "163703 163711\n"
     ]
    },
    {
     "name": "stderr",
     "output_type": "stream",
     "text": [
      "\r",
      "chunk:   0%|                                                                      | 0/1407 [00:00<?, ?it/s, now=None]"
     ]
    },
    {
     "name": "stdout",
     "output_type": "stream",
     "text": [
      "Moviepy - Building video D:\\workspace\\Github\\development_projects\\00_developing\\sayo-voice\\crop_movies\\tsugumi\\s2\\10dfbed38ab837ff3b790b7b6fce0163.mp4.\n",
      "MoviePy - Writing audio in 10dfbed38ab837ff3b790b7b6fce0163TEMP_MPY_wvf_snd.mp4\n"
     ]
    },
    {
     "name": "stderr",
     "output_type": "stream",
     "text": [
      "t:   0%|                                                                  | 4/3828 [00:00<01:47, 35.73it/s, now=None]"
     ]
    },
    {
     "name": "stdout",
     "output_type": "stream",
     "text": [
      "MoviePy - Done.\n",
      "Moviepy - Writing video D:\\workspace\\Github\\development_projects\\00_developing\\sayo-voice\\crop_movies\\tsugumi\\s2\\10dfbed38ab837ff3b790b7b6fce0163.mp4\n",
      "\n"
     ]
    },
    {
     "name": "stderr",
     "output_type": "stream",
     "text": [
      "                                                                                                                     \r"
     ]
    },
    {
     "name": "stdout",
     "output_type": "stream",
     "text": [
      "Moviepy - Done !\n",
      "Moviepy - video ready D:\\workspace\\Github\\development_projects\\00_developing\\sayo-voice\\crop_movies\\tsugumi\\s2\\10dfbed38ab837ff3b790b7b6fce0163.mp4\n",
      "D:\\workspace\\Github\\development_projects\\00_developing\\sayo-voice\\crop_tmp\\tsugumi\\s2\\c4f4ae0045ab354a8781b682edfb902c.mp4 ['6862-6944', '40907-40912', '40916-40930'] D:\\workspace\\Github\\development_projects\\00_developing\\sayo-voice\\crop_movies\\tsugumi\\s2\\c4f4ae0045ab354a8781b682edfb902c.mp4\n",
      "6862 6944\n",
      "40907 40912\n",
      "40916 40930\n"
     ]
    },
    {
     "name": "stderr",
     "output_type": "stream",
     "text": [
      "\r",
      "chunk:   0%|                                                                        | 0/38 [00:00<?, ?it/s, now=None]"
     ]
    },
    {
     "name": "stdout",
     "output_type": "stream",
     "text": [
      "Moviepy - Building video D:\\workspace\\Github\\development_projects\\00_developing\\sayo-voice\\crop_movies\\tsugumi\\s2\\c4f4ae0045ab354a8781b682edfb902c.mp4.\n",
      "MoviePy - Writing audio in c4f4ae0045ab354a8781b682edfb902cTEMP_MPY_wvf_snd.mp4\n"
     ]
    },
    {
     "name": "stderr",
     "output_type": "stream",
     "text": [
      "t:   3%|█▉                                                                 | 3/102 [00:00<00:03, 28.84it/s, now=None]"
     ]
    },
    {
     "name": "stdout",
     "output_type": "stream",
     "text": [
      "MoviePy - Done.\n",
      "Moviepy - Writing video D:\\workspace\\Github\\development_projects\\00_developing\\sayo-voice\\crop_movies\\tsugumi\\s2\\c4f4ae0045ab354a8781b682edfb902c.mp4\n",
      "\n"
     ]
    },
    {
     "name": "stderr",
     "output_type": "stream",
     "text": [
      "                                                                                                                     \r"
     ]
    },
    {
     "name": "stdout",
     "output_type": "stream",
     "text": [
      "Moviepy - Done !\n",
      "Moviepy - video ready D:\\workspace\\Github\\development_projects\\00_developing\\sayo-voice\\crop_movies\\tsugumi\\s2\\c4f4ae0045ab354a8781b682edfb902c.mp4\n",
      "D:\\workspace\\Github\\development_projects\\00_developing\\sayo-voice\\crop_tmp\\tsugumi\\s2\\8a45242e586137480e9901dba71d3848.mp4 ['8899-8915', '9101-9103', '10819-10820', '11966-11969', '11972-11981', '12095-12097', '14402-14404', '14411-14413', '14419-14420', '14422-14425', '14431-14432', '14441-14444', '28387-28405', '29929-29936', '30584-30586', '30589-30592', '58954-58958', '58960-58964', '62308-62312', '76522-76523', '77032-77038', '79442-79445', '88622-88624', '99931-99935', '99941-99944', '99946-99971'] D:\\workspace\\Github\\development_projects\\00_developing\\sayo-voice\\crop_movies\\tsugumi\\s2\\8a45242e586137480e9901dba71d3848.mp4\n",
      "8899 8915\n",
      "9101 9103\n",
      "10819 10820\n",
      "11966 11969\n",
      "11972 11981\n",
      "12095 12097\n",
      "14402 14404\n",
      "14411 14413\n",
      "14419 14420\n",
      "14422 14425\n",
      "14431 14432\n",
      "14441 14444\n",
      "28387 28405\n",
      "29929 29936\n",
      "30584 30586\n",
      "30589 30592\n",
      "58954 58958\n",
      "58960 58964\n",
      "62308 62312\n",
      "76522 76523\n",
      "77032 77038\n",
      "79442 79445\n",
      "88622 88624\n",
      "99931 99935\n",
      "99941 99944\n",
      "99946 99971\n"
     ]
    },
    {
     "name": "stderr",
     "output_type": "stream",
     "text": [
      "\r",
      "chunk:   0%|                                                                        | 0/49 [00:00<?, ?it/s, now=None]"
     ]
    },
    {
     "name": "stdout",
     "output_type": "stream",
     "text": [
      "Moviepy - Building video D:\\workspace\\Github\\development_projects\\00_developing\\sayo-voice\\crop_movies\\tsugumi\\s2\\8a45242e586137480e9901dba71d3848.mp4.\n",
      "MoviePy - Writing audio in 8a45242e586137480e9901dba71d3848TEMP_MPY_wvf_snd.mp4\n"
     ]
    },
    {
     "name": "stderr",
     "output_type": "stream",
     "text": [
      "t:   2%|█▌                                                                 | 3/132 [00:00<00:04, 29.64it/s, now=None]"
     ]
    },
    {
     "name": "stdout",
     "output_type": "stream",
     "text": [
      "MoviePy - Done.\n",
      "Moviepy - Writing video D:\\workspace\\Github\\development_projects\\00_developing\\sayo-voice\\crop_movies\\tsugumi\\s2\\8a45242e586137480e9901dba71d3848.mp4\n",
      "\n"
     ]
    },
    {
     "name": "stderr",
     "output_type": "stream",
     "text": [
      "                                                                                                                     \r"
     ]
    },
    {
     "name": "stdout",
     "output_type": "stream",
     "text": [
      "Moviepy - Done !\n",
      "Moviepy - video ready D:\\workspace\\Github\\development_projects\\00_developing\\sayo-voice\\crop_movies\\tsugumi\\s2\\8a45242e586137480e9901dba71d3848.mp4\n",
      "D:\\workspace\\Github\\development_projects\\00_developing\\sayo-voice\\crop_tmp\\tsugumi\\s2\\2eaa62e3f3ca1f6a63e655b35df989e0.mp4 ['22558-22798', '45571-45575', '45577-45578', '45581-45601', '50144-50161', '52139-52147', '52148-52151', '52153-52159', '52160-52163', '52895-52897', '57905-58064', '64706-64717', '66917-67184', '76304-76336', '79618-79622', '79628-79631', '79633-79648', '81824-81826', '84881-85066', '86884-86914', '89620-89669', '89677-89984', '97123-97247', '97733-97888', '113632-113696', '119776-119933', '119938-120047', '120049-120080', '122120-122180', '130417-130687', '137713-137722', '138524-138527', '142261-142273', '144082-144097', '149774-149777', '149839-149872'] D:\\workspace\\Github\\development_projects\\00_developing\\sayo-voice\\crop_movies\\tsugumi\\s2\\2eaa62e3f3ca1f6a63e655b35df989e0.mp4\n",
      "22558 22798\n",
      "45571 45575\n",
      "45577 45578\n",
      "45581 45601\n",
      "50144 50161\n",
      "52139 52147\n",
      "52148 52151\n",
      "52153 52159\n",
      "52160 52163\n",
      "52895 52897\n",
      "57905 58064\n",
      "64706 64717\n",
      "66917 67184\n",
      "76304 76336\n",
      "79618 79622\n",
      "79628 79631\n",
      "79633 79648\n",
      "81824 81826\n",
      "84881 85066\n",
      "86884 86914\n",
      "89620 89669\n",
      "89677 89984\n",
      "97123 97247\n",
      "97733 97888\n",
      "113632 113696\n",
      "119776 119933\n",
      "119938 120047\n",
      "120049 120080\n",
      "122120 122180\n",
      "130417 130687\n",
      "137713 137722\n",
      "138524 138527\n",
      "142261 142273\n",
      "144082 144097\n",
      "149774 149777\n",
      "149839 149872\n"
     ]
    },
    {
     "name": "stderr",
     "output_type": "stream",
     "text": [
      "\r",
      "chunk:   0%|                                                                       | 0/887 [00:00<?, ?it/s, now=None]"
     ]
    },
    {
     "name": "stdout",
     "output_type": "stream",
     "text": [
      "Moviepy - Building video D:\\workspace\\Github\\development_projects\\00_developing\\sayo-voice\\crop_movies\\tsugumi\\s2\\2eaa62e3f3ca1f6a63e655b35df989e0.mp4.\n",
      "MoviePy - Writing audio in 2eaa62e3f3ca1f6a63e655b35df989e0TEMP_MPY_wvf_snd.mp4\n"
     ]
    },
    {
     "name": "stderr",
     "output_type": "stream",
     "text": [
      "t:   0%|                                                                  | 3/2414 [00:00<01:31, 26.31it/s, now=None]"
     ]
    },
    {
     "name": "stdout",
     "output_type": "stream",
     "text": [
      "MoviePy - Done.\n",
      "Moviepy - Writing video D:\\workspace\\Github\\development_projects\\00_developing\\sayo-voice\\crop_movies\\tsugumi\\s2\\2eaa62e3f3ca1f6a63e655b35df989e0.mp4\n",
      "\n"
     ]
    },
    {
     "name": "stderr",
     "output_type": "stream",
     "text": [
      "                                                                                                                     \r"
     ]
    },
    {
     "name": "stdout",
     "output_type": "stream",
     "text": [
      "Moviepy - Done !\n",
      "Moviepy - video ready D:\\workspace\\Github\\development_projects\\00_developing\\sayo-voice\\crop_movies\\tsugumi\\s2\\2eaa62e3f3ca1f6a63e655b35df989e0.mp4\n",
      "D:\\workspace\\Github\\development_projects\\00_developing\\sayo-voice\\crop_tmp\\tsugumi\\s2\\b56baf263f8a937c7ffdd843ca16ac6f.mp4 ['1858-1868', '15118-15199', '15221-15233', '15241-15283', '19231-19238', '19243-19244', '20095-20098', '20110-20122', '20125-20140', '20183-20203', '22508-22510', '23911-24017', '25333-25336', '25351-25357', '25663-25711', '26608-26611', '26713-26753', '27904-27913', '28051-28069', '30851-30875', '33449-33452', '33457-33464', '33473-33479', '35695-35698', '35699-35701', '40186-40190', '40430-40456', '40465-40475', '42892-42925', '43024-43042', '44758-44761', '46234-46241', '46253-46294', '46393-46436', '49468-49505', '50161-50173', '50176-50291', '50299-50341', '50354-50386', '64553-64555', '64624-64646', '68009-68018', '70966-70969', '73678-73690', '86824-86836', '86840-86851', '87013-87047', '87583-87643', '87646-87652', '87662-87748', '88336-88340', '91837-91840', '91897-91909', '91913-91915', '91930-91940', '91955-91957', '91963-91973', '93325-93341', '93739-93740', '93742-93754', '94366-94367', '94504-94516', '94526-94558', '97412-97415', '97459-97543', '100822-100873', '150130-150229'] D:\\workspace\\Github\\development_projects\\00_developing\\sayo-voice\\crop_movies\\tsugumi\\s2\\b56baf263f8a937c7ffdd843ca16ac6f.mp4\n",
      "1858 1868\n",
      "15118 15199\n",
      "15221 15233\n",
      "15241 15283\n",
      "19231 19238\n",
      "19243 19244\n",
      "20095 20098\n",
      "20110 20122\n",
      "20125 20140\n",
      "20183 20203\n",
      "22508 22510\n",
      "23911 24017\n",
      "25333 25336\n",
      "25351 25357\n",
      "25663 25711\n",
      "26608 26611\n",
      "26713 26753\n",
      "27904 27913\n",
      "28051 28069\n",
      "30851 30875\n",
      "33449 33452\n",
      "33457 33464\n",
      "33473 33479\n",
      "35695 35698\n",
      "35699 35701\n",
      "40186 40190\n",
      "40430 40456\n",
      "40465 40475\n",
      "42892 42925\n",
      "43024 43042\n",
      "44758 44761\n",
      "46234 46241\n",
      "46253 46294\n",
      "46393 46436\n",
      "49468 49505\n",
      "50161 50173\n",
      "50176 50291\n",
      "50299 50341\n",
      "50354 50386\n",
      "64553 64555\n",
      "64624 64646\n",
      "68009 68018\n",
      "70966 70969\n",
      "73678 73690\n",
      "86824 86836\n",
      "86840 86851\n",
      "87013 87047\n",
      "87583 87643\n",
      "87646 87652\n",
      "87662 87748\n",
      "88336 88340\n",
      "91837 91840\n",
      "91897 91909\n",
      "91913 91915\n",
      "91930 91940\n",
      "91955 91957\n",
      "91963 91973\n",
      "93325 93341\n",
      "93739 93740\n",
      "93742 93754\n",
      "94366 94367\n",
      "94504 94516\n",
      "94526 94558\n",
      "97412 97415\n",
      "97459 97543\n",
      "100822 100873\n",
      "150130 150229\n"
     ]
    },
    {
     "name": "stderr",
     "output_type": "stream",
     "text": [
      "\r",
      "chunk:   0%|                                                                       | 0/558 [00:00<?, ?it/s, now=None]"
     ]
    },
    {
     "name": "stdout",
     "output_type": "stream",
     "text": [
      "Moviepy - Building video D:\\workspace\\Github\\development_projects\\00_developing\\sayo-voice\\crop_movies\\tsugumi\\s2\\b56baf263f8a937c7ffdd843ca16ac6f.mp4.\n",
      "MoviePy - Writing audio in b56baf263f8a937c7ffdd843ca16ac6fTEMP_MPY_wvf_snd.mp4\n"
     ]
    },
    {
     "name": "stderr",
     "output_type": "stream",
     "text": [
      "t:   0%|▏                                                                 | 3/1518 [00:00<00:52, 28.84it/s, now=None]"
     ]
    },
    {
     "name": "stdout",
     "output_type": "stream",
     "text": [
      "MoviePy - Done.\n",
      "Moviepy - Writing video D:\\workspace\\Github\\development_projects\\00_developing\\sayo-voice\\crop_movies\\tsugumi\\s2\\b56baf263f8a937c7ffdd843ca16ac6f.mp4\n",
      "\n"
     ]
    },
    {
     "name": "stderr",
     "output_type": "stream",
     "text": [
      "                                                                                                                     \r"
     ]
    },
    {
     "name": "stdout",
     "output_type": "stream",
     "text": [
      "Moviepy - Done !\n",
      "Moviepy - video ready D:\\workspace\\Github\\development_projects\\00_developing\\sayo-voice\\crop_movies\\tsugumi\\s2\\b56baf263f8a937c7ffdd843ca16ac6f.mp4\n",
      "D:\\workspace\\Github\\development_projects\\00_developing\\sayo-voice\\crop_tmp\\tsugumi\\s2\\5f48031d2d1f65836d714623a2f4dec9.mp4 ['17713-17720', '18340-18355', '22262-22270', '25789-25864', '26122-26137', '26143-26144', '26746-26761', '28235-28280', '32914-32938', '33163-33218', '33220-33235', '77620-77644', '77650-77668', '78199-78202', '78401-78430', '80165-80167', '80357-80375', '80386-80398', '82483-82487', '82654-82655', '82859-82864', '82978-82990', '83029-83035', '83050-83062', '83101-83107', '83125-83131', '83398-83416', '83425-83438', '84094-84106', '87439-87451', '94576-94600', '125417-125419', '125549-125560', '125563-125564', '125566-125578', '126850-126854', '126874-126877', '127433-127447'] D:\\workspace\\Github\\development_projects\\00_developing\\sayo-voice\\crop_movies\\tsugumi\\s2\\5f48031d2d1f65836d714623a2f4dec9.mp4\n",
      "17713 17720\n",
      "18340 18355\n",
      "22262 22270\n",
      "25789 25864\n",
      "26122 26137\n",
      "26143 26144\n",
      "26746 26761\n",
      "28235 28280\n",
      "32914 32938\n",
      "33163 33218\n",
      "33220 33235\n",
      "77620 77644\n",
      "77650 77668\n",
      "78199 78202\n",
      "78401 78430\n",
      "80165 80167\n",
      "80357 80375\n",
      "80386 80398\n",
      "82483 82487\n",
      "82654 82655\n",
      "82859 82864\n",
      "82978 82990\n",
      "83029 83035\n",
      "83050 83062\n",
      "83101 83107\n",
      "83125 83131\n",
      "83398 83416\n",
      "83425 83438\n",
      "84094 84106\n",
      "87439 87451\n",
      "94576 94600\n",
      "125417 125419\n",
      "125549 125560\n",
      "125563 125564\n",
      "125566 125578\n",
      "126850 126854\n",
      "126874 126877\n",
      "127433 127447\n"
     ]
    },
    {
     "name": "stderr",
     "output_type": "stream",
     "text": [
      "\r",
      "chunk:   0%|                                                                       | 0/206 [00:00<?, ?it/s, now=None]"
     ]
    },
    {
     "name": "stdout",
     "output_type": "stream",
     "text": [
      "Moviepy - Building video D:\\workspace\\Github\\development_projects\\00_developing\\sayo-voice\\crop_movies\\tsugumi\\s2\\5f48031d2d1f65836d714623a2f4dec9.mp4.\n",
      "MoviePy - Writing audio in 5f48031d2d1f65836d714623a2f4dec9TEMP_MPY_wvf_snd.mp4\n"
     ]
    },
    {
     "name": "stderr",
     "output_type": "stream",
     "text": [
      "t:   1%|▎                                                                  | 3/559 [00:00<00:21, 26.31it/s, now=None]"
     ]
    },
    {
     "name": "stdout",
     "output_type": "stream",
     "text": [
      "MoviePy - Done.\n",
      "Moviepy - Writing video D:\\workspace\\Github\\development_projects\\00_developing\\sayo-voice\\crop_movies\\tsugumi\\s2\\5f48031d2d1f65836d714623a2f4dec9.mp4\n",
      "\n"
     ]
    },
    {
     "name": "stderr",
     "output_type": "stream",
     "text": [
      "                                                                                                                     \r"
     ]
    },
    {
     "name": "stdout",
     "output_type": "stream",
     "text": [
      "Moviepy - Done !\n",
      "Moviepy - video ready D:\\workspace\\Github\\development_projects\\00_developing\\sayo-voice\\crop_movies\\tsugumi\\s2\\5f48031d2d1f65836d714623a2f4dec9.mp4\n",
      "D:\\workspace\\Github\\development_projects\\00_developing\\sayo-voice\\crop_tmp\\tsugumi\\s2\\14192d3ac2d8163dfa46637ac0281efd.mp4 ['23644-23651'] D:\\workspace\\Github\\development_projects\\00_developing\\sayo-voice\\crop_movies\\tsugumi\\s2\\14192d3ac2d8163dfa46637ac0281efd.mp4\n",
      "23644 23651\n"
     ]
    },
    {
     "name": "stderr",
     "output_type": "stream",
     "text": [
      "\r",
      "chunk:   0%|                                                                         | 0/3 [00:00<?, ?it/s, now=None]"
     ]
    },
    {
     "name": "stdout",
     "output_type": "stream",
     "text": [
      "Moviepy - Building video D:\\workspace\\Github\\development_projects\\00_developing\\sayo-voice\\crop_movies\\tsugumi\\s2\\14192d3ac2d8163dfa46637ac0281efd.mp4.\n",
      "MoviePy - Writing audio in 14192d3ac2d8163dfa46637ac0281efdTEMP_MPY_wvf_snd.mp4\n"
     ]
    },
    {
     "name": "stderr",
     "output_type": "stream",
     "text": [
      "t:  25%|█████████████████▎                                                   | 2/8 [00:00<00:00, 19.38it/s, now=None]"
     ]
    },
    {
     "name": "stdout",
     "output_type": "stream",
     "text": [
      "MoviePy - Done.\n",
      "Moviepy - Writing video D:\\workspace\\Github\\development_projects\\00_developing\\sayo-voice\\crop_movies\\tsugumi\\s2\\14192d3ac2d8163dfa46637ac0281efd.mp4\n",
      "\n"
     ]
    },
    {
     "name": "stderr",
     "output_type": "stream",
     "text": [
      "                                                                                                                     \r"
     ]
    },
    {
     "name": "stdout",
     "output_type": "stream",
     "text": [
      "Moviepy - Done !\n",
      "Moviepy - video ready D:\\workspace\\Github\\development_projects\\00_developing\\sayo-voice\\crop_movies\\tsugumi\\s2\\14192d3ac2d8163dfa46637ac0281efd.mp4\n",
      "D:\\workspace\\Github\\development_projects\\00_developing\\sayo-voice\\crop_tmp\\tsugumi\\s2\\6295f59a90765bf753033c117339c37b.mp4 ['25409-25420', '27046-27073', '32239-32246', '32860-32909', '36094-36190', '36344-36373', '37774-37787'] D:\\workspace\\Github\\development_projects\\00_developing\\sayo-voice\\crop_movies\\tsugumi\\s2\\6295f59a90765bf753033c117339c37b.mp4\n",
      "25409 25420\n",
      "27046 27073\n",
      "32239 32246\n",
      "32860 32909\n",
      "36094 36190\n",
      "36344 36373\n",
      "37774 37787\n"
     ]
    },
    {
     "name": "stderr",
     "output_type": "stream",
     "text": [
      "\r",
      "chunk:   0%|                                                                        | 0/86 [00:00<?, ?it/s, now=None]"
     ]
    },
    {
     "name": "stdout",
     "output_type": "stream",
     "text": [
      "Moviepy - Building video D:\\workspace\\Github\\development_projects\\00_developing\\sayo-voice\\crop_movies\\tsugumi\\s2\\6295f59a90765bf753033c117339c37b.mp4.\n",
      "MoviePy - Writing audio in 6295f59a90765bf753033c117339c37bTEMP_MPY_wvf_snd.mp4\n"
     ]
    },
    {
     "name": "stderr",
     "output_type": "stream",
     "text": [
      "t:   1%|▊                                                                  | 3/232 [00:00<00:10, 20.83it/s, now=None]"
     ]
    },
    {
     "name": "stdout",
     "output_type": "stream",
     "text": [
      "MoviePy - Done.\n",
      "Moviepy - Writing video D:\\workspace\\Github\\development_projects\\00_developing\\sayo-voice\\crop_movies\\tsugumi\\s2\\6295f59a90765bf753033c117339c37b.mp4\n",
      "\n"
     ]
    },
    {
     "name": "stderr",
     "output_type": "stream",
     "text": [
      "                                                                                                                     \r"
     ]
    },
    {
     "name": "stdout",
     "output_type": "stream",
     "text": [
      "Moviepy - Done !\n",
      "Moviepy - video ready D:\\workspace\\Github\\development_projects\\00_developing\\sayo-voice\\crop_movies\\tsugumi\\s2\\6295f59a90765bf753033c117339c37b.mp4\n",
      "\n"
     ]
    },
    {
     "data": {
      "application/vnd.jupyter.widget-view+json": {
       "model_id": "",
       "version_major": 2,
       "version_minor": 0
      },
      "text/plain": [
       "HBox(children=(HTML(value=''), FloatProgress(value=0.0, max=59.0), HTML(value='')))"
      ]
     },
     "metadata": {},
     "output_type": "display_data"
    },
    {
     "name": "stdout",
     "output_type": "stream",
     "text": [
      "D:\\workspace\\Github\\development_projects\\00_developing\\sayo-voice\\crop_tmp\\tae\\s2\\9bda36f7d141a2062be52bb43f4c5ac1.mp4 ['129919-129935', '129943-129958', '129971-129986', '130003-130030'] D:\\workspace\\Github\\development_projects\\00_developing\\sayo-voice\\crop_movies\\tae\\s2\\9bda36f7d141a2062be52bb43f4c5ac1.mp4\n",
      "129919 129935\n",
      "129943 129958\n",
      "129971 129986\n",
      "130003 130030\n"
     ]
    },
    {
     "name": "stderr",
     "output_type": "stream",
     "text": [
      "\r",
      "chunk:   0%|                                                                        | 0/27 [00:00<?, ?it/s, now=None]"
     ]
    },
    {
     "name": "stdout",
     "output_type": "stream",
     "text": [
      "Moviepy - Building video D:\\workspace\\Github\\development_projects\\00_developing\\sayo-voice\\crop_movies\\tae\\s2\\9bda36f7d141a2062be52bb43f4c5ac1.mp4.\n",
      "MoviePy - Writing audio in 9bda36f7d141a2062be52bb43f4c5ac1TEMP_MPY_wvf_snd.mp4\n"
     ]
    },
    {
     "name": "stderr",
     "output_type": "stream",
     "text": [
      "t:   3%|█▊                                                                  | 2/74 [00:00<00:03, 18.86it/s, now=None]"
     ]
    },
    {
     "name": "stdout",
     "output_type": "stream",
     "text": [
      "MoviePy - Done.\n",
      "Moviepy - Writing video D:\\workspace\\Github\\development_projects\\00_developing\\sayo-voice\\crop_movies\\tae\\s2\\9bda36f7d141a2062be52bb43f4c5ac1.mp4\n",
      "\n"
     ]
    },
    {
     "name": "stderr",
     "output_type": "stream",
     "text": [
      "                                                                                                                     \r"
     ]
    },
    {
     "name": "stdout",
     "output_type": "stream",
     "text": [
      "Moviepy - Done !\n",
      "Moviepy - video ready D:\\workspace\\Github\\development_projects\\00_developing\\sayo-voice\\crop_movies\\tae\\s2\\9bda36f7d141a2062be52bb43f4c5ac1.mp4\n",
      "D:\\workspace\\Github\\development_projects\\00_developing\\sayo-voice\\crop_tmp\\tae\\s2\\495491eea236248a21ee3e7eb7f1ebd2.mp4 ['62338-62341'] D:\\workspace\\Github\\development_projects\\00_developing\\sayo-voice\\crop_movies\\tae\\s2\\495491eea236248a21ee3e7eb7f1ebd2.mp4\n",
      "62338 62341\n"
     ]
    },
    {
     "name": "stderr",
     "output_type": "stream",
     "text": [
      "\r",
      "chunk:   0%|                                                                         | 0/2 [00:00<?, ?it/s, now=None]"
     ]
    },
    {
     "name": "stdout",
     "output_type": "stream",
     "text": [
      "Moviepy - Building video D:\\workspace\\Github\\development_projects\\00_developing\\sayo-voice\\crop_movies\\tae\\s2\\495491eea236248a21ee3e7eb7f1ebd2.mp4.\n",
      "MoviePy - Writing audio in 495491eea236248a21ee3e7eb7f1ebd2TEMP_MPY_wvf_snd.mp4\n"
     ]
    },
    {
     "name": "stderr",
     "output_type": "stream",
     "text": [
      "                                                                                                                     \r"
     ]
    },
    {
     "name": "stdout",
     "output_type": "stream",
     "text": [
      "MoviePy - Done.\n",
      "Moviepy - Writing video D:\\workspace\\Github\\development_projects\\00_developing\\sayo-voice\\crop_movies\\tae\\s2\\495491eea236248a21ee3e7eb7f1ebd2.mp4\n",
      "\n",
      "Moviepy - Done !\n",
      "Moviepy - video ready D:\\workspace\\Github\\development_projects\\00_developing\\sayo-voice\\crop_movies\\tae\\s2\\495491eea236248a21ee3e7eb7f1ebd2.mp4\n",
      "D:\\workspace\\Github\\development_projects\\00_developing\\sayo-voice\\crop_tmp\\tae\\s2\\b56baf263f8a937c7ffdd843ca16ac6f.mp4 ['60895-60905'] D:\\workspace\\Github\\development_projects\\00_developing\\sayo-voice\\crop_movies\\tae\\s2\\b56baf263f8a937c7ffdd843ca16ac6f.mp4\n",
      "60895 60905\n"
     ]
    },
    {
     "name": "stderr",
     "output_type": "stream",
     "text": [
      "\r",
      "chunk:   0%|                                                                         | 0/4 [00:00<?, ?it/s, now=None]"
     ]
    },
    {
     "name": "stdout",
     "output_type": "stream",
     "text": [
      "Moviepy - Building video D:\\workspace\\Github\\development_projects\\00_developing\\sayo-voice\\crop_movies\\tae\\s2\\b56baf263f8a937c7ffdd843ca16ac6f.mp4.\n",
      "MoviePy - Writing audio in b56baf263f8a937c7ffdd843ca16ac6fTEMP_MPY_wvf_snd.mp4\n"
     ]
    },
    {
     "name": "stderr",
     "output_type": "stream",
     "text": [
      "t:  18%|████████████▎                                                       | 2/11 [00:00<00:00, 19.60it/s, now=None]"
     ]
    },
    {
     "name": "stdout",
     "output_type": "stream",
     "text": [
      "MoviePy - Done.\n",
      "Moviepy - Writing video D:\\workspace\\Github\\development_projects\\00_developing\\sayo-voice\\crop_movies\\tae\\s2\\b56baf263f8a937c7ffdd843ca16ac6f.mp4\n",
      "\n"
     ]
    },
    {
     "name": "stderr",
     "output_type": "stream",
     "text": [
      "                                                                                                                     \r"
     ]
    },
    {
     "name": "stdout",
     "output_type": "stream",
     "text": [
      "Moviepy - Done !\n",
      "Moviepy - video ready D:\\workspace\\Github\\development_projects\\00_developing\\sayo-voice\\crop_movies\\tae\\s2\\b56baf263f8a937c7ffdd843ca16ac6f.mp4\n",
      "D:\\workspace\\Github\\development_projects\\00_developing\\sayo-voice\\crop_tmp\\tae\\s2\\5f48031d2d1f65836d714623a2f4dec9.mp4 ['103927-103930', '103949-103963', '103982-103993'] D:\\workspace\\Github\\development_projects\\00_developing\\sayo-voice\\crop_movies\\tae\\s2\\5f48031d2d1f65836d714623a2f4dec9.mp4\n",
      "103927 103930\n",
      "103949 103963\n",
      "103982 103993\n"
     ]
    },
    {
     "name": "stderr",
     "output_type": "stream",
     "text": [
      "\r",
      "chunk:   0%|                                                                        | 0/11 [00:00<?, ?it/s, now=None]"
     ]
    },
    {
     "name": "stdout",
     "output_type": "stream",
     "text": [
      "Moviepy - Building video D:\\workspace\\Github\\development_projects\\00_developing\\sayo-voice\\crop_movies\\tae\\s2\\5f48031d2d1f65836d714623a2f4dec9.mp4.\n",
      "MoviePy - Writing audio in 5f48031d2d1f65836d714623a2f4dec9TEMP_MPY_wvf_snd.mp4\n"
     ]
    },
    {
     "name": "stderr",
     "output_type": "stream",
     "text": [
      "t:   7%|████▋                                                               | 2/29 [00:00<00:01, 20.00it/s, now=None]"
     ]
    },
    {
     "name": "stdout",
     "output_type": "stream",
     "text": [
      "MoviePy - Done.\n",
      "Moviepy - Writing video D:\\workspace\\Github\\development_projects\\00_developing\\sayo-voice\\crop_movies\\tae\\s2\\5f48031d2d1f65836d714623a2f4dec9.mp4\n",
      "\n"
     ]
    },
    {
     "name": "stderr",
     "output_type": "stream",
     "text": [
      "                                                                                                                     \r"
     ]
    },
    {
     "name": "stdout",
     "output_type": "stream",
     "text": [
      "Moviepy - Done !\n",
      "Moviepy - video ready D:\\workspace\\Github\\development_projects\\00_developing\\sayo-voice\\crop_movies\\tae\\s2\\5f48031d2d1f65836d714623a2f4dec9.mp4\n",
      "\n"
     ]
    },
    {
     "data": {
      "application/vnd.jupyter.widget-view+json": {
       "model_id": "",
       "version_major": 2,
       "version_minor": 0
      },
      "text/plain": [
       "HBox(children=(HTML(value=''), FloatProgress(value=0.0, max=59.0), HTML(value='')))"
      ]
     },
     "metadata": {},
     "output_type": "display_data"
    },
    {
     "name": "stdout",
     "output_type": "stream",
     "text": [
      "D:\\workspace\\Github\\development_projects\\00_developing\\sayo-voice\\crop_tmp\\kanon\\s2\\9bda36f7d141a2062be52bb43f4c5ac1.mp4 ['74116-74117'] D:\\workspace\\Github\\development_projects\\00_developing\\sayo-voice\\crop_movies\\kanon\\s2\\9bda36f7d141a2062be52bb43f4c5ac1.mp4\n",
      "74116 74117\n"
     ]
    },
    {
     "name": "stderr",
     "output_type": "stream",
     "text": [
      "\r",
      "chunk:   0%|                                                                         | 0/1 [00:00<?, ?it/s, now=None]"
     ]
    },
    {
     "name": "stdout",
     "output_type": "stream",
     "text": [
      "Moviepy - Building video D:\\workspace\\Github\\development_projects\\00_developing\\sayo-voice\\crop_movies\\kanon\\s2\\9bda36f7d141a2062be52bb43f4c5ac1.mp4.\n",
      "MoviePy - Writing audio in 9bda36f7d141a2062be52bb43f4c5ac1TEMP_MPY_wvf_snd.mp4\n"
     ]
    },
    {
     "name": "stderr",
     "output_type": "stream",
     "text": [
      "                                                                                                                     \r"
     ]
    },
    {
     "name": "stdout",
     "output_type": "stream",
     "text": [
      "MoviePy - Done.\n",
      "Moviepy - Writing video D:\\workspace\\Github\\development_projects\\00_developing\\sayo-voice\\crop_movies\\kanon\\s2\\9bda36f7d141a2062be52bb43f4c5ac1.mp4\n",
      "\n",
      "Moviepy - Done !\n",
      "Moviepy - video ready D:\\workspace\\Github\\development_projects\\00_developing\\sayo-voice\\crop_movies\\kanon\\s2\\9bda36f7d141a2062be52bb43f4c5ac1.mp4\n",
      "D:\\workspace\\Github\\development_projects\\00_developing\\sayo-voice\\crop_tmp\\kanon\\s2\\0ee4e78061eb9f8e4dbeb3f7504179d3.mp4 ['116474-116480'] D:\\workspace\\Github\\development_projects\\00_developing\\sayo-voice\\crop_movies\\kanon\\s2\\0ee4e78061eb9f8e4dbeb3f7504179d3.mp4\n",
      "116474 116480\n"
     ]
    },
    {
     "name": "stderr",
     "output_type": "stream",
     "text": [
      "\r",
      "chunk:   0%|                                                                         | 0/3 [00:00<?, ?it/s, now=None]"
     ]
    },
    {
     "name": "stdout",
     "output_type": "stream",
     "text": [
      "Moviepy - Building video D:\\workspace\\Github\\development_projects\\00_developing\\sayo-voice\\crop_movies\\kanon\\s2\\0ee4e78061eb9f8e4dbeb3f7504179d3.mp4.\n",
      "MoviePy - Writing audio in 0ee4e78061eb9f8e4dbeb3f7504179d3TEMP_MPY_wvf_snd.mp4\n"
     ]
    },
    {
     "name": "stderr",
     "output_type": "stream",
     "text": [
      "t:  50%|██████████████████████████████████▌                                  | 3/6 [00:00<00:00, 24.58it/s, now=None]"
     ]
    },
    {
     "name": "stdout",
     "output_type": "stream",
     "text": [
      "MoviePy - Done.\n",
      "Moviepy - Writing video D:\\workspace\\Github\\development_projects\\00_developing\\sayo-voice\\crop_movies\\kanon\\s2\\0ee4e78061eb9f8e4dbeb3f7504179d3.mp4\n",
      "\n"
     ]
    },
    {
     "name": "stderr",
     "output_type": "stream",
     "text": [
      "                                                                                                                     \r"
     ]
    },
    {
     "name": "stdout",
     "output_type": "stream",
     "text": [
      "Moviepy - Done !\n",
      "Moviepy - video ready D:\\workspace\\Github\\development_projects\\00_developing\\sayo-voice\\crop_movies\\kanon\\s2\\0ee4e78061eb9f8e4dbeb3f7504179d3.mp4\n",
      "\n"
     ]
    },
    {
     "data": {
      "application/vnd.jupyter.widget-view+json": {
       "model_id": "",
       "version_major": 2,
       "version_minor": 0
      },
      "text/plain": [
       "HBox(children=(HTML(value=''), FloatProgress(value=0.0, max=59.0), HTML(value='')))"
      ]
     },
     "metadata": {},
     "output_type": "display_data"
    },
    {
     "name": "stdout",
     "output_type": "stream",
     "text": [
      "D:\\workspace\\Github\\development_projects\\00_developing\\sayo-voice\\crop_tmp\\hina\\s2\\cc082aaa0a3a4684d81dc41bbc439ad4.mp4 ['119983-119986', '164422-164423', '164437-164438'] D:\\workspace\\Github\\development_projects\\00_developing\\sayo-voice\\crop_movies\\hina\\s2\\cc082aaa0a3a4684d81dc41bbc439ad4.mp4\n",
      "119983 119986\n",
      "164422 164423\n",
      "164437 164438\n"
     ]
    },
    {
     "name": "stderr",
     "output_type": "stream",
     "text": [
      "\r",
      "chunk:   0%|                                                                         | 0/2 [00:00<?, ?it/s, now=None]"
     ]
    },
    {
     "name": "stdout",
     "output_type": "stream",
     "text": [
      "Moviepy - Building video D:\\workspace\\Github\\development_projects\\00_developing\\sayo-voice\\crop_movies\\hina\\s2\\cc082aaa0a3a4684d81dc41bbc439ad4.mp4.\n",
      "MoviePy - Writing audio in cc082aaa0a3a4684d81dc41bbc439ad4TEMP_MPY_wvf_snd.mp4\n"
     ]
    },
    {
     "name": "stderr",
     "output_type": "stream",
     "text": [
      "t:  60%|█████████████████████████████████████████▍                           | 3/5 [00:00<00:00, 26.54it/s, now=None]"
     ]
    },
    {
     "name": "stdout",
     "output_type": "stream",
     "text": [
      "MoviePy - Done.\n",
      "Moviepy - Writing video D:\\workspace\\Github\\development_projects\\00_developing\\sayo-voice\\crop_movies\\hina\\s2\\cc082aaa0a3a4684d81dc41bbc439ad4.mp4\n",
      "\n"
     ]
    },
    {
     "name": "stderr",
     "output_type": "stream",
     "text": [
      "                                                                                                                     \r"
     ]
    },
    {
     "name": "stdout",
     "output_type": "stream",
     "text": [
      "Moviepy - Done !\n",
      "Moviepy - video ready D:\\workspace\\Github\\development_projects\\00_developing\\sayo-voice\\crop_movies\\hina\\s2\\cc082aaa0a3a4684d81dc41bbc439ad4.mp4\n",
      "D:\\workspace\\Github\\development_projects\\00_developing\\sayo-voice\\crop_tmp\\hina\\s2\\72466830c2681596ff74d201082f0057.mp4 ['130141-130142'] D:\\workspace\\Github\\development_projects\\00_developing\\sayo-voice\\crop_movies\\hina\\s2\\72466830c2681596ff74d201082f0057.mp4\n",
      "130141 130142\n"
     ]
    },
    {
     "name": "stderr",
     "output_type": "stream",
     "text": [
      "\r",
      "chunk:   0%|                                                                         | 0/1 [00:00<?, ?it/s, now=None]"
     ]
    },
    {
     "name": "stdout",
     "output_type": "stream",
     "text": [
      "Moviepy - Building video D:\\workspace\\Github\\development_projects\\00_developing\\sayo-voice\\crop_movies\\hina\\s2\\72466830c2681596ff74d201082f0057.mp4.\n",
      "MoviePy - Writing audio in 72466830c2681596ff74d201082f0057TEMP_MPY_wvf_snd.mp4\n"
     ]
    },
    {
     "name": "stderr",
     "output_type": "stream",
     "text": [
      "                                                                                                                     \r"
     ]
    },
    {
     "name": "stdout",
     "output_type": "stream",
     "text": [
      "MoviePy - Done.\n",
      "Moviepy - Writing video D:\\workspace\\Github\\development_projects\\00_developing\\sayo-voice\\crop_movies\\hina\\s2\\72466830c2681596ff74d201082f0057.mp4\n",
      "\n",
      "Moviepy - Done !\n",
      "Moviepy - video ready D:\\workspace\\Github\\development_projects\\00_developing\\sayo-voice\\crop_movies\\hina\\s2\\72466830c2681596ff74d201082f0057.mp4\n",
      "D:\\workspace\\Github\\development_projects\\00_developing\\sayo-voice\\crop_tmp\\hina\\s2\\0ee4e78061eb9f8e4dbeb3f7504179d3.mp4 ['99676-99677'] D:\\workspace\\Github\\development_projects\\00_developing\\sayo-voice\\crop_movies\\hina\\s2\\0ee4e78061eb9f8e4dbeb3f7504179d3.mp4\n",
      "99676 99677\n"
     ]
    },
    {
     "name": "stderr",
     "output_type": "stream",
     "text": [
      "\r",
      "chunk:   0%|                                                                         | 0/1 [00:00<?, ?it/s, now=None]"
     ]
    },
    {
     "name": "stdout",
     "output_type": "stream",
     "text": [
      "Moviepy - Building video D:\\workspace\\Github\\development_projects\\00_developing\\sayo-voice\\crop_movies\\hina\\s2\\0ee4e78061eb9f8e4dbeb3f7504179d3.mp4.\n",
      "MoviePy - Writing audio in 0ee4e78061eb9f8e4dbeb3f7504179d3TEMP_MPY_wvf_snd.mp4\n"
     ]
    },
    {
     "name": "stderr",
     "output_type": "stream",
     "text": [
      "                                                                                                                     \r"
     ]
    },
    {
     "name": "stdout",
     "output_type": "stream",
     "text": [
      "MoviePy - Done.\n",
      "Moviepy - Writing video D:\\workspace\\Github\\development_projects\\00_developing\\sayo-voice\\crop_movies\\hina\\s2\\0ee4e78061eb9f8e4dbeb3f7504179d3.mp4\n",
      "\n",
      "Moviepy - Done !\n",
      "Moviepy - video ready D:\\workspace\\Github\\development_projects\\00_developing\\sayo-voice\\crop_movies\\hina\\s2\\0ee4e78061eb9f8e4dbeb3f7504179d3.mp4\n",
      "D:\\workspace\\Github\\development_projects\\00_developing\\sayo-voice\\crop_tmp\\hina\\s2\\e53c86499b144dbeed0cecf12acc09ec.mp4 ['6250-6251', '71353-71354'] D:\\workspace\\Github\\development_projects\\00_developing\\sayo-voice\\crop_movies\\hina\\s2\\e53c86499b144dbeed0cecf12acc09ec.mp4\n",
      "6250 6251\n",
      "71353 71354\n"
     ]
    },
    {
     "name": "stderr",
     "output_type": "stream",
     "text": [
      "\r",
      "chunk:   0%|                                                                         | 0/1 [00:00<?, ?it/s, now=None]"
     ]
    },
    {
     "name": "stdout",
     "output_type": "stream",
     "text": [
      "Moviepy - Building video D:\\workspace\\Github\\development_projects\\00_developing\\sayo-voice\\crop_movies\\hina\\s2\\e53c86499b144dbeed0cecf12acc09ec.mp4.\n",
      "MoviePy - Writing audio in e53c86499b144dbeed0cecf12acc09ecTEMP_MPY_wvf_snd.mp4\n"
     ]
    },
    {
     "name": "stderr",
     "output_type": "stream",
     "text": [
      "t:   0%|                                                                             | 0/2 [00:00<?, ?it/s, now=None]"
     ]
    },
    {
     "name": "stdout",
     "output_type": "stream",
     "text": [
      "MoviePy - Done.\n",
      "Moviepy - Writing video D:\\workspace\\Github\\development_projects\\00_developing\\sayo-voice\\crop_movies\\hina\\s2\\e53c86499b144dbeed0cecf12acc09ec.mp4\n",
      "\n"
     ]
    },
    {
     "name": "stderr",
     "output_type": "stream",
     "text": [
      "                                                                                                                     \r"
     ]
    },
    {
     "name": "stdout",
     "output_type": "stream",
     "text": [
      "Moviepy - Done !\n",
      "Moviepy - video ready D:\\workspace\\Github\\development_projects\\00_developing\\sayo-voice\\crop_movies\\hina\\s2\\e53c86499b144dbeed0cecf12acc09ec.mp4\n",
      "D:\\workspace\\Github\\development_projects\\00_developing\\sayo-voice\\crop_tmp\\hina\\s2\\4e86608415445fcf425997f4ff9927a5.mp4 ['51551-51553', '51562-51568'] D:\\workspace\\Github\\development_projects\\00_developing\\sayo-voice\\crop_movies\\hina\\s2\\4e86608415445fcf425997f4ff9927a5.mp4\n",
      "51551 51553\n",
      "51562 51568\n"
     ]
    },
    {
     "name": "stderr",
     "output_type": "stream",
     "text": [
      "\r",
      "chunk:   0%|                                                                         | 0/3 [00:00<?, ?it/s, now=None]"
     ]
    },
    {
     "name": "stdout",
     "output_type": "stream",
     "text": [
      "Moviepy - Building video D:\\workspace\\Github\\development_projects\\00_developing\\sayo-voice\\crop_movies\\hina\\s2\\4e86608415445fcf425997f4ff9927a5.mp4.\n",
      "MoviePy - Writing audio in 4e86608415445fcf425997f4ff9927a5TEMP_MPY_wvf_snd.mp4\n"
     ]
    },
    {
     "name": "stderr",
     "output_type": "stream",
     "text": [
      "t:  33%|███████████████████████                                              | 3/9 [00:00<00:00, 27.02it/s, now=None]"
     ]
    },
    {
     "name": "stdout",
     "output_type": "stream",
     "text": [
      "MoviePy - Done.\n",
      "Moviepy - Writing video D:\\workspace\\Github\\development_projects\\00_developing\\sayo-voice\\crop_movies\\hina\\s2\\4e86608415445fcf425997f4ff9927a5.mp4\n",
      "\n"
     ]
    },
    {
     "name": "stderr",
     "output_type": "stream",
     "text": [
      "                                                                                                                     \r"
     ]
    },
    {
     "name": "stdout",
     "output_type": "stream",
     "text": [
      "Moviepy - Done !\n",
      "Moviepy - video ready D:\\workspace\\Github\\development_projects\\00_developing\\sayo-voice\\crop_movies\\hina\\s2\\4e86608415445fcf425997f4ff9927a5.mp4\n",
      "D:\\workspace\\Github\\development_projects\\00_developing\\sayo-voice\\crop_tmp\\hina\\s2\\10dfbed38ab837ff3b790b7b6fce0163.mp4 ['71078-71080'] D:\\workspace\\Github\\development_projects\\00_developing\\sayo-voice\\crop_movies\\hina\\s2\\10dfbed38ab837ff3b790b7b6fce0163.mp4\n",
      "71078 71080\n"
     ]
    },
    {
     "name": "stderr",
     "output_type": "stream",
     "text": [
      "\r",
      "chunk:   0%|                                                                         | 0/1 [00:00<?, ?it/s, now=None]"
     ]
    },
    {
     "name": "stdout",
     "output_type": "stream",
     "text": [
      "Moviepy - Building video D:\\workspace\\Github\\development_projects\\00_developing\\sayo-voice\\crop_movies\\hina\\s2\\10dfbed38ab837ff3b790b7b6fce0163.mp4.\n",
      "MoviePy - Writing audio in 10dfbed38ab837ff3b790b7b6fce0163TEMP_MPY_wvf_snd.mp4\n"
     ]
    },
    {
     "name": "stderr",
     "output_type": "stream",
     "text": [
      "                                                                                                                     \r"
     ]
    },
    {
     "name": "stdout",
     "output_type": "stream",
     "text": [
      "MoviePy - Done.\n",
      "Moviepy - Writing video D:\\workspace\\Github\\development_projects\\00_developing\\sayo-voice\\crop_movies\\hina\\s2\\10dfbed38ab837ff3b790b7b6fce0163.mp4\n",
      "\n",
      "Moviepy - Done !\n",
      "Moviepy - video ready D:\\workspace\\Github\\development_projects\\00_developing\\sayo-voice\\crop_movies\\hina\\s2\\10dfbed38ab837ff3b790b7b6fce0163.mp4\n",
      "D:\\workspace\\Github\\development_projects\\00_developing\\sayo-voice\\crop_tmp\\hina\\s2\\14192d3ac2d8163dfa46637ac0281efd.mp4 ['56474-56476', '56479-56480'] D:\\workspace\\Github\\development_projects\\00_developing\\sayo-voice\\crop_movies\\hina\\s2\\14192d3ac2d8163dfa46637ac0281efd.mp4\n",
      "56474 56476\n",
      "56479 56480\n"
     ]
    },
    {
     "name": "stderr",
     "output_type": "stream",
     "text": [
      "\r",
      "chunk:   0%|                                                                         | 0/2 [00:00<?, ?it/s, now=None]"
     ]
    },
    {
     "name": "stdout",
     "output_type": "stream",
     "text": [
      "Moviepy - Building video D:\\workspace\\Github\\development_projects\\00_developing\\sayo-voice\\crop_movies\\hina\\s2\\14192d3ac2d8163dfa46637ac0281efd.mp4.\n",
      "MoviePy - Writing audio in 14192d3ac2d8163dfa46637ac0281efdTEMP_MPY_wvf_snd.mp4\n"
     ]
    },
    {
     "name": "stderr",
     "output_type": "stream",
     "text": [
      "t: 100%|█████████████████████████████████████████████████████████████████████| 3/3 [00:00<00:00, 26.54it/s, now=None]"
     ]
    },
    {
     "name": "stdout",
     "output_type": "stream",
     "text": [
      "MoviePy - Done.\n",
      "Moviepy - Writing video D:\\workspace\\Github\\development_projects\\00_developing\\sayo-voice\\crop_movies\\hina\\s2\\14192d3ac2d8163dfa46637ac0281efd.mp4\n",
      "\n"
     ]
    },
    {
     "name": "stderr",
     "output_type": "stream",
     "text": [
      "                                                                                                                     \r"
     ]
    },
    {
     "name": "stdout",
     "output_type": "stream",
     "text": [
      "Moviepy - Done !\n",
      "Moviepy - video ready D:\\workspace\\Github\\development_projects\\00_developing\\sayo-voice\\crop_movies\\hina\\s2\\14192d3ac2d8163dfa46637ac0281efd.mp4\n",
      "\n"
     ]
    },
    {
     "data": {
      "application/vnd.jupyter.widget-view+json": {
       "model_id": "",
       "version_major": 2,
       "version_minor": 0
      },
      "text/plain": [
       "HBox(children=(HTML(value=''), FloatProgress(value=0.0, max=59.0), HTML(value='')))"
      ]
     },
     "metadata": {},
     "output_type": "display_data"
    },
    {
     "name": "stdout",
     "output_type": "stream",
     "text": [
      "D:\\workspace\\Github\\development_projects\\00_developing\\sayo-voice\\crop_tmp\\aya\\s2\\cc082aaa0a3a4684d81dc41bbc439ad4.mp4 ['88769-88783', '88829-88843'] D:\\workspace\\Github\\development_projects\\00_developing\\sayo-voice\\crop_movies\\aya\\s2\\cc082aaa0a3a4684d81dc41bbc439ad4.mp4\n",
      "88769 88783\n",
      "88829 88843\n"
     ]
    },
    {
     "name": "stderr",
     "output_type": "stream",
     "text": [
      "\r",
      "chunk:   0%|                                                                        | 0/11 [00:00<?, ?it/s, now=None]"
     ]
    },
    {
     "name": "stdout",
     "output_type": "stream",
     "text": [
      "Moviepy - Building video D:\\workspace\\Github\\development_projects\\00_developing\\sayo-voice\\crop_movies\\aya\\s2\\cc082aaa0a3a4684d81dc41bbc439ad4.mp4.\n",
      "MoviePy - Writing audio in cc082aaa0a3a4684d81dc41bbc439ad4TEMP_MPY_wvf_snd.mp4\n"
     ]
    },
    {
     "name": "stderr",
     "output_type": "stream",
     "text": [
      "t:   0%|                                                                            | 0/29 [00:00<?, ?it/s, now=None]"
     ]
    },
    {
     "name": "stdout",
     "output_type": "stream",
     "text": [
      "MoviePy - Done.\n",
      "Moviepy - Writing video D:\\workspace\\Github\\development_projects\\00_developing\\sayo-voice\\crop_movies\\aya\\s2\\cc082aaa0a3a4684d81dc41bbc439ad4.mp4\n",
      "\n"
     ]
    },
    {
     "name": "stderr",
     "output_type": "stream",
     "text": [
      "                                                                                                                     \r"
     ]
    },
    {
     "name": "stdout",
     "output_type": "stream",
     "text": [
      "Moviepy - Done !\n",
      "Moviepy - video ready D:\\workspace\\Github\\development_projects\\00_developing\\sayo-voice\\crop_movies\\aya\\s2\\cc082aaa0a3a4684d81dc41bbc439ad4.mp4\n",
      "D:\\workspace\\Github\\development_projects\\00_developing\\sayo-voice\\crop_tmp\\aya\\s2\\72466830c2681596ff74d201082f0057.mp4 ['17314-17315', '17348-17350', '24118-24127'] D:\\workspace\\Github\\development_projects\\00_developing\\sayo-voice\\crop_movies\\aya\\s2\\72466830c2681596ff74d201082f0057.mp4\n",
      "17314 17315\n",
      "17348 17350\n",
      "24118 24127\n"
     ]
    },
    {
     "name": "stderr",
     "output_type": "stream",
     "text": [
      "\r",
      "chunk:   0%|                                                                         | 0/5 [00:00<?, ?it/s, now=None]"
     ]
    },
    {
     "name": "stdout",
     "output_type": "stream",
     "text": [
      "Moviepy - Building video D:\\workspace\\Github\\development_projects\\00_developing\\sayo-voice\\crop_movies\\aya\\s2\\72466830c2681596ff74d201082f0057.mp4.\n",
      "MoviePy - Writing audio in 72466830c2681596ff74d201082f0057TEMP_MPY_wvf_snd.mp4\n"
     ]
    },
    {
     "name": "stderr",
     "output_type": "stream",
     "text": [
      "t:   0%|                                                                            | 0/13 [00:00<?, ?it/s, now=None]"
     ]
    },
    {
     "name": "stdout",
     "output_type": "stream",
     "text": [
      "MoviePy - Done.\n",
      "Moviepy - Writing video D:\\workspace\\Github\\development_projects\\00_developing\\sayo-voice\\crop_movies\\aya\\s2\\72466830c2681596ff74d201082f0057.mp4\n",
      "\n"
     ]
    },
    {
     "name": "stderr",
     "output_type": "stream",
     "text": [
      "                                                                                                                     \r"
     ]
    },
    {
     "name": "stdout",
     "output_type": "stream",
     "text": [
      "Moviepy - Done !\n",
      "Moviepy - video ready D:\\workspace\\Github\\development_projects\\00_developing\\sayo-voice\\crop_movies\\aya\\s2\\72466830c2681596ff74d201082f0057.mp4\n",
      "D:\\workspace\\Github\\development_projects\\00_developing\\sayo-voice\\crop_tmp\\aya\\s2\\db001830795b0c41f3dfe6c20e6b4786.mp4 ['27919-27925'] D:\\workspace\\Github\\development_projects\\00_developing\\sayo-voice\\crop_movies\\aya\\s2\\db001830795b0c41f3dfe6c20e6b4786.mp4\n",
      "27919 27925\n"
     ]
    },
    {
     "name": "stderr",
     "output_type": "stream",
     "text": [
      "\r",
      "chunk:   0%|                                                                         | 0/3 [00:00<?, ?it/s, now=None]"
     ]
    },
    {
     "name": "stdout",
     "output_type": "stream",
     "text": [
      "Moviepy - Building video D:\\workspace\\Github\\development_projects\\00_developing\\sayo-voice\\crop_movies\\aya\\s2\\db001830795b0c41f3dfe6c20e6b4786.mp4.\n",
      "MoviePy - Writing audio in db001830795b0c41f3dfe6c20e6b4786TEMP_MPY_wvf_snd.mp4\n"
     ]
    },
    {
     "name": "stderr",
     "output_type": "stream",
     "text": [
      "t:  43%|█████████████████████████████▌                                       | 3/7 [00:00<00:00, 25.64it/s, now=None]"
     ]
    },
    {
     "name": "stdout",
     "output_type": "stream",
     "text": [
      "MoviePy - Done.\n",
      "Moviepy - Writing video D:\\workspace\\Github\\development_projects\\00_developing\\sayo-voice\\crop_movies\\aya\\s2\\db001830795b0c41f3dfe6c20e6b4786.mp4\n",
      "\n"
     ]
    },
    {
     "name": "stderr",
     "output_type": "stream",
     "text": [
      "                                                                                                                     \r"
     ]
    },
    {
     "name": "stdout",
     "output_type": "stream",
     "text": [
      "Moviepy - Done !\n",
      "Moviepy - video ready D:\\workspace\\Github\\development_projects\\00_developing\\sayo-voice\\crop_movies\\aya\\s2\\db001830795b0c41f3dfe6c20e6b4786.mp4\n",
      "\n"
     ]
    },
    {
     "data": {
      "application/vnd.jupyter.widget-view+json": {
       "model_id": "",
       "version_major": 2,
       "version_minor": 0
      },
      "text/plain": [
       "HBox(children=(HTML(value=''), FloatProgress(value=0.0, max=59.0), HTML(value='')))"
      ]
     },
     "metadata": {},
     "output_type": "display_data"
    },
    {
     "name": "stdout",
     "output_type": "stream",
     "text": [
      "D:\\workspace\\Github\\development_projects\\00_developing\\sayo-voice\\crop_tmp\\eve\\s2\\9bda36f7d141a2062be52bb43f4c5ac1.mp4 ['2042-2053', '6575-6583', '7642-7643', '7645-7648', '7649-7651', '7672-7673', '7718-7730', '7745-7756', '11992-11995', '11996-12001', '12013-12016', '12689-12715', '14234-14245', '14768-14776', '19066-19076', '23275-23279', '23290-23296', '27866-27868', '27872-27874', '27877-27895', '27905-27919', '29948-29950', '29956-29962', '35473-35474', '37777-37780', '37786-37789', '37805-37819', '37834-37835', '37837-37840', '40376-40381', '40384-40385', '40387-40390', '40666-40669', '41467-41468', '41635-41654', '41665-41668', '45280-45287', '45362-45376', '45770-45784', '46378-46379', '46396-46417', '46420-46663', '49822-49877', '49909-49966', '49969-49991', '49993-50000', '54752-54782', '55993-55996', '56005-56008', '56009-56012', '56014-56015', '56069-56072', '59386-59407', '60535-60538', '60539-60541', '60542-60544', '60571-60572', '62288-62299', '62300-62311', '63673-63679', '63680-63683', '63685-63686', '64540-64547', '67061-67066', '67067-67069', '71140-71143', '71434-71503', '76156-76157', '80527-80530', '81763-81764', '81769-81770', '85760-85762', '85933-85936', '90020-90026', '90059-90067', '93859-93868', '93898-93899', '93907-93937', '93983-93985', '93988-93994', '103358-103364', '107270-107326', '108091-108122', '109072-109075', '116521-116536', '121667-121697', '121706-121708', '121721-121735', '122435-122446', '122447-122459', '129001-129013', '129016-129028', '131902-131903', '134860-134863', '134864-134893', '134894-134906', '141166-141167', '141181-141185', '141187-141190', '141421-141427', '144061-144115', '144130-144137', '151750-151753', '151754-151756', '151759-151760', '151762-151763', '151766-151786', '151790-151795', '151798-151811', '151816-151856', '152789-152791', '152794-152801'] D:\\workspace\\Github\\development_projects\\00_developing\\sayo-voice\\crop_movies\\eve\\s2\\9bda36f7d141a2062be52bb43f4c5ac1.mp4\n",
      "2042 2053\n",
      "6575 6583\n",
      "7642 7643\n",
      "7645 7648\n",
      "7649 7651\n",
      "7672 7673\n",
      "7718 7730\n",
      "7745 7756\n",
      "11992 11995\n",
      "11996 12001\n",
      "12013 12016\n",
      "12689 12715\n",
      "14234 14245\n",
      "14768 14776\n",
      "19066 19076\n",
      "23275 23279\n",
      "23290 23296\n",
      "27866 27868\n",
      "27872 27874\n",
      "27877 27895\n",
      "27905 27919\n",
      "29948 29950\n",
      "29956 29962\n",
      "35473 35474\n",
      "37777 37780\n",
      "37786 37789\n",
      "37805 37819\n",
      "37834 37835\n",
      "37837 37840\n",
      "40376 40381\n",
      "40384 40385\n",
      "40387 40390\n",
      "40666 40669\n",
      "41467 41468\n",
      "41635 41654\n",
      "41665 41668\n",
      "45280 45287\n",
      "45362 45376\n",
      "45770 45784\n",
      "46378 46379\n",
      "46396 46417\n",
      "46420 46663\n",
      "49822 49877\n",
      "49909 49966\n",
      "49969 49991\n",
      "49993 50000\n",
      "54752 54782\n",
      "55993 55996\n",
      "56005 56008\n",
      "56009 56012\n",
      "56014 56015\n",
      "56069 56072\n",
      "59386 59407\n",
      "60535 60538\n",
      "60539 60541\n",
      "60542 60544\n",
      "60571 60572\n",
      "62288 62299\n",
      "62300 62311\n",
      "63673 63679\n",
      "63680 63683\n",
      "63685 63686\n",
      "64540 64547\n",
      "67061 67066\n",
      "67067 67069\n",
      "71140 71143\n",
      "71434 71503\n",
      "76156 76157\n",
      "80527 80530\n",
      "81763 81764\n",
      "81769 81770\n",
      "85760 85762\n",
      "85933 85936\n",
      "90020 90026\n",
      "90059 90067\n",
      "93859 93868\n",
      "93898 93899\n",
      "93907 93937\n",
      "93983 93985\n",
      "93988 93994\n",
      "103358 103364\n",
      "107270 107326\n",
      "108091 108122\n",
      "109072 109075\n",
      "116521 116536\n",
      "121667 121697\n",
      "121706 121708\n",
      "121721 121735\n",
      "122435 122446\n",
      "122447 122459\n",
      "129001 129013\n",
      "129016 129028\n",
      "131902 131903\n",
      "134860 134863\n",
      "134864 134893\n",
      "134894 134906\n",
      "141166 141167\n",
      "141181 141185\n",
      "141187 141190\n",
      "141421 141427\n",
      "144061 144115\n",
      "144130 144137\n",
      "151750 151753\n",
      "151754 151756\n",
      "151759 151760\n",
      "151762 151763\n",
      "151766 151786\n",
      "151790 151795\n",
      "151798 151811\n",
      "151816 151856\n",
      "152789 152791\n",
      "152794 152801\n"
     ]
    },
    {
     "name": "stderr",
     "output_type": "stream",
     "text": [
      "\r",
      "chunk:   0%|                                                                       | 0/497 [00:00<?, ?it/s, now=None]"
     ]
    },
    {
     "name": "stdout",
     "output_type": "stream",
     "text": [
      "Moviepy - Building video D:\\workspace\\Github\\development_projects\\00_developing\\sayo-voice\\crop_movies\\eve\\s2\\9bda36f7d141a2062be52bb43f4c5ac1.mp4.\n",
      "MoviePy - Writing audio in 9bda36f7d141a2062be52bb43f4c5ac1TEMP_MPY_wvf_snd.mp4\n"
     ]
    },
    {
     "name": "stderr",
     "output_type": "stream",
     "text": [
      "t:   0%|▏                                                                 | 4/1352 [00:00<00:38, 35.47it/s, now=None]"
     ]
    },
    {
     "name": "stdout",
     "output_type": "stream",
     "text": [
      "MoviePy - Done.\n",
      "Moviepy - Writing video D:\\workspace\\Github\\development_projects\\00_developing\\sayo-voice\\crop_movies\\eve\\s2\\9bda36f7d141a2062be52bb43f4c5ac1.mp4\n",
      "\n"
     ]
    },
    {
     "name": "stderr",
     "output_type": "stream",
     "text": [
      "                                                                                                                     \r"
     ]
    },
    {
     "name": "stdout",
     "output_type": "stream",
     "text": [
      "Moviepy - Done !\n",
      "Moviepy - video ready D:\\workspace\\Github\\development_projects\\00_developing\\sayo-voice\\crop_movies\\eve\\s2\\9bda36f7d141a2062be52bb43f4c5ac1.mp4\n",
      "D:\\workspace\\Github\\development_projects\\00_developing\\sayo-voice\\crop_tmp\\eve\\s2\\cc082aaa0a3a4684d81dc41bbc439ad4.mp4 ['163982-163987'] D:\\workspace\\Github\\development_projects\\00_developing\\sayo-voice\\crop_movies\\eve\\s2\\cc082aaa0a3a4684d81dc41bbc439ad4.mp4\n",
      "163982 163987\n"
     ]
    },
    {
     "name": "stderr",
     "output_type": "stream",
     "text": [
      "\r",
      "chunk:   0%|                                                                         | 0/2 [00:00<?, ?it/s, now=None]"
     ]
    },
    {
     "name": "stdout",
     "output_type": "stream",
     "text": [
      "Moviepy - Building video D:\\workspace\\Github\\development_projects\\00_developing\\sayo-voice\\crop_movies\\eve\\s2\\cc082aaa0a3a4684d81dc41bbc439ad4.mp4.\n",
      "MoviePy - Writing audio in cc082aaa0a3a4684d81dc41bbc439ad4TEMP_MPY_wvf_snd.mp4\n"
     ]
    },
    {
     "name": "stderr",
     "output_type": "stream",
     "text": [
      "t:  33%|███████████████████████                                              | 2/6 [00:00<00:00, 19.60it/s, now=None]"
     ]
    },
    {
     "name": "stdout",
     "output_type": "stream",
     "text": [
      "MoviePy - Done.\n",
      "Moviepy - Writing video D:\\workspace\\Github\\development_projects\\00_developing\\sayo-voice\\crop_movies\\eve\\s2\\cc082aaa0a3a4684d81dc41bbc439ad4.mp4\n",
      "\n"
     ]
    },
    {
     "name": "stderr",
     "output_type": "stream",
     "text": [
      "                                                                                                                     \r"
     ]
    },
    {
     "name": "stdout",
     "output_type": "stream",
     "text": [
      "Moviepy - Done !\n",
      "Moviepy - video ready D:\\workspace\\Github\\development_projects\\00_developing\\sayo-voice\\crop_movies\\eve\\s2\\cc082aaa0a3a4684d81dc41bbc439ad4.mp4\n",
      "D:\\workspace\\Github\\development_projects\\00_developing\\sayo-voice\\crop_tmp\\eve\\s2\\72466830c2681596ff74d201082f0057.mp4 ['18323-18340', '18511-18521', '21934-21982', '31591-31633', '32710-32716', '32719-32722', '32734-32740', '32743-32746', '32822-32854', '32893-32908', '32929-33001', '123848-123850', '123868-123869', '123874-123887', '123890-123892'] D:\\workspace\\Github\\development_projects\\00_developing\\sayo-voice\\crop_movies\\eve\\s2\\72466830c2681596ff74d201082f0057.mp4\n",
      "18323 18340\n",
      "18511 18521\n",
      "21934 21982\n",
      "31591 31633\n",
      "32710 32716\n",
      "32719 32722\n",
      "32734 32740\n",
      "32743 32746\n",
      "32822 32854\n",
      "32893 32908\n",
      "32929 33001\n",
      "123848 123850\n",
      "123868 123869\n",
      "123874 123887\n",
      "123890 123892\n"
     ]
    },
    {
     "name": "stderr",
     "output_type": "stream",
     "text": [
      "\r",
      "chunk:   0%|                                                                       | 0/100 [00:00<?, ?it/s, now=None]"
     ]
    },
    {
     "name": "stdout",
     "output_type": "stream",
     "text": [
      "Moviepy - Building video D:\\workspace\\Github\\development_projects\\00_developing\\sayo-voice\\crop_movies\\eve\\s2\\72466830c2681596ff74d201082f0057.mp4.\n",
      "MoviePy - Writing audio in 72466830c2681596ff74d201082f0057TEMP_MPY_wvf_snd.mp4\n"
     ]
    },
    {
     "name": "stderr",
     "output_type": "stream",
     "text": [
      "t:   1%|▉                                                                  | 4/272 [00:00<00:07, 34.18it/s, now=None]"
     ]
    },
    {
     "name": "stdout",
     "output_type": "stream",
     "text": [
      "MoviePy - Done.\n",
      "Moviepy - Writing video D:\\workspace\\Github\\development_projects\\00_developing\\sayo-voice\\crop_movies\\eve\\s2\\72466830c2681596ff74d201082f0057.mp4\n",
      "\n"
     ]
    },
    {
     "name": "stderr",
     "output_type": "stream",
     "text": [
      "                                                                                                                     \r"
     ]
    },
    {
     "name": "stdout",
     "output_type": "stream",
     "text": [
      "Moviepy - Done !\n",
      "Moviepy - video ready D:\\workspace\\Github\\development_projects\\00_developing\\sayo-voice\\crop_movies\\eve\\s2\\72466830c2681596ff74d201082f0057.mp4\n",
      "D:\\workspace\\Github\\development_projects\\00_developing\\sayo-voice\\crop_tmp\\eve\\s2\\0ee4e78061eb9f8e4dbeb3f7504179d3.mp4 ['7537-7573', '7574-7600', '22036-22039', '26068-26069', '26071-26074', '32533-32590', '32656-32833', '44561-44563', '46178-46180', '50752-50753', '53854-53884', '54580-54581', '54584-54586', '55858-55877', '55879-55936', '64580-64582', '64592-64597', '75799-76000', '89356-89377', '89984-90031', '92593-92608', '92674-92720', '101431-101432', '101455-101456', '105178-105179', '105182-105184', '110411-110434', '120209-120346'] D:\\workspace\\Github\\development_projects\\00_developing\\sayo-voice\\crop_movies\\eve\\s2\\0ee4e78061eb9f8e4dbeb3f7504179d3.mp4\n",
      "7537 7573\n",
      "7574 7600\n",
      "22036 22039\n",
      "26068 26069\n",
      "26071 26074\n",
      "32533 32590\n",
      "32656 32833\n",
      "44561 44563\n",
      "46178 46180\n",
      "50752 50753\n",
      "53854 53884\n",
      "54580 54581\n",
      "54584 54586\n",
      "55858 55877\n",
      "55879 55936\n",
      "64580 64582\n",
      "64592 64597\n",
      "75799 76000\n",
      "89356 89377\n",
      "89984 90031\n",
      "92593 92608\n",
      "92674 92720\n",
      "101431 101432\n",
      "101455 101456\n",
      "105178 105179\n",
      "105182 105184\n",
      "110411 110434\n",
      "120209 120346\n"
     ]
    },
    {
     "name": "stderr",
     "output_type": "stream",
     "text": [
      "\r",
      "chunk:   0%|                                                                       | 0/338 [00:00<?, ?it/s, now=None]"
     ]
    },
    {
     "name": "stdout",
     "output_type": "stream",
     "text": [
      "Moviepy - Building video D:\\workspace\\Github\\development_projects\\00_developing\\sayo-voice\\crop_movies\\eve\\s2\\0ee4e78061eb9f8e4dbeb3f7504179d3.mp4.\n",
      "MoviePy - Writing audio in 0ee4e78061eb9f8e4dbeb3f7504179d3TEMP_MPY_wvf_snd.mp4\n"
     ]
    },
    {
     "name": "stderr",
     "output_type": "stream",
     "text": [
      "t:   0%|▏                                                                  | 3/919 [00:00<00:34, 26.78it/s, now=None]"
     ]
    },
    {
     "name": "stdout",
     "output_type": "stream",
     "text": [
      "MoviePy - Done.\n",
      "Moviepy - Writing video D:\\workspace\\Github\\development_projects\\00_developing\\sayo-voice\\crop_movies\\eve\\s2\\0ee4e78061eb9f8e4dbeb3f7504179d3.mp4\n",
      "\n"
     ]
    },
    {
     "name": "stderr",
     "output_type": "stream",
     "text": [
      "                                                                                                                     \r"
     ]
    },
    {
     "name": "stdout",
     "output_type": "stream",
     "text": [
      "Moviepy - Done !\n",
      "Moviepy - video ready D:\\workspace\\Github\\development_projects\\00_developing\\sayo-voice\\crop_movies\\eve\\s2\\0ee4e78061eb9f8e4dbeb3f7504179d3.mp4\n",
      "D:\\workspace\\Github\\development_projects\\00_developing\\sayo-voice\\crop_tmp\\eve\\s2\\db001830795b0c41f3dfe6c20e6b4786.mp4 ['31211-31213', '31214-31217', '31234-31235', '31237-31255', '37663-37664', '112672-112681', '123688-123775'] D:\\workspace\\Github\\development_projects\\00_developing\\sayo-voice\\crop_movies\\eve\\s2\\db001830795b0c41f3dfe6c20e6b4786.mp4\n",
      "31211 31213\n",
      "31214 31217\n",
      "31234 31235\n",
      "31237 31255\n",
      "37663 37664\n",
      "112672 112681\n",
      "123688 123775\n"
     ]
    },
    {
     "name": "stderr",
     "output_type": "stream",
     "text": [
      "\r",
      "chunk:   0%|                                                                        | 0/45 [00:00<?, ?it/s, now=None]"
     ]
    },
    {
     "name": "stdout",
     "output_type": "stream",
     "text": [
      "Moviepy - Building video D:\\workspace\\Github\\development_projects\\00_developing\\sayo-voice\\crop_movies\\eve\\s2\\db001830795b0c41f3dfe6c20e6b4786.mp4.\n",
      "MoviePy - Writing audio in db001830795b0c41f3dfe6c20e6b4786TEMP_MPY_wvf_snd.mp4\n"
     ]
    },
    {
     "name": "stderr",
     "output_type": "stream",
     "text": [
      "t:   2%|█▋                                                                 | 3/121 [00:00<00:04, 28.84it/s, now=None]"
     ]
    },
    {
     "name": "stdout",
     "output_type": "stream",
     "text": [
      "MoviePy - Done.\n",
      "Moviepy - Writing video D:\\workspace\\Github\\development_projects\\00_developing\\sayo-voice\\crop_movies\\eve\\s2\\db001830795b0c41f3dfe6c20e6b4786.mp4\n",
      "\n"
     ]
    },
    {
     "name": "stderr",
     "output_type": "stream",
     "text": [
      "                                                                                                                     \r"
     ]
    },
    {
     "name": "stdout",
     "output_type": "stream",
     "text": [
      "Moviepy - Done !\n",
      "Moviepy - video ready D:\\workspace\\Github\\development_projects\\00_developing\\sayo-voice\\crop_movies\\eve\\s2\\db001830795b0c41f3dfe6c20e6b4786.mp4\n",
      "D:\\workspace\\Github\\development_projects\\00_developing\\sayo-voice\\crop_tmp\\eve\\s2\\4e86608415445fcf425997f4ff9927a5.mp4 ['3829-3830', '17938-17941', '21838-21839', '39890-39892', '39904-39914', '44974-44977', '44978-44992', '47194-47197', '61648-61651', '99601-99634', '99649-99653', '99655-99656', '99658-99670', '99695-99775', '99917-99922', '102172-102178', '102179-102181'] D:\\workspace\\Github\\development_projects\\00_developing\\sayo-voice\\crop_movies\\eve\\s2\\4e86608415445fcf425997f4ff9927a5.mp4\n",
      "3829 3830\n",
      "17938 17941\n",
      "21838 21839\n",
      "39890 39892\n",
      "39904 39914\n",
      "44974 44977\n",
      "44978 44992\n",
      "47194 47197\n",
      "61648 61651\n",
      "99601 99634\n",
      "99649 99653\n",
      "99655 99656\n",
      "99658 99670\n",
      "99695 99775\n",
      "99917 99922\n",
      "102172 102178\n",
      "102179 102181\n"
     ]
    },
    {
     "name": "stderr",
     "output_type": "stream",
     "text": [
      "\r",
      "chunk:   0%|                                                                        | 0/68 [00:00<?, ?it/s, now=None]"
     ]
    },
    {
     "name": "stdout",
     "output_type": "stream",
     "text": [
      "Moviepy - Building video D:\\workspace\\Github\\development_projects\\00_developing\\sayo-voice\\crop_movies\\eve\\s2\\4e86608415445fcf425997f4ff9927a5.mp4.\n",
      "MoviePy - Writing audio in 4e86608415445fcf425997f4ff9927a5TEMP_MPY_wvf_snd.mp4\n"
     ]
    },
    {
     "name": "stderr",
     "output_type": "stream",
     "text": [
      "t:   0%|                                                                           | 0/184 [00:00<?, ?it/s, now=None]"
     ]
    },
    {
     "name": "stdout",
     "output_type": "stream",
     "text": [
      "MoviePy - Done.\n",
      "Moviepy - Writing video D:\\workspace\\Github\\development_projects\\00_developing\\sayo-voice\\crop_movies\\eve\\s2\\4e86608415445fcf425997f4ff9927a5.mp4\n",
      "\n"
     ]
    },
    {
     "name": "stderr",
     "output_type": "stream",
     "text": [
      "                                                                                                                     \r"
     ]
    },
    {
     "name": "stdout",
     "output_type": "stream",
     "text": [
      "Moviepy - Done !\n",
      "Moviepy - video ready D:\\workspace\\Github\\development_projects\\00_developing\\sayo-voice\\crop_movies\\eve\\s2\\4e86608415445fcf425997f4ff9927a5.mp4\n",
      "D:\\workspace\\Github\\development_projects\\00_developing\\sayo-voice\\crop_tmp\\eve\\s2\\10dfbed38ab837ff3b790b7b6fce0163.mp4 ['29456-29533', '68315-68320', '76669-76685', '76717-76730', '76739-76757', '81949-81953', '81962-81964', '86863-86956', '95740-95798', '95803-95836', '116008-116020', '116083-116090', '116095-116098', '116104-116122'] D:\\workspace\\Github\\development_projects\\00_developing\\sayo-voice\\crop_movies\\eve\\s2\\10dfbed38ab837ff3b790b7b6fce0163.mp4\n",
      "29456 29533\n",
      "68315 68320\n",
      "76669 76685\n",
      "76717 76730\n",
      "76739 76757\n",
      "81949 81953\n",
      "81962 81964\n",
      "86863 86956\n",
      "95740 95798\n",
      "95803 95836\n",
      "116008 116020\n",
      "116083 116090\n",
      "116095 116098\n",
      "116104 116122\n"
     ]
    },
    {
     "name": "stderr",
     "output_type": "stream",
     "text": [
      "\r",
      "chunk:   0%|                                                                       | 0/132 [00:00<?, ?it/s, now=None]"
     ]
    },
    {
     "name": "stdout",
     "output_type": "stream",
     "text": [
      "Moviepy - Building video D:\\workspace\\Github\\development_projects\\00_developing\\sayo-voice\\crop_movies\\eve\\s2\\10dfbed38ab837ff3b790b7b6fce0163.mp4.\n",
      "MoviePy - Writing audio in 10dfbed38ab837ff3b790b7b6fce0163TEMP_MPY_wvf_snd.mp4\n"
     ]
    },
    {
     "name": "stderr",
     "output_type": "stream",
     "text": [
      "t:   1%|▋                                                                  | 4/360 [00:00<00:10, 34.18it/s, now=None]"
     ]
    },
    {
     "name": "stdout",
     "output_type": "stream",
     "text": [
      "MoviePy - Done.\n",
      "Moviepy - Writing video D:\\workspace\\Github\\development_projects\\00_developing\\sayo-voice\\crop_movies\\eve\\s2\\10dfbed38ab837ff3b790b7b6fce0163.mp4\n",
      "\n"
     ]
    },
    {
     "name": "stderr",
     "output_type": "stream",
     "text": [
      "                                                                                                                     \r"
     ]
    },
    {
     "name": "stdout",
     "output_type": "stream",
     "text": [
      "Moviepy - Done !\n",
      "Moviepy - video ready D:\\workspace\\Github\\development_projects\\00_developing\\sayo-voice\\crop_movies\\eve\\s2\\10dfbed38ab837ff3b790b7b6fce0163.mp4\n",
      "D:\\workspace\\Github\\development_projects\\00_developing\\sayo-voice\\crop_tmp\\eve\\s2\\c4f4ae0045ab354a8781b682edfb902c.mp4 ['37091-37108', '37109-37111', '49339-49343', '49540-49553', '59665-59666', '59668-59674', '59677-59681', '60250-60272', '60304-60320'] D:\\workspace\\Github\\development_projects\\00_developing\\sayo-voice\\crop_movies\\eve\\s2\\c4f4ae0045ab354a8781b682edfb902c.mp4\n",
      "37091 37108\n",
      "37109 37111\n",
      "49339 49343\n",
      "49540 49553\n",
      "59665 59666\n",
      "59668 59674\n",
      "59677 59681\n",
      "60250 60272\n",
      "60304 60320\n"
     ]
    },
    {
     "name": "stderr",
     "output_type": "stream",
     "text": [
      "\r",
      "chunk:   0%|                                                                        | 0/32 [00:00<?, ?it/s, now=None]"
     ]
    },
    {
     "name": "stdout",
     "output_type": "stream",
     "text": [
      "Moviepy - Building video D:\\workspace\\Github\\development_projects\\00_developing\\sayo-voice\\crop_movies\\eve\\s2\\c4f4ae0045ab354a8781b682edfb902c.mp4.\n",
      "MoviePy - Writing audio in c4f4ae0045ab354a8781b682edfb902cTEMP_MPY_wvf_snd.mp4\n"
     ]
    },
    {
     "name": "stderr",
     "output_type": "stream",
     "text": [
      "t:   4%|██▍                                                                 | 3/85 [00:00<00:02, 27.77it/s, now=None]"
     ]
    },
    {
     "name": "stdout",
     "output_type": "stream",
     "text": [
      "MoviePy - Done.\n",
      "Moviepy - Writing video D:\\workspace\\Github\\development_projects\\00_developing\\sayo-voice\\crop_movies\\eve\\s2\\c4f4ae0045ab354a8781b682edfb902c.mp4\n",
      "\n"
     ]
    },
    {
     "name": "stderr",
     "output_type": "stream",
     "text": [
      "                                                                                                                     \r"
     ]
    },
    {
     "name": "stdout",
     "output_type": "stream",
     "text": [
      "Moviepy - Done !\n",
      "Moviepy - video ready D:\\workspace\\Github\\development_projects\\00_developing\\sayo-voice\\crop_movies\\eve\\s2\\c4f4ae0045ab354a8781b682edfb902c.mp4\n",
      "D:\\workspace\\Github\\development_projects\\00_developing\\sayo-voice\\crop_tmp\\eve\\s2\\8a45242e586137480e9901dba71d3848.mp4 ['4994-5168', '7904-8209', '14338-14593', '16112-16417', '17992-17998', '28369-28435', '30698-30704', '30773-30775', '30782-30880', '32962-32999', '33007-33011', '34156-34241', '34243-34249', '34250-34253', '34255-34256', '34259-34261', '34265-34343', '34628-34630', '34636-34648', '36751-36784', '38608-38824', '41650-41680', '41684-41780', '41926-41953', '47284-47291', '47344-47347', '50161-50194', '51424-51425', '51434-51451', '51680-51875', '51877-51985', '52871-52873', '57517-57527', '57541-57542', '58969-58970', '58976-59006', '59008-59032', '61088-61105', '62432-62434', '63787-63841', '67603-67604', '69181-69230', '70723-70748', '72259-72260', '72262-72274', '72275-72293', '72319-72352', '72413-72415', '75331-75332', '76163-76186', '79438-79441', '79445-79475', '79504-79505', '81169-81187', '83600-83677', '86257-86269', '87529-87535', '87713-87715', '87755-87757', '87782-87784', '88937-88939', '88942-88943', '88987-88990', '88996-88999', '89006-89009', '89011-89012', '89026-89027', '89041-89072', '90289-90364', '91786-91808', '97207-97210', '97220-97222', '97225-97226', '97247-97258', '97259-97280', '107399-107443'] D:\\workspace\\Github\\development_projects\\00_developing\\sayo-voice\\crop_movies\\eve\\s2\\8a45242e586137480e9901dba71d3848.mp4\n",
      "4994 5168\n",
      "7904 8209\n",
      "14338 14593\n",
      "16112 16417\n",
      "17992 17998\n",
      "28369 28435\n",
      "30698 30704\n",
      "30773 30775\n",
      "30782 30880\n",
      "32962 32999\n",
      "33007 33011\n",
      "34156 34241\n",
      "34243 34249\n",
      "34250 34253\n",
      "34255 34256\n",
      "34259 34261\n",
      "34265 34343\n",
      "34628 34630\n",
      "34636 34648\n",
      "36751 36784\n",
      "38608 38824\n",
      "41650 41680\n",
      "41684 41780\n",
      "41926 41953\n",
      "47284 47291\n",
      "47344 47347\n",
      "50161 50194\n",
      "51424 51425\n",
      "51434 51451\n",
      "51680 51875\n",
      "51877 51985\n",
      "52871 52873\n",
      "57517 57527\n",
      "57541 57542\n",
      "58969 58970\n",
      "58976 59006\n",
      "59008 59032\n",
      "61088 61105\n",
      "62432 62434\n",
      "63787 63841\n",
      "67603 67604\n",
      "69181 69230\n",
      "70723 70748\n",
      "72259 72260\n",
      "72262 72274\n",
      "72275 72293\n",
      "72319 72352\n",
      "72413 72415\n",
      "75331 75332\n",
      "76163 76186\n",
      "79438 79441\n",
      "79445 79475\n",
      "79504 79505\n",
      "81169 81187\n",
      "83600 83677\n",
      "86257 86269\n",
      "87529 87535\n",
      "87713 87715\n",
      "87755 87757\n",
      "87782 87784\n",
      "88937 88939\n",
      "88942 88943\n",
      "88987 88990\n",
      "88996 88999\n",
      "89006 89009\n",
      "89011 89012\n",
      "89026 89027\n",
      "89041 89072\n",
      "90289 90364\n",
      "91786 91808\n",
      "97207 97210\n",
      "97220 97222\n",
      "97225 97226\n",
      "97247 97258\n",
      "97259 97280\n",
      "107399 107443\n"
     ]
    },
    {
     "name": "stderr",
     "output_type": "stream",
     "text": [
      "\r",
      "chunk:   0%|                                                                      | 0/1065 [00:00<?, ?it/s, now=None]"
     ]
    },
    {
     "name": "stdout",
     "output_type": "stream",
     "text": [
      "Moviepy - Building video D:\\workspace\\Github\\development_projects\\00_developing\\sayo-voice\\crop_movies\\eve\\s2\\8a45242e586137480e9901dba71d3848.mp4.\n",
      "MoviePy - Writing audio in 8a45242e586137480e9901dba71d3848TEMP_MPY_wvf_snd.mp4\n"
     ]
    },
    {
     "name": "stderr",
     "output_type": "stream",
     "text": [
      "t:   0%|                                                                  | 4/2897 [00:00<01:22, 35.08it/s, now=None]"
     ]
    },
    {
     "name": "stdout",
     "output_type": "stream",
     "text": [
      "MoviePy - Done.\n",
      "Moviepy - Writing video D:\\workspace\\Github\\development_projects\\00_developing\\sayo-voice\\crop_movies\\eve\\s2\\8a45242e586137480e9901dba71d3848.mp4\n",
      "\n"
     ]
    },
    {
     "name": "stderr",
     "output_type": "stream",
     "text": [
      "                                                                                                                     \r"
     ]
    },
    {
     "name": "stdout",
     "output_type": "stream",
     "text": [
      "Moviepy - Done !\n",
      "Moviepy - video ready D:\\workspace\\Github\\development_projects\\00_developing\\sayo-voice\\crop_movies\\eve\\s2\\8a45242e586137480e9901dba71d3848.mp4\n",
      "D:\\workspace\\Github\\development_projects\\00_developing\\sayo-voice\\crop_tmp\\eve\\s2\\2eaa62e3f3ca1f6a63e655b35df989e0.mp4 ['7489-7495', '12650-12653', '13724-13726', '28240-28244', '28250-28273', '29536-29569', '29585-29632', '47059-47102', '54805-54814', '54815-54817', '54818-54823', '54905-54949', '57868-57905', '59284-59287', '61577-61579', '62140-62141', '62149-62153', '63643-63644', '66880-66896', '72922-72923', '73231-73234', '79345-79360', '79361-79363', '81929-81932', '94375-94381', '94382-94390', '97112-97114', '101261-101284', '101285-101323', '101324-101326', '101389-101390', '101441-101536', '102392-102394', '102526-102593', '102596-102646', '108886-108997', '109013-109015', '109028-109073', '130382-130384', '130385-130387', '135262-135265', '135844-135847', '135848-135850', '137543-137548', '137552-137560', '137561-137563', '137623-137624', '137626-137683', '137699-137701', '137704-137713', '151090-151093'] D:\\workspace\\Github\\development_projects\\00_developing\\sayo-voice\\crop_movies\\eve\\s2\\2eaa62e3f3ca1f6a63e655b35df989e0.mp4\n",
      "7489 7495\n",
      "12650 12653\n",
      "13724 13726\n",
      "28240 28244\n",
      "28250 28273\n",
      "29536 29569\n",
      "29585 29632\n",
      "47059 47102\n",
      "54805 54814\n",
      "54815 54817\n",
      "54818 54823\n",
      "54905 54949\n",
      "57868 57905\n",
      "59284 59287\n",
      "61577 61579\n",
      "62140 62141\n",
      "62149 62153\n",
      "63643 63644\n",
      "66880 66896\n",
      "72922 72923\n",
      "73231 73234\n",
      "79345 79360\n",
      "79361 79363\n",
      "81929 81932\n",
      "94375 94381\n",
      "94382 94390\n",
      "97112 97114\n",
      "101261 101284\n",
      "101285 101323\n",
      "101324 101326\n",
      "101389 101390\n",
      "101441 101536\n",
      "102392 102394\n",
      "102526 102593\n",
      "102596 102646\n",
      "108886 108997\n",
      "109013 109015\n",
      "109028 109073\n",
      "130382 130384\n",
      "130385 130387\n",
      "135262 135265\n",
      "135844 135847\n",
      "135848 135850\n",
      "137543 137548\n",
      "137552 137560\n",
      "137561 137563\n",
      "137623 137624\n",
      "137626 137683\n",
      "137699 137701\n",
      "137704 137713\n",
      "151090 151093\n"
     ]
    },
    {
     "name": "stderr",
     "output_type": "stream",
     "text": [
      "\r",
      "chunk:   0%|                                                                       | 0/317 [00:00<?, ?it/s, now=None]"
     ]
    },
    {
     "name": "stdout",
     "output_type": "stream",
     "text": [
      "Moviepy - Building video D:\\workspace\\Github\\development_projects\\00_developing\\sayo-voice\\crop_movies\\eve\\s2\\2eaa62e3f3ca1f6a63e655b35df989e0.mp4.\n",
      "MoviePy - Writing audio in 2eaa62e3f3ca1f6a63e655b35df989e0TEMP_MPY_wvf_snd.mp4\n"
     ]
    },
    {
     "name": "stderr",
     "output_type": "stream",
     "text": [
      "t:   0%|▏                                                                  | 3/861 [00:00<00:30, 28.03it/s, now=None]"
     ]
    },
    {
     "name": "stdout",
     "output_type": "stream",
     "text": [
      "MoviePy - Done.\n",
      "Moviepy - Writing video D:\\workspace\\Github\\development_projects\\00_developing\\sayo-voice\\crop_movies\\eve\\s2\\2eaa62e3f3ca1f6a63e655b35df989e0.mp4\n",
      "\n"
     ]
    },
    {
     "name": "stderr",
     "output_type": "stream",
     "text": [
      "                                                                                                                     \r"
     ]
    },
    {
     "name": "stdout",
     "output_type": "stream",
     "text": [
      "Moviepy - Done !\n",
      "Moviepy - video ready D:\\workspace\\Github\\development_projects\\00_developing\\sayo-voice\\crop_movies\\eve\\s2\\2eaa62e3f3ca1f6a63e655b35df989e0.mp4\n",
      "D:\\workspace\\Github\\development_projects\\00_developing\\sayo-voice\\crop_tmp\\eve\\s2\\e2eab4d91f926aec39cc4504436bccff.mp4 ['72784-72785', '72787-72790'] D:\\workspace\\Github\\development_projects\\00_developing\\sayo-voice\\crop_movies\\eve\\s2\\e2eab4d91f926aec39cc4504436bccff.mp4\n",
      "72784 72785\n",
      "72787 72790\n"
     ]
    },
    {
     "name": "stderr",
     "output_type": "stream",
     "text": [
      "\r",
      "chunk:   0%|                                                                         | 0/2 [00:00<?, ?it/s, now=None]"
     ]
    },
    {
     "name": "stdout",
     "output_type": "stream",
     "text": [
      "Moviepy - Building video D:\\workspace\\Github\\development_projects\\00_developing\\sayo-voice\\crop_movies\\eve\\s2\\e2eab4d91f926aec39cc4504436bccff.mp4.\n",
      "MoviePy - Writing audio in e2eab4d91f926aec39cc4504436bccffTEMP_MPY_wvf_snd.mp4\n"
     ]
    },
    {
     "name": "stderr",
     "output_type": "stream",
     "text": [
      "t:  60%|█████████████████████████████████████████▍                           | 3/5 [00:00<00:00, 21.12it/s, now=None]"
     ]
    },
    {
     "name": "stdout",
     "output_type": "stream",
     "text": [
      "MoviePy - Done.\n",
      "Moviepy - Writing video D:\\workspace\\Github\\development_projects\\00_developing\\sayo-voice\\crop_movies\\eve\\s2\\e2eab4d91f926aec39cc4504436bccff.mp4\n",
      "\n"
     ]
    },
    {
     "name": "stderr",
     "output_type": "stream",
     "text": [
      "                                                                                                                     \r"
     ]
    },
    {
     "name": "stdout",
     "output_type": "stream",
     "text": [
      "Moviepy - Done !\n",
      "Moviepy - video ready D:\\workspace\\Github\\development_projects\\00_developing\\sayo-voice\\crop_movies\\eve\\s2\\e2eab4d91f926aec39cc4504436bccff.mp4\n",
      "D:\\workspace\\Github\\development_projects\\00_developing\\sayo-voice\\crop_tmp\\eve\\s2\\b56baf263f8a937c7ffdd843ca16ac6f.mp4 ['1745-1783', '14012-14014', '14029-14030', '20818-20821', '44626-44632', '46436-46439', '46444-46472', '46579-46580', '60709-60710', '67988-68009', '68177-68186', '71746-71747', '97397-97402', '97405-97415', '98195-98206', '98542-98545', '98558-98596', '99539-99541', '99586-99601', '99604-99614', '101903-101905', '101932-101942', '103540-103543', '115789-115792', '145364-145366', '146369-146371', '151534-151552', '151582-151588', '151589-151591'] D:\\workspace\\Github\\development_projects\\00_developing\\sayo-voice\\crop_movies\\eve\\s2\\b56baf263f8a937c7ffdd843ca16ac6f.mp4\n",
      "1745 1783\n",
      "14012 14014\n",
      "14029 14030\n",
      "20818 20821\n",
      "44626 44632\n",
      "46436 46439\n",
      "46444 46472\n",
      "46579 46580\n",
      "60709 60710\n",
      "67988 68009\n",
      "68177 68186\n",
      "71746 71747\n",
      "97397 97402\n",
      "97405 97415\n",
      "98195 98206\n",
      "98542 98545\n",
      "98558 98596\n",
      "99539 99541\n",
      "99586 99601\n",
      "99604 99614\n",
      "101903 101905\n",
      "101932 101942\n",
      "103540 103543\n",
      "115789 115792\n",
      "145364 145366\n",
      "146369 146371\n",
      "151534 151552\n",
      "151582 151588\n",
      "151589 151591\n"
     ]
    },
    {
     "name": "stderr",
     "output_type": "stream",
     "text": [
      "chunk:   2%|█▎                                                              | 2/95 [00:00<00:05, 16.52it/s, now=None]"
     ]
    },
    {
     "name": "stdout",
     "output_type": "stream",
     "text": [
      "Moviepy - Building video D:\\workspace\\Github\\development_projects\\00_developing\\sayo-voice\\crop_movies\\eve\\s2\\b56baf263f8a937c7ffdd843ca16ac6f.mp4.\n",
      "MoviePy - Writing audio in b56baf263f8a937c7ffdd843ca16ac6fTEMP_MPY_wvf_snd.mp4\n"
     ]
    },
    {
     "name": "stderr",
     "output_type": "stream",
     "text": [
      "t:   1%|▊                                                                  | 3/257 [00:00<00:09, 26.31it/s, now=None]"
     ]
    },
    {
     "name": "stdout",
     "output_type": "stream",
     "text": [
      "MoviePy - Done.\n",
      "Moviepy - Writing video D:\\workspace\\Github\\development_projects\\00_developing\\sayo-voice\\crop_movies\\eve\\s2\\b56baf263f8a937c7ffdd843ca16ac6f.mp4\n",
      "\n"
     ]
    },
    {
     "name": "stderr",
     "output_type": "stream",
     "text": [
      "                                                                                                                     \r"
     ]
    },
    {
     "name": "stdout",
     "output_type": "stream",
     "text": [
      "Moviepy - Done !\n",
      "Moviepy - video ready D:\\workspace\\Github\\development_projects\\00_developing\\sayo-voice\\crop_movies\\eve\\s2\\b56baf263f8a937c7ffdd843ca16ac6f.mp4\n",
      "D:\\workspace\\Github\\development_projects\\00_developing\\sayo-voice\\crop_tmp\\eve\\s2\\9232b129b63355b64c5343538b837241.mp4 ['439-440', '14081-14083', '14092-14095'] D:\\workspace\\Github\\development_projects\\00_developing\\sayo-voice\\crop_movies\\eve\\s2\\9232b129b63355b64c5343538b837241.mp4\n",
      "439 440\n",
      "14081 14083\n",
      "14092 14095\n"
     ]
    },
    {
     "name": "stderr",
     "output_type": "stream",
     "text": [
      "\r",
      "chunk:   0%|                                                                         | 0/3 [00:00<?, ?it/s, now=None]"
     ]
    },
    {
     "name": "stdout",
     "output_type": "stream",
     "text": [
      "Moviepy - Building video D:\\workspace\\Github\\development_projects\\00_developing\\sayo-voice\\crop_movies\\eve\\s2\\9232b129b63355b64c5343538b837241.mp4.\n",
      "MoviePy - Writing audio in 9232b129b63355b64c5343538b837241TEMP_MPY_wvf_snd.mp4\n"
     ]
    },
    {
     "name": "stderr",
     "output_type": "stream",
     "text": [
      "t:   0%|                                                                             | 0/6 [00:00<?, ?it/s, now=None]"
     ]
    },
    {
     "name": "stdout",
     "output_type": "stream",
     "text": [
      "MoviePy - Done.\n",
      "Moviepy - Writing video D:\\workspace\\Github\\development_projects\\00_developing\\sayo-voice\\crop_movies\\eve\\s2\\9232b129b63355b64c5343538b837241.mp4\n",
      "\n"
     ]
    },
    {
     "name": "stderr",
     "output_type": "stream",
     "text": [
      "                                                                                                                     \r"
     ]
    },
    {
     "name": "stdout",
     "output_type": "stream",
     "text": [
      "Moviepy - Done !\n",
      "Moviepy - video ready D:\\workspace\\Github\\development_projects\\00_developing\\sayo-voice\\crop_movies\\eve\\s2\\9232b129b63355b64c5343538b837241.mp4\n",
      "D:\\workspace\\Github\\development_projects\\00_developing\\sayo-voice\\crop_tmp\\eve\\s2\\14192d3ac2d8163dfa46637ac0281efd.mp4 ['23167-23168', '108848-108851', '108866-108871'] D:\\workspace\\Github\\development_projects\\00_developing\\sayo-voice\\crop_movies\\eve\\s2\\14192d3ac2d8163dfa46637ac0281efd.mp4\n",
      "23167 23168\n",
      "108848 108851\n",
      "108866 108871\n"
     ]
    },
    {
     "name": "stderr",
     "output_type": "stream",
     "text": [
      "\r",
      "chunk:   0%|                                                                         | 0/4 [00:00<?, ?it/s, now=None]"
     ]
    },
    {
     "name": "stdout",
     "output_type": "stream",
     "text": [
      "Moviepy - Building video D:\\workspace\\Github\\development_projects\\00_developing\\sayo-voice\\crop_movies\\eve\\s2\\14192d3ac2d8163dfa46637ac0281efd.mp4.\n",
      "MoviePy - Writing audio in 14192d3ac2d8163dfa46637ac0281efdTEMP_MPY_wvf_snd.mp4\n"
     ]
    },
    {
     "name": "stderr",
     "output_type": "stream",
     "text": [
      "t:   0%|                                                                             | 0/9 [00:00<?, ?it/s, now=None]"
     ]
    },
    {
     "name": "stdout",
     "output_type": "stream",
     "text": [
      "MoviePy - Done.\n",
      "Moviepy - Writing video D:\\workspace\\Github\\development_projects\\00_developing\\sayo-voice\\crop_movies\\eve\\s2\\14192d3ac2d8163dfa46637ac0281efd.mp4\n",
      "\n"
     ]
    },
    {
     "name": "stderr",
     "output_type": "stream",
     "text": [
      "                                                                                                                     \r"
     ]
    },
    {
     "name": "stdout",
     "output_type": "stream",
     "text": [
      "Moviepy - Done !\n",
      "Moviepy - video ready D:\\workspace\\Github\\development_projects\\00_developing\\sayo-voice\\crop_movies\\eve\\s2\\14192d3ac2d8163dfa46637ac0281efd.mp4\n",
      "D:\\workspace\\Github\\development_projects\\00_developing\\sayo-voice\\crop_tmp\\eve\\s2\\6295f59a90765bf753033c117339c37b.mp4 ['66536-66538', '97457-97459', '97460-97462'] D:\\workspace\\Github\\development_projects\\00_developing\\sayo-voice\\crop_movies\\eve\\s2\\6295f59a90765bf753033c117339c37b.mp4\n",
      "66536 66538\n",
      "97457 97459\n",
      "97460 97462\n"
     ]
    },
    {
     "name": "stderr",
     "output_type": "stream",
     "text": [
      "\r",
      "chunk:   0%|                                                                         | 0/3 [00:00<?, ?it/s, now=None]"
     ]
    },
    {
     "name": "stdout",
     "output_type": "stream",
     "text": [
      "Moviepy - Building video D:\\workspace\\Github\\development_projects\\00_developing\\sayo-voice\\crop_movies\\eve\\s2\\6295f59a90765bf753033c117339c37b.mp4.\n",
      "MoviePy - Writing audio in 6295f59a90765bf753033c117339c37bTEMP_MPY_wvf_snd.mp4\n"
     ]
    },
    {
     "name": "stderr",
     "output_type": "stream",
     "text": [
      "t:  50%|██████████████████████████████████▌                                  | 3/6 [00:00<00:00, 28.56it/s, now=None]"
     ]
    },
    {
     "name": "stdout",
     "output_type": "stream",
     "text": [
      "MoviePy - Done.\n",
      "Moviepy - Writing video D:\\workspace\\Github\\development_projects\\00_developing\\sayo-voice\\crop_movies\\eve\\s2\\6295f59a90765bf753033c117339c37b.mp4\n",
      "\n"
     ]
    },
    {
     "name": "stderr",
     "output_type": "stream",
     "text": [
      "                                                                                                                     \r"
     ]
    },
    {
     "name": "stdout",
     "output_type": "stream",
     "text": [
      "Moviepy - Done !\n",
      "Moviepy - video ready D:\\workspace\\Github\\development_projects\\00_developing\\sayo-voice\\crop_movies\\eve\\s2\\6295f59a90765bf753033c117339c37b.mp4\n",
      "D:\\workspace\\Github\\development_projects\\00_developing\\sayo-voice\\crop_tmp\\eve\\s2\\0c5f2e7d7904472c91742a539c56018c.mp4 ['238-392', '1795-1796', '2296-2300', '2710-2713', '4460-4462'] D:\\workspace\\Github\\development_projects\\00_developing\\sayo-voice\\crop_movies\\eve\\s2\\0c5f2e7d7904472c91742a539c56018c.mp4\n",
      "238 392\n",
      "1795 1796\n",
      "2296 2300\n",
      "2710 2713\n",
      "4460 4462\n"
     ]
    },
    {
     "name": "stderr",
     "output_type": "stream",
     "text": [
      "chunk:   7%|████▎                                                           | 6/88 [00:00<00:01, 59.51it/s, now=None]"
     ]
    },
    {
     "name": "stdout",
     "output_type": "stream",
     "text": [
      "Moviepy - Building video D:\\workspace\\Github\\development_projects\\00_developing\\sayo-voice\\crop_movies\\eve\\s2\\0c5f2e7d7904472c91742a539c56018c.mp4.\n",
      "MoviePy - Writing audio in 0c5f2e7d7904472c91742a539c56018cTEMP_MPY_wvf_snd.mp4\n"
     ]
    },
    {
     "name": "stderr",
     "output_type": "stream",
     "text": [
      "t:   2%|█▏                                                                 | 3/164 [00:00<00:06, 25.86it/s, now=None]"
     ]
    },
    {
     "name": "stdout",
     "output_type": "stream",
     "text": [
      "MoviePy - Done.\n",
      "Moviepy - Writing video D:\\workspace\\Github\\development_projects\\00_developing\\sayo-voice\\crop_movies\\eve\\s2\\0c5f2e7d7904472c91742a539c56018c.mp4\n",
      "\n"
     ]
    },
    {
     "name": "stderr",
     "output_type": "stream",
     "text": [
      "                                                                                                                     \r"
     ]
    },
    {
     "name": "stdout",
     "output_type": "stream",
     "text": [
      "Moviepy - Done !\n",
      "Moviepy - video ready D:\\workspace\\Github\\development_projects\\00_developing\\sayo-voice\\crop_movies\\eve\\s2\\0c5f2e7d7904472c91742a539c56018c.mp4\n",
      "\n"
     ]
    }
   ],
   "source": [
    "def main():\n",
    "    cwd = os.getcwd()\n",
    "    movie_dir = os.path.join(cwd, 'movies')\n",
    "    \n",
    "    for series_name in CLIP_TARGET_FOLDER_NAMES:\n",
    "        for charactor_name in CHARACTOR_NAMES:\n",
    "            movies = list_files(os.path.join(movie_dir, series_name))\n",
    "            record_dir = os.path.join(cwd, \"02.clip\", \"records\", charactor_name, series_name)\n",
    "            records = list_files(record_dir)\n",
    "\n",
    "            crop_dir = os.path.join(cwd, 'crop_movies', charactor_name, series_name)\n",
    "            if not os.path.exists(crop_dir):\n",
    "                os.makedirs(crop_dir, exist_ok=True)\n",
    "\n",
    "            tmp_dir = os.path.join(cwd, 'crop_tmp', charactor_name, series_name)\n",
    "            if not os.path.exists(tmp_dir):\n",
    "                os.makedirs(tmp_dir, exist_ok=True)\n",
    "\n",
    "            pbar = tqdm(records)\n",
    "            for p in pbar:\n",
    "                with open(p, encoding='UTF-8') as f:\n",
    "                    lines = f.readlines()\n",
    "                    movie_raw_file_path = lines[0].strip()\n",
    "                    movie_encoded_file_name = lines[1].strip()\n",
    "                    clips = list(map(lambda x: x.strip(), lines[2:]))\n",
    "                    if len(clips) == 0: \n",
    "                        pbar.update(1)\n",
    "                        continue\n",
    "                    dst = os.path.join(crop_dir, movie_encoded_file_name)\n",
    "                    if os.path.exists(dst): \n",
    "                        pbar.update(1)\n",
    "                        continue\n",
    "                    tmp_file_path = os.path.join(tmp_dir, movie_encoded_file_name)\n",
    "                    shutil.copy2(movie_raw_file_path, tmp_file_path)\n",
    "                    clip_movie(tmp_file_path, clips, dst)\n",
    "\n",
    "if __name__ == \"__main__\":\n",
    "    print(datetime.now().strftime('%Y-%m-%d %H:%M:%S'))\n",
    "    main()\n",
    "    "
   ]
  },
  {
   "cell_type": "code",
   "execution_count": null,
   "metadata": {},
   "outputs": [],
   "source": []
  },
  {
   "cell_type": "code",
   "execution_count": null,
   "metadata": {},
   "outputs": [],
   "source": []
  }
 ],
 "metadata": {
  "kernelspec": {
   "display_name": "Python 3",
   "language": "python",
   "name": "python3"
  },
  "language_info": {
   "codemirror_mode": {
    "name": "ipython",
    "version": 3
   },
   "file_extension": ".py",
   "mimetype": "text/x-python",
   "name": "python",
   "nbconvert_exporter": "python",
   "pygments_lexer": "ipython3",
   "version": "3.8.5"
  }
 },
 "nbformat": 4,
 "nbformat_minor": 4
}
