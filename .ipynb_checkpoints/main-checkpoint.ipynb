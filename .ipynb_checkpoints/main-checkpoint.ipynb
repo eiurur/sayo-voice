{
 "cells": [
  {
   "cell_type": "code",
   "execution_count": 85,
   "metadata": {},
   "outputs": [],
   "source": [
    "from __future__ import print_function\n",
    "import sys\n",
    "import cv2\n",
    "import os\n",
    "import math\n",
    "import glob\n",
    "from PIL import Image\n",
    "import numpy as np\n",
    "import matplotlib.pyplot as plt\n",
    "from tqdm.notebook import tqdm\n",
    "from datetime import datetime\n",
    "import time\n",
    "import threading\n",
    "from multiprocessing import Pool\n",
    "\n",
    "%matplotlib inline\n"
   ]
  },
  {
   "cell_type": "code",
   "execution_count": 86,
   "metadata": {},
   "outputs": [
    {
     "data": {
      "text/plain": [
       "'\\nimport pyocr\\nimport pyocr.builders\\n\\n# 1.インストール済みのTesseractのパスを通す\\nTESSERACT_PATH = \"C:\\\\Users\\\\eiuru\\\\AppData\\\\Local\\\\Tesseract-OCR\"\\nTESSDATA_PATH = \\'C:\\\\Users\\\\eiuru\\\\AppData\\\\Local\\\\Tesseract-OCR\\\\tessdata\\'\\n\\nif TESSERACT_PATH not in os.environ[\"PATH\"].split(os.pathsep):\\n    os.environ[\"PATH\"] += os.pathsep + TESSERACT_PATH\\n    os.environ[\"TESSDATA_PREFIX\"] = TESSDATA_PATH\\n    \\n# 2.OCRエンジンの取得\\ntools = pyocr.get_available_tools()\\nif len(tools) == 0:\\n    print(\"No OCR tool found\")\\n    sys.exit(1)\\ntool = tools[0]\\n\\nprint(\"Will use tool \\'%s\\'\" % (tool.get_name())) # 使用するOCRツールの名前が出ます，変えたい場合は一個前の参照先を変えること\\n\\nlangs = tool.get_available_languages() # 使用できる言語の確認\\nprint(\"Available languages: %s\" % \", \".join(langs))\\n\\nlang = langs[0]\\nprint(\"Will use lang \\'%s\\'\" % (lang)) # 使用する言語について\\n'"
      ]
     },
     "execution_count": 86,
     "metadata": {},
     "output_type": "execute_result"
    }
   ],
   "source": [
    "\"\"\"\n",
    "import pyocr\n",
    "import pyocr.builders\n",
    "\n",
    "# 1.インストール済みのTesseractのパスを通す\n",
    "TESSERACT_PATH = \"C:\\\\Users\\eiuru\\\\AppData\\\\Local\\\\Tesseract-OCR\"\n",
    "TESSDATA_PATH = 'C:\\\\Users\\\\eiuru\\\\AppData\\\\Local\\\\Tesseract-OCR\\\\tessdata'\n",
    "\n",
    "if TESSERACT_PATH not in os.environ[\"PATH\"].split(os.pathsep):\n",
    "    os.environ[\"PATH\"] += os.pathsep + TESSERACT_PATH\n",
    "    os.environ[\"TESSDATA_PREFIX\"] = TESSDATA_PATH\n",
    "    \n",
    "# 2.OCRエンジンの取得\n",
    "tools = pyocr.get_available_tools()\n",
    "if len(tools) == 0:\n",
    "    print(\"No OCR tool found\")\n",
    "    sys.exit(1)\n",
    "tool = tools[0]\n",
    "\n",
    "print(\"Will use tool '%s'\" % (tool.get_name())) # 使用するOCRツールの名前が出ます，変えたい場合は一個前の参照先を変えること\n",
    "\n",
    "langs = tool.get_available_languages() # 使用できる言語の確認\n",
    "print(\"Available languages: %s\" % \", \".join(langs))\n",
    "\n",
    "lang = langs[0]\n",
    "print(\"Will use lang '%s'\" % (lang)) # 使用する言語について\n",
    "\"\"\""
   ]
  },
  {
   "cell_type": "code",
   "execution_count": 87,
   "metadata": {},
   "outputs": [
    {
     "name": "stdout",
     "output_type": "stream",
     "text": [
      "OpenCV: 4.4.0\n"
     ]
    }
   ],
   "source": [
    "#print('numpy:', np.__version__)\n",
    "#print('pandas:', pd.__version__)\n",
    "#print('matplotlib:', mplv)\n",
    "print('OpenCV:', cv2.__version__)"
   ]
  },
  {
   "cell_type": "code",
   "execution_count": 88,
   "metadata": {},
   "outputs": [],
   "source": [
    "THRESHOLD = 50.0"
   ]
  },
  {
   "cell_type": "code",
   "execution_count": 89,
   "metadata": {},
   "outputs": [],
   "source": [
    "def list_files(dir):\n",
    "    return [os.path.join(dir, p.name) for p in os.scandir(dir)]"
   ]
  },
  {
   "cell_type": "code",
   "execution_count": 90,
   "metadata": {},
   "outputs": [],
   "source": [
    "def capture(p):\n",
    "    records = [p]\n",
    "\n",
    "    cwd = os.getcwd()\n",
    "    name_file = os.path.join(cwd, 'name.png')\n",
    "\n",
    "    cap = cv2.VideoCapture(p)\n",
    "    frame_count = int(cap.get(cv2.CAP_PROP_FRAME_COUNT))\n",
    "    fps = int(cap.get(cv2.CAP_PROP_FPS))\n",
    "    print(\"PATH: \", p)\n",
    "    print(\"FRAME_COUNT: \", frame_count)\n",
    "    print(\"FPS: \", fps)\n",
    "\n",
    "    start_frame = -1\n",
    "    start_pos = 0 # fps:  fps * (60 * 20) .. 20分\n",
    "    \n",
    "    pbar = tqdm(range(start_pos, frame_count, int(fps/15)))\n",
    "    for idx in pbar:\n",
    "        cap.set(cv2.CAP_PROP_POS_FRAMES, idx)\n",
    "        current_pos = str(int(cap.get(cv2.CAP_PROP_POS_FRAMES)))\n",
    "        ret, frame = cap.read()\n",
    "        if frame is None: continue\n",
    "            \n",
    "        rgb = cv2.cvtColor(frame, cv2.COLOR_BGR2GRAY)\n",
    "        (height, width) = rgb.shape[:2]\n",
    "        if height != 1080 and width != 1920: break\n",
    "\n",
    "        # print(height, width)\n",
    "        crop = rgb[780:850, 230:450] # 1920 x 1080:  rgb[775:850, 200:660]　, [790:840, 230:350] \n",
    "        serif = rgb[780:1050, 200:1600] # 1920 x 1080:  rgb[775:850, 200:660]　, [790:840, 230:350] \n",
    "        \"\"\"\n",
    "        plt.gray()\n",
    "        plt.imshow(crop)\n",
    "        plt.imshow(serif)\n",
    "        plt.show()\n",
    "        \"\"\"\n",
    "        crop_image_path = os.path.join(cwd, 'temp.png')\n",
    "        cv2.imwrite(crop_image_path, crop)\n",
    "\n",
    "        target_img = cv2.imread(crop_image_path, cv2.IMREAD_GRAYSCALE)\n",
    "        comparing_img = cv2.imread(name_file, cv2.IMREAD_GRAYSCALE)\n",
    "        detector = cv2.ORB_create()\n",
    "        (target_kp, target_des) = detector.detectAndCompute(target_img, None)\n",
    "        (comparing_kp, comparing_des) = detector.detectAndCompute(comparing_img, None)\n",
    "\n",
    "        bf = cv2.BFMatcher(cv2.NORM_HAMMING, crossCheck=True)\n",
    "        matches = bf.match(target_des, comparing_des)\n",
    "        matches = sorted(matches, key = lambda x:x.distance)\n",
    "        dist = [m.distance for m in matches]\n",
    "        if len(dist) == 0: continue\n",
    "        ret = sum(dist) / len(dist)\n",
    "        if start_frame == -1 and ret <= THRESHOLD:\n",
    "            start_frame = idx\n",
    "        if start_frame != -1 and ret > THRESHOLD:\n",
    "            end_frame = idx\n",
    "            records.append(\"{}-{}\".format(start_frame, end_frame))\n",
    "            start_frame = -1\n",
    "        # print(ret)\n",
    "    cap.release()\n",
    "    return records\n"
   ]
  },
  {
   "cell_type": "code",
   "execution_count": 91,
   "metadata": {},
   "outputs": [],
   "source": [
    "def sample_func(pbar, p, record_dir):\n",
    "    print('process index: %s started.' % process_index)\n",
    "    try:\n",
    "        print(p)\n",
    "        p_without_ext = os.path.splitext(os.path.basename(p))[0]\n",
    "        record_file = os.path.join(record_dir, \"{}.txt\".format(p_without_ext))\n",
    "        if os.path.exists(record_file):\n",
    "            pbar.update(1)\n",
    "            return\n",
    "\n",
    "        records = capture(p)\n",
    "        with open(record_file, \"w\", encoding='UTF-8') as f:\n",
    "            print(record_file, records)\n",
    "            f.write('\\n'.join(records))\n",
    "    except Exception as e:\n",
    "        print(\"ERROR: \", p)\n",
    "        print(e)\n",
    "        pbar.update(1)\n",
    "    print('process index: %s ended.' % process_index)"
   ]
  },
  {
   "cell_type": "code",
   "execution_count": 92,
   "metadata": {
    "scrolled": true
   },
   "outputs": [
    {
     "name": "stdout",
     "output_type": "stream",
     "text": [
      "2020-11-01 17:55:38\n"
     ]
    },
    {
     "data": {
      "application/vnd.jupyter.widget-view+json": {
       "model_id": "550de2e5830a42d6b26d43ecb1bce13c",
       "version_major": 2,
       "version_minor": 0
      },
      "text/plain": [
       "HBox(children=(HTML(value=''), FloatProgress(value=0.0, max=76.0), HTML(value='')))"
      ]
     },
     "metadata": {},
     "output_type": "display_data"
    },
    {
     "name": "stdout",
     "output_type": "stream",
     "text": [
      "\n"
     ]
    },
    {
     "ename": "PicklingError",
     "evalue": "Can't pickle <function <lambda> at 0x000001C98407C2F0>: attribute lookup <lambda> on jupyter_client.session failed",
     "output_type": "error",
     "traceback": [
      "\u001b[1;31m-------------------------------------------------------\u001b[0m",
      "\u001b[1;31mPicklingError\u001b[0m         Traceback (most recent call last)",
      "\u001b[1;32m<ipython-input-92-ade75c474087>\u001b[0m in \u001b[0;36m<module>\u001b[1;34m\u001b[0m\n\u001b[0;32m     31\u001b[0m \u001b[1;32mif\u001b[0m \u001b[0m__name__\u001b[0m \u001b[1;33m==\u001b[0m \u001b[1;34m\"__main__\"\u001b[0m\u001b[1;33m:\u001b[0m\u001b[1;33m\u001b[0m\u001b[1;33m\u001b[0m\u001b[0m\n\u001b[0;32m     32\u001b[0m     \u001b[0mprint\u001b[0m\u001b[1;33m(\u001b[0m\u001b[0mdatetime\u001b[0m\u001b[1;33m.\u001b[0m\u001b[0mnow\u001b[0m\u001b[1;33m(\u001b[0m\u001b[1;33m)\u001b[0m\u001b[1;33m.\u001b[0m\u001b[0mstrftime\u001b[0m\u001b[1;33m(\u001b[0m\u001b[1;34m'%Y-%m-%d %H:%M:%S'\u001b[0m\u001b[1;33m)\u001b[0m\u001b[1;33m)\u001b[0m\u001b[1;33m\u001b[0m\u001b[1;33m\u001b[0m\u001b[0m\n\u001b[1;32m---> 33\u001b[1;33m     \u001b[0mmain\u001b[0m\u001b[1;33m(\u001b[0m\u001b[1;33m)\u001b[0m\u001b[1;33m\u001b[0m\u001b[1;33m\u001b[0m\u001b[0m\n\u001b[0m\u001b[0;32m     34\u001b[0m \u001b[1;33m\u001b[0m\u001b[0m\n",
      "\u001b[1;32m<ipython-input-92-ade75c474087>\u001b[0m in \u001b[0;36mmain\u001b[1;34m()\u001b[0m\n\u001b[0;32m     27\u001b[0m                 \u001b[0mresults\u001b[0m \u001b[1;33m=\u001b[0m \u001b[1;33m[\u001b[0m\u001b[0mpool\u001b[0m\u001b[1;33m.\u001b[0m\u001b[0mapply_async\u001b[0m\u001b[1;33m(\u001b[0m\u001b[0msample_func\u001b[0m\u001b[1;33m,\u001b[0m \u001b[0mparam\u001b[0m\u001b[1;33m)\u001b[0m \u001b[1;32mfor\u001b[0m \u001b[0mparam\u001b[0m \u001b[1;32min\u001b[0m \u001b[0mparams\u001b[0m\u001b[1;33m]\u001b[0m\u001b[1;33m\u001b[0m\u001b[1;33m\u001b[0m\u001b[0m\n\u001b[0;32m     28\u001b[0m                 \u001b[1;32mfor\u001b[0m \u001b[0mr\u001b[0m \u001b[1;32min\u001b[0m \u001b[0mresults\u001b[0m\u001b[1;33m:\u001b[0m\u001b[1;33m\u001b[0m\u001b[1;33m\u001b[0m\u001b[0m\n\u001b[1;32m---> 29\u001b[1;33m                     \u001b[0mprint\u001b[0m\u001b[1;33m(\u001b[0m\u001b[1;34m'\\t'\u001b[0m\u001b[1;33m,\u001b[0m \u001b[0mr\u001b[0m\u001b[1;33m.\u001b[0m\u001b[0mget\u001b[0m\u001b[1;33m(\u001b[0m\u001b[1;33m)\u001b[0m\u001b[1;33m)\u001b[0m\u001b[1;33m\u001b[0m\u001b[1;33m\u001b[0m\u001b[0m\n\u001b[0m\u001b[0;32m     30\u001b[0m \u001b[1;33m\u001b[0m\u001b[0m\n\u001b[0;32m     31\u001b[0m \u001b[1;32mif\u001b[0m \u001b[0m__name__\u001b[0m \u001b[1;33m==\u001b[0m \u001b[1;34m\"__main__\"\u001b[0m\u001b[1;33m:\u001b[0m\u001b[1;33m\u001b[0m\u001b[1;33m\u001b[0m\u001b[0m\n",
      "\u001b[1;32m~\\Anaconda3\\envs\\py36-keras-cntk\\lib\\multiprocessing\\pool.py\u001b[0m in \u001b[0;36mget\u001b[1;34m(self, timeout)\u001b[0m\n\u001b[0;32m    642\u001b[0m             \u001b[1;32mreturn\u001b[0m \u001b[0mself\u001b[0m\u001b[1;33m.\u001b[0m\u001b[0m_value\u001b[0m\u001b[1;33m\u001b[0m\u001b[1;33m\u001b[0m\u001b[0m\n\u001b[0;32m    643\u001b[0m         \u001b[1;32melse\u001b[0m\u001b[1;33m:\u001b[0m\u001b[1;33m\u001b[0m\u001b[1;33m\u001b[0m\u001b[0m\n\u001b[1;32m--> 644\u001b[1;33m             \u001b[1;32mraise\u001b[0m \u001b[0mself\u001b[0m\u001b[1;33m.\u001b[0m\u001b[0m_value\u001b[0m\u001b[1;33m\u001b[0m\u001b[1;33m\u001b[0m\u001b[0m\n\u001b[0m\u001b[0;32m    645\u001b[0m \u001b[1;33m\u001b[0m\u001b[0m\n\u001b[0;32m    646\u001b[0m     \u001b[1;32mdef\u001b[0m \u001b[0m_set\u001b[0m\u001b[1;33m(\u001b[0m\u001b[0mself\u001b[0m\u001b[1;33m,\u001b[0m \u001b[0mi\u001b[0m\u001b[1;33m,\u001b[0m \u001b[0mobj\u001b[0m\u001b[1;33m)\u001b[0m\u001b[1;33m:\u001b[0m\u001b[1;33m\u001b[0m\u001b[1;33m\u001b[0m\u001b[0m\n",
      "\u001b[1;32m~\\Anaconda3\\envs\\py36-keras-cntk\\lib\\multiprocessing\\pool.py\u001b[0m in \u001b[0;36m_handle_tasks\u001b[1;34m(taskqueue, put, outqueue, pool, cache)\u001b[0m\n\u001b[0;32m    422\u001b[0m                         \u001b[1;32mbreak\u001b[0m\u001b[1;33m\u001b[0m\u001b[1;33m\u001b[0m\u001b[0m\n\u001b[0;32m    423\u001b[0m                     \u001b[1;32mtry\u001b[0m\u001b[1;33m:\u001b[0m\u001b[1;33m\u001b[0m\u001b[1;33m\u001b[0m\u001b[0m\n\u001b[1;32m--> 424\u001b[1;33m                         \u001b[0mput\u001b[0m\u001b[1;33m(\u001b[0m\u001b[0mtask\u001b[0m\u001b[1;33m)\u001b[0m\u001b[1;33m\u001b[0m\u001b[1;33m\u001b[0m\u001b[0m\n\u001b[0m\u001b[0;32m    425\u001b[0m                     \u001b[1;32mexcept\u001b[0m \u001b[0mException\u001b[0m \u001b[1;32mas\u001b[0m \u001b[0me\u001b[0m\u001b[1;33m:\u001b[0m\u001b[1;33m\u001b[0m\u001b[1;33m\u001b[0m\u001b[0m\n\u001b[0;32m    426\u001b[0m                         \u001b[0mjob\u001b[0m\u001b[1;33m,\u001b[0m \u001b[0midx\u001b[0m \u001b[1;33m=\u001b[0m \u001b[0mtask\u001b[0m\u001b[1;33m[\u001b[0m\u001b[1;33m:\u001b[0m\u001b[1;36m2\u001b[0m\u001b[1;33m]\u001b[0m\u001b[1;33m\u001b[0m\u001b[1;33m\u001b[0m\u001b[0m\n",
      "\u001b[1;32m~\\Anaconda3\\envs\\py36-keras-cntk\\lib\\multiprocessing\\connection.py\u001b[0m in \u001b[0;36msend\u001b[1;34m(self, obj)\u001b[0m\n\u001b[0;32m    204\u001b[0m         \u001b[0mself\u001b[0m\u001b[1;33m.\u001b[0m\u001b[0m_check_closed\u001b[0m\u001b[1;33m(\u001b[0m\u001b[1;33m)\u001b[0m\u001b[1;33m\u001b[0m\u001b[1;33m\u001b[0m\u001b[0m\n\u001b[0;32m    205\u001b[0m         \u001b[0mself\u001b[0m\u001b[1;33m.\u001b[0m\u001b[0m_check_writable\u001b[0m\u001b[1;33m(\u001b[0m\u001b[1;33m)\u001b[0m\u001b[1;33m\u001b[0m\u001b[1;33m\u001b[0m\u001b[0m\n\u001b[1;32m--> 206\u001b[1;33m         \u001b[0mself\u001b[0m\u001b[1;33m.\u001b[0m\u001b[0m_send_bytes\u001b[0m\u001b[1;33m(\u001b[0m\u001b[0m_ForkingPickler\u001b[0m\u001b[1;33m.\u001b[0m\u001b[0mdumps\u001b[0m\u001b[1;33m(\u001b[0m\u001b[0mobj\u001b[0m\u001b[1;33m)\u001b[0m\u001b[1;33m)\u001b[0m\u001b[1;33m\u001b[0m\u001b[1;33m\u001b[0m\u001b[0m\n\u001b[0m\u001b[0;32m    207\u001b[0m \u001b[1;33m\u001b[0m\u001b[0m\n\u001b[0;32m    208\u001b[0m     \u001b[1;32mdef\u001b[0m \u001b[0mrecv_bytes\u001b[0m\u001b[1;33m(\u001b[0m\u001b[0mself\u001b[0m\u001b[1;33m,\u001b[0m \u001b[0mmaxlength\u001b[0m\u001b[1;33m=\u001b[0m\u001b[1;32mNone\u001b[0m\u001b[1;33m)\u001b[0m\u001b[1;33m:\u001b[0m\u001b[1;33m\u001b[0m\u001b[1;33m\u001b[0m\u001b[0m\n",
      "\u001b[1;32m~\\Anaconda3\\envs\\py36-keras-cntk\\lib\\multiprocessing\\reduction.py\u001b[0m in \u001b[0;36mdumps\u001b[1;34m(cls, obj, protocol)\u001b[0m\n\u001b[0;32m     49\u001b[0m     \u001b[1;32mdef\u001b[0m \u001b[0mdumps\u001b[0m\u001b[1;33m(\u001b[0m\u001b[0mcls\u001b[0m\u001b[1;33m,\u001b[0m \u001b[0mobj\u001b[0m\u001b[1;33m,\u001b[0m \u001b[0mprotocol\u001b[0m\u001b[1;33m=\u001b[0m\u001b[1;32mNone\u001b[0m\u001b[1;33m)\u001b[0m\u001b[1;33m:\u001b[0m\u001b[1;33m\u001b[0m\u001b[1;33m\u001b[0m\u001b[0m\n\u001b[0;32m     50\u001b[0m         \u001b[0mbuf\u001b[0m \u001b[1;33m=\u001b[0m \u001b[0mio\u001b[0m\u001b[1;33m.\u001b[0m\u001b[0mBytesIO\u001b[0m\u001b[1;33m(\u001b[0m\u001b[1;33m)\u001b[0m\u001b[1;33m\u001b[0m\u001b[1;33m\u001b[0m\u001b[0m\n\u001b[1;32m---> 51\u001b[1;33m         \u001b[0mcls\u001b[0m\u001b[1;33m(\u001b[0m\u001b[0mbuf\u001b[0m\u001b[1;33m,\u001b[0m \u001b[0mprotocol\u001b[0m\u001b[1;33m)\u001b[0m\u001b[1;33m.\u001b[0m\u001b[0mdump\u001b[0m\u001b[1;33m(\u001b[0m\u001b[0mobj\u001b[0m\u001b[1;33m)\u001b[0m\u001b[1;33m\u001b[0m\u001b[1;33m\u001b[0m\u001b[0m\n\u001b[0m\u001b[0;32m     52\u001b[0m         \u001b[1;32mreturn\u001b[0m \u001b[0mbuf\u001b[0m\u001b[1;33m.\u001b[0m\u001b[0mgetbuffer\u001b[0m\u001b[1;33m(\u001b[0m\u001b[1;33m)\u001b[0m\u001b[1;33m\u001b[0m\u001b[1;33m\u001b[0m\u001b[0m\n\u001b[0;32m     53\u001b[0m \u001b[1;33m\u001b[0m\u001b[0m\n",
      "\u001b[1;31mPicklingError\u001b[0m: Can't pickle <function <lambda> at 0x000001C98407C2F0>: attribute lookup <lambda> on jupyter_client.session failed"
     ]
    }
   ],
   "source": [
    "def main():\n",
    "    cwd = os.getcwd()\n",
    "    movie_dir = os.path.join(cwd, 'movies')\n",
    "    \"\"\"\n",
    "    test_movies = list_files(os.path.join(movie_dir, 'test'))\n",
    "    band_movies = list_files(os.path.join(movie_dir, 'band'))\n",
    "    s1_movies = list_files(os.path.join(movie_dir, 's1')) \n",
    "    s2_movies = list_files(os.path.join(movie_dir, 's2')) \n",
    "    \"\"\"\n",
    "    crop_dir = os.path.join(cwd, 'crops')\n",
    "    if not os.path.exists(crop_dir):\n",
    "        os.makedirs(crop_dir, exist_ok=True)\n",
    "    \n",
    "    for series_name in ['s1', 's2']:\n",
    "        movies = list_files(os.path.join(movie_dir, series_name))\n",
    "        record_dir = os.path.join(cwd, \"records\", series_name)\n",
    "        if not os.path.exists(record_dir):\n",
    "            os.makedirs(record_dir, exist_ok=True)\n",
    "\n",
    "        process_list = []\n",
    "        pbar = tqdm(movies)\n",
    "        for p in pbar:\n",
    "            params = []\n",
    "            for movie in movies:\n",
    "                params.append((pbar, record_dir, movie))\n",
    "            with Pool(4) as pool:\n",
    "                results = [pool.apply_async(sample_func, param) for param in params]\n",
    "                for r in results:\n",
    "                    print('\\t', r.get())\n",
    "\n",
    "if __name__ == \"__main__\":\n",
    "    print(datetime.now().strftime('%Y-%m-%d %H:%M:%S'))\n",
    "    main()\n",
    "    "
   ]
  },
  {
   "cell_type": "code",
   "execution_count": null,
   "metadata": {},
   "outputs": [],
   "source": []
  },
  {
   "cell_type": "code",
   "execution_count": null,
   "metadata": {},
   "outputs": [],
   "source": []
  }
 ],
 "metadata": {
  "kernelspec": {
   "display_name": "Python 3",
   "language": "python",
   "name": "python3"
  },
  "language_info": {
   "codemirror_mode": {
    "name": "ipython",
    "version": 3
   },
   "file_extension": ".py",
   "mimetype": "text/x-python",
   "name": "python",
   "nbconvert_exporter": "python",
   "pygments_lexer": "ipython3",
   "version": "3.6.10"
  }
 },
 "nbformat": 4,
 "nbformat_minor": 4
}
